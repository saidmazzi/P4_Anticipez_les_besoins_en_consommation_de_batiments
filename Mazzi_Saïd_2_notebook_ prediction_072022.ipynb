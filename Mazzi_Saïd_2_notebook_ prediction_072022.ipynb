{
 "cells": [
  {
   "cell_type": "code",
   "execution_count": 366,
   "id": "a321db50",
   "metadata": {
    "scrolled": true
   },
   "outputs": [],
   "source": [
    "import pandas as pd\n",
    "import numpy as np\n",
    "import re\n",
    "import seaborn as sns\n",
    "%matplotlib inline\n",
    "import matplotlib.pyplot as plt\n",
    "plt.style.use('seaborn-whitegrid')\n",
    "from scipy.stats import variation\n",
    "from sklearn import dummy\n",
    "from sklearn import model_selection\n",
    "from sklearn import preprocessing\n",
    "from sklearn.preprocessing import StandardScaler\n",
    "from sklearn.model_selection import train_test_split\n",
    "from sklearn import neighbors, metrics\n",
    "from scipy.stats import variation\n",
    "import shap\n",
    "from sklearn.inspection import permutation_importance\n",
    "from sklearn.model_selection import KFold\n",
    "from sklearn.preprocessing import OneHotEncoder\n",
    "from sklearn.linear_model import LinearRegression\n",
    "from sklearn.svm import LinearSVR\n",
    "from sklearn.ensemble import RandomForestRegressor\n",
    "import xgboost as xgb\n",
    "from xgboost import XGBRegressor\n",
    "from sklearn.model_selection import cross_val_score\n",
    "from sklearn.model_selection import cross_validate\n",
    "from sklearn.model_selection import GridSearchCV\n",
    "from sklearn.model_selection import RandomizedSearchCV\n",
    "\n",
    "from sklearn.metrics import mean_squared_error, r2_score\n",
    "\n",
    "seed=42"
   ]
  },
  {
   "cell_type": "markdown",
   "id": "db91c0d7",
   "metadata": {},
   "source": [
    "# Sommaire\n",
    "\n",
    "## - I/ Sélection du modèle d'algorithme\n",
    "    # A/ Variable \"SiteEnergyUseWN(kBtu)\"\n",
    "        # A-1/ Algorithme LinearRegression\n",
    "        # A-2/ Algorithme LinearSVR\n",
    "        # A-3/ Algorithme RandomForestRegressor\n",
    "        # A-4/ Algorithme XGBoost\n",
    "    # B/ Variable \"SiteEUIWN(kBtu/sf)\"\n",
    "        # B-1/ Algorithme LinearRegression\n",
    "        # B-2/ Algorithme LinearSVR\n",
    "        # B-3/ Algorithme RandomForestRegressor\n",
    "        # B-4/ Algorithme XGBoost\n",
    "    # C/ Variable \"TotalGHGEmissions\"\n",
    "        # C-1/ Algorithme LinearRegression\n",
    "        # C-2/ Algorithme LinearSVR\n",
    "        # C-3/ Algorithme RandomForestRegressor\n",
    "        # C-4/ Algorithme XGBoost\n",
    "    # D/ Variable \"GHGEmissionsIntensity\"\n",
    "        # D-1/ Algorithme LinearRegression\n",
    "        # D-2/ Algorithme LinearSVR\n",
    "        # D-3/ Algorithme RandomForestRegressor\n",
    "        # D-4/ Algorithme XGBoost\n",
    "## - II/ Feature Engineering\n",
    "    #II-1/ Logarithme\n",
    "    #II-2/ Normalisation\n",
    "    #II-3/ Encodage\n",
    "## - III/ Prédiction de \"SiteEnergyUseWN(kBtu)\"\n",
    "    #III-1/ Algorithme XGBoost"
   ]
  },
  {
   "cell_type": "code",
   "execution_count": 367,
   "id": "86775d47",
   "metadata": {
    "scrolled": true
   },
   "outputs": [
    {
     "data": {
      "text/html": [
       "<div>\n",
       "<style scoped>\n",
       "    .dataframe tbody tr th:only-of-type {\n",
       "        vertical-align: middle;\n",
       "    }\n",
       "\n",
       "    .dataframe tbody tr th {\n",
       "        vertical-align: top;\n",
       "    }\n",
       "\n",
       "    .dataframe thead th {\n",
       "        text-align: right;\n",
       "    }\n",
       "</style>\n",
       "<table border=\"1\" class=\"dataframe\">\n",
       "  <thead>\n",
       "    <tr style=\"text-align: right;\">\n",
       "      <th></th>\n",
       "      <th>BuildingType</th>\n",
       "      <th>PrimaryPropertyType</th>\n",
       "      <th>ENERGYSTARScore</th>\n",
       "      <th>SiteEnergyUseWN(kBtu)</th>\n",
       "      <th>SiteEUIWN(kBtu/sf)</th>\n",
       "      <th>TotalGHGEmissions</th>\n",
       "      <th>GHGEmissionsIntensity</th>\n",
       "      <th>Neighborhood</th>\n",
       "      <th>Building_Age</th>\n",
       "      <th>Distance</th>\n",
       "      <th>NumberofFloors</th>\n",
       "      <th>NumberofBuildings</th>\n",
       "      <th>PropertyGFATotal</th>\n",
       "    </tr>\n",
       "    <tr>\n",
       "      <th>OSEBuildingID</th>\n",
       "      <th></th>\n",
       "      <th></th>\n",
       "      <th></th>\n",
       "      <th></th>\n",
       "      <th></th>\n",
       "      <th></th>\n",
       "      <th></th>\n",
       "      <th></th>\n",
       "      <th></th>\n",
       "      <th></th>\n",
       "      <th></th>\n",
       "      <th></th>\n",
       "      <th></th>\n",
       "    </tr>\n",
       "  </thead>\n",
       "  <tbody>\n",
       "    <tr>\n",
       "      <th>1</th>\n",
       "      <td>NonResidential</td>\n",
       "      <td>Hotel</td>\n",
       "      <td>60.0</td>\n",
       "      <td>7456910.0</td>\n",
       "      <td>84.300003</td>\n",
       "      <td>249.98</td>\n",
       "      <td>2.83</td>\n",
       "      <td>DOWNTOWN</td>\n",
       "      <td>89</td>\n",
       "      <td>0.24</td>\n",
       "      <td>12</td>\n",
       "      <td>1</td>\n",
       "      <td>88434.0</td>\n",
       "    </tr>\n",
       "    <tr>\n",
       "      <th>2</th>\n",
       "      <td>NonResidential</td>\n",
       "      <td>Hotel</td>\n",
       "      <td>61.0</td>\n",
       "      <td>8664479.0</td>\n",
       "      <td>97.900002</td>\n",
       "      <td>295.86</td>\n",
       "      <td>2.86</td>\n",
       "      <td>DOWNTOWN</td>\n",
       "      <td>20</td>\n",
       "      <td>0.23</td>\n",
       "      <td>11</td>\n",
       "      <td>1</td>\n",
       "      <td>103566.0</td>\n",
       "    </tr>\n",
       "    <tr>\n",
       "      <th>3</th>\n",
       "      <td>NonResidential</td>\n",
       "      <td>Hotel</td>\n",
       "      <td>43.0</td>\n",
       "      <td>73937112.0</td>\n",
       "      <td>97.699997</td>\n",
       "      <td>2089.28</td>\n",
       "      <td>2.19</td>\n",
       "      <td>DOWNTOWN</td>\n",
       "      <td>47</td>\n",
       "      <td>0.11</td>\n",
       "      <td>41</td>\n",
       "      <td>1</td>\n",
       "      <td>956110.0</td>\n",
       "    </tr>\n",
       "    <tr>\n",
       "      <th>5</th>\n",
       "      <td>NonResidential</td>\n",
       "      <td>Hotel</td>\n",
       "      <td>56.0</td>\n",
       "      <td>6946800.5</td>\n",
       "      <td>113.300003</td>\n",
       "      <td>286.43</td>\n",
       "      <td>4.67</td>\n",
       "      <td>DOWNTOWN</td>\n",
       "      <td>90</td>\n",
       "      <td>0.00</td>\n",
       "      <td>10</td>\n",
       "      <td>1</td>\n",
       "      <td>61320.0</td>\n",
       "    </tr>\n",
       "    <tr>\n",
       "      <th>8</th>\n",
       "      <td>NonResidential</td>\n",
       "      <td>Hotel</td>\n",
       "      <td>75.0</td>\n",
       "      <td>14656503.0</td>\n",
       "      <td>118.699997</td>\n",
       "      <td>505.01</td>\n",
       "      <td>2.88</td>\n",
       "      <td>DOWNTOWN</td>\n",
       "      <td>36</td>\n",
       "      <td>0.29</td>\n",
       "      <td>18</td>\n",
       "      <td>1</td>\n",
       "      <td>175580.0</td>\n",
       "    </tr>\n",
       "  </tbody>\n",
       "</table>\n",
       "</div>"
      ],
      "text/plain": [
       "                 BuildingType PrimaryPropertyType  ENERGYSTARScore  \\\n",
       "OSEBuildingID                                                        \n",
       "1              NonResidential               Hotel             60.0   \n",
       "2              NonResidential               Hotel             61.0   \n",
       "3              NonResidential               Hotel             43.0   \n",
       "5              NonResidential               Hotel             56.0   \n",
       "8              NonResidential               Hotel             75.0   \n",
       "\n",
       "               SiteEnergyUseWN(kBtu)  SiteEUIWN(kBtu/sf)  TotalGHGEmissions  \\\n",
       "OSEBuildingID                                                                 \n",
       "1                          7456910.0           84.300003             249.98   \n",
       "2                          8664479.0           97.900002             295.86   \n",
       "3                         73937112.0           97.699997            2089.28   \n",
       "5                          6946800.5          113.300003             286.43   \n",
       "8                         14656503.0          118.699997             505.01   \n",
       "\n",
       "               GHGEmissionsIntensity Neighborhood  Building_Age  Distance  \\\n",
       "OSEBuildingID                                                               \n",
       "1                               2.83     DOWNTOWN            89      0.24   \n",
       "2                               2.86     DOWNTOWN            20      0.23   \n",
       "3                               2.19     DOWNTOWN            47      0.11   \n",
       "5                               4.67     DOWNTOWN            90      0.00   \n",
       "8                               2.88     DOWNTOWN            36      0.29   \n",
       "\n",
       "               NumberofFloors  NumberofBuildings  PropertyGFATotal  \n",
       "OSEBuildingID                                                       \n",
       "1                          12                  1           88434.0  \n",
       "2                          11                  1          103566.0  \n",
       "3                          41                  1          956110.0  \n",
       "5                          10                  1           61320.0  \n",
       "8                          18                  1          175580.0  "
      ]
     },
     "execution_count": 367,
     "metadata": {},
     "output_type": "execute_result"
    }
   ],
   "source": [
    "data_prepro = pd.read_csv(\"data_nettoye.csv\", sep=\",\",index_col=\"OSEBuildingID\")\n",
    "\n",
    "data_prepro.head()"
   ]
  },
  {
   "cell_type": "code",
   "execution_count": 368,
   "id": "0856378d",
   "metadata": {
    "scrolled": true
   },
   "outputs": [
    {
     "data": {
      "text/plain": [
       "BuildingType             0\n",
       "PrimaryPropertyType      0\n",
       "ENERGYSTARScore          0\n",
       "SiteEnergyUseWN(kBtu)    0\n",
       "SiteEUIWN(kBtu/sf)       0\n",
       "TotalGHGEmissions        0\n",
       "GHGEmissionsIntensity    0\n",
       "Neighborhood             0\n",
       "Building_Age             0\n",
       "Distance                 0\n",
       "NumberofFloors           0\n",
       "NumberofBuildings        0\n",
       "PropertyGFATotal         0\n",
       "dtype: int64"
      ]
     },
     "execution_count": 368,
     "metadata": {},
     "output_type": "execute_result"
    }
   ],
   "source": [
    "data_prepro.isna().sum()"
   ]
  },
  {
   "cell_type": "markdown",
   "id": "95ed5b18",
   "metadata": {},
   "source": [
    "# I/ Feature Engineering\n",
    "Logarithme, Encodage et Normalisation"
   ]
  },
  {
   "cell_type": "markdown",
   "id": "99f060c3",
   "metadata": {},
   "source": [
    "## I-1/ Logarithme"
   ]
  },
  {
   "cell_type": "markdown",
   "id": "e6762431",
   "metadata": {},
   "source": [
    "Préparation des données avant de les envoyer dans un modèle, elle est faite suivant plusieurs étapes :\n",
    "\n",
    "- Valeurs manquantes : voir notebook \"Mazzi_Saïd_1_notebook_exploratoire_072022\"\n",
    "- Données asymétriques : traitées par une étape de transformation logarithmique et une étape de normalisation\n",
    "- Données nominales catégorielles : traitées ici par OneHotEncoder"
   ]
  },
  {
   "cell_type": "markdown",
   "id": "bc875707",
   "metadata": {},
   "source": [
    "On va passer au Logarithme les données numériques et encoder avec OneHotEncoder, les données catégorielles."
   ]
  },
  {
   "cell_type": "code",
   "execution_count": 369,
   "id": "fb32188e",
   "metadata": {},
   "outputs": [],
   "source": [
    "num_columns = data_prepro.select_dtypes(['int64','float64']).columns"
   ]
  },
  {
   "cell_type": "code",
   "execution_count": 370,
   "id": "666e34af",
   "metadata": {
    "scrolled": true
   },
   "outputs": [
    {
     "data": {
      "text/plain": [
       "Index(['ENERGYSTARScore', 'SiteEnergyUseWN(kBtu)', 'SiteEUIWN(kBtu/sf)',\n",
       "       'TotalGHGEmissions', 'GHGEmissionsIntensity', 'Building_Age',\n",
       "       'Distance', 'NumberofFloors', 'NumberofBuildings', 'PropertyGFATotal'],\n",
       "      dtype='object')"
      ]
     },
     "execution_count": 370,
     "metadata": {},
     "output_type": "execute_result"
    }
   ],
   "source": [
    "num_columns"
   ]
  },
  {
   "cell_type": "code",
   "execution_count": 371,
   "id": "ac28a61d",
   "metadata": {},
   "outputs": [],
   "source": [
    "var_log=['Distance','ENERGYSTARScore', 'SiteEnergyUseWN(kBtu)','TotalGHGEmissions', 'SiteEUIWN(kBtu/sf)','GHGEmissionsIntensity',\n",
    "         'Building_Age','NumberofFloors', 'PropertyGFATotal','NumberofBuildings']\n",
    "var_cat=[\"PrimaryPropertyType\",\"Neighborhood\",\"BuildingType\"]\n",
    "var_norm=['Distance''Building_Age','NumberofFloors', 'PropertyGFATotal',\n",
    "          'NumberofBuildings']"
   ]
  },
  {
   "cell_type": "code",
   "execution_count": 372,
   "id": "f4e73ea4",
   "metadata": {
    "scrolled": true
   },
   "outputs": [
    {
     "data": {
      "text/html": [
       "<div>\n",
       "<style scoped>\n",
       "    .dataframe tbody tr th:only-of-type {\n",
       "        vertical-align: middle;\n",
       "    }\n",
       "\n",
       "    .dataframe tbody tr th {\n",
       "        vertical-align: top;\n",
       "    }\n",
       "\n",
       "    .dataframe thead th {\n",
       "        text-align: right;\n",
       "    }\n",
       "</style>\n",
       "<table border=\"1\" class=\"dataframe\">\n",
       "  <thead>\n",
       "    <tr style=\"text-align: right;\">\n",
       "      <th></th>\n",
       "      <th>BuildingType</th>\n",
       "      <th>PrimaryPropertyType</th>\n",
       "      <th>ENERGYSTARScore</th>\n",
       "      <th>SiteEnergyUseWN(kBtu)</th>\n",
       "      <th>SiteEUIWN(kBtu/sf)</th>\n",
       "      <th>TotalGHGEmissions</th>\n",
       "      <th>GHGEmissionsIntensity</th>\n",
       "      <th>Neighborhood</th>\n",
       "      <th>Building_Age</th>\n",
       "      <th>Distance</th>\n",
       "      <th>NumberofFloors</th>\n",
       "      <th>NumberofBuildings</th>\n",
       "      <th>PropertyGFATotal</th>\n",
       "    </tr>\n",
       "    <tr>\n",
       "      <th>OSEBuildingID</th>\n",
       "      <th></th>\n",
       "      <th></th>\n",
       "      <th></th>\n",
       "      <th></th>\n",
       "      <th></th>\n",
       "      <th></th>\n",
       "      <th></th>\n",
       "      <th></th>\n",
       "      <th></th>\n",
       "      <th></th>\n",
       "      <th></th>\n",
       "      <th></th>\n",
       "      <th></th>\n",
       "    </tr>\n",
       "  </thead>\n",
       "  <tbody>\n",
       "    <tr>\n",
       "      <th>1</th>\n",
       "      <td>NonResidential</td>\n",
       "      <td>Hotel</td>\n",
       "      <td>60.0</td>\n",
       "      <td>7.456910e+06</td>\n",
       "      <td>84.300003</td>\n",
       "      <td>249.98</td>\n",
       "      <td>2.83</td>\n",
       "      <td>DOWNTOWN</td>\n",
       "      <td>89</td>\n",
       "      <td>0.24</td>\n",
       "      <td>12</td>\n",
       "      <td>1</td>\n",
       "      <td>88434.0</td>\n",
       "    </tr>\n",
       "    <tr>\n",
       "      <th>2</th>\n",
       "      <td>NonResidential</td>\n",
       "      <td>Hotel</td>\n",
       "      <td>61.0</td>\n",
       "      <td>8.664479e+06</td>\n",
       "      <td>97.900002</td>\n",
       "      <td>295.86</td>\n",
       "      <td>2.86</td>\n",
       "      <td>DOWNTOWN</td>\n",
       "      <td>20</td>\n",
       "      <td>0.23</td>\n",
       "      <td>11</td>\n",
       "      <td>1</td>\n",
       "      <td>103566.0</td>\n",
       "    </tr>\n",
       "    <tr>\n",
       "      <th>3</th>\n",
       "      <td>NonResidential</td>\n",
       "      <td>Hotel</td>\n",
       "      <td>43.0</td>\n",
       "      <td>7.393711e+07</td>\n",
       "      <td>97.699997</td>\n",
       "      <td>2089.28</td>\n",
       "      <td>2.19</td>\n",
       "      <td>DOWNTOWN</td>\n",
       "      <td>47</td>\n",
       "      <td>0.11</td>\n",
       "      <td>41</td>\n",
       "      <td>1</td>\n",
       "      <td>956110.0</td>\n",
       "    </tr>\n",
       "    <tr>\n",
       "      <th>5</th>\n",
       "      <td>NonResidential</td>\n",
       "      <td>Hotel</td>\n",
       "      <td>56.0</td>\n",
       "      <td>6.946800e+06</td>\n",
       "      <td>113.300003</td>\n",
       "      <td>286.43</td>\n",
       "      <td>4.67</td>\n",
       "      <td>DOWNTOWN</td>\n",
       "      <td>90</td>\n",
       "      <td>0.00</td>\n",
       "      <td>10</td>\n",
       "      <td>1</td>\n",
       "      <td>61320.0</td>\n",
       "    </tr>\n",
       "    <tr>\n",
       "      <th>8</th>\n",
       "      <td>NonResidential</td>\n",
       "      <td>Hotel</td>\n",
       "      <td>75.0</td>\n",
       "      <td>1.465650e+07</td>\n",
       "      <td>118.699997</td>\n",
       "      <td>505.01</td>\n",
       "      <td>2.88</td>\n",
       "      <td>DOWNTOWN</td>\n",
       "      <td>36</td>\n",
       "      <td>0.29</td>\n",
       "      <td>18</td>\n",
       "      <td>1</td>\n",
       "      <td>175580.0</td>\n",
       "    </tr>\n",
       "    <tr>\n",
       "      <th>...</th>\n",
       "      <td>...</td>\n",
       "      <td>...</td>\n",
       "      <td>...</td>\n",
       "      <td>...</td>\n",
       "      <td>...</td>\n",
       "      <td>...</td>\n",
       "      <td>...</td>\n",
       "      <td>...</td>\n",
       "      <td>...</td>\n",
       "      <td>...</td>\n",
       "      <td>...</td>\n",
       "      <td>...</td>\n",
       "      <td>...</td>\n",
       "    </tr>\n",
       "    <tr>\n",
       "      <th>50221</th>\n",
       "      <td>Nonresidential COS</td>\n",
       "      <td>Other</td>\n",
       "      <td>71.0</td>\n",
       "      <td>1.025432e+06</td>\n",
       "      <td>56.200001</td>\n",
       "      <td>20.33</td>\n",
       "      <td>1.11</td>\n",
       "      <td>DELRIDGE NEIGHBORHOODS</td>\n",
       "      <td>34</td>\n",
       "      <td>8.64</td>\n",
       "      <td>1</td>\n",
       "      <td>1</td>\n",
       "      <td>18261.0</td>\n",
       "    </tr>\n",
       "    <tr>\n",
       "      <th>50223</th>\n",
       "      <td>Nonresidential COS</td>\n",
       "      <td>Other</td>\n",
       "      <td>71.0</td>\n",
       "      <td>1.053706e+06</td>\n",
       "      <td>65.900002</td>\n",
       "      <td>32.17</td>\n",
       "      <td>2.01</td>\n",
       "      <td>DOWNTOWN</td>\n",
       "      <td>12</td>\n",
       "      <td>2.24</td>\n",
       "      <td>1</td>\n",
       "      <td>1</td>\n",
       "      <td>16000.0</td>\n",
       "    </tr>\n",
       "    <tr>\n",
       "      <th>50224</th>\n",
       "      <td>Nonresidential COS</td>\n",
       "      <td>Other</td>\n",
       "      <td>71.0</td>\n",
       "      <td>6.053764e+06</td>\n",
       "      <td>460.100006</td>\n",
       "      <td>223.54</td>\n",
       "      <td>16.99</td>\n",
       "      <td>MAGNOLIA / QUEEN ANNE</td>\n",
       "      <td>42</td>\n",
       "      <td>2.95</td>\n",
       "      <td>1</td>\n",
       "      <td>1</td>\n",
       "      <td>13157.0</td>\n",
       "    </tr>\n",
       "    <tr>\n",
       "      <th>50225</th>\n",
       "      <td>Nonresidential COS</td>\n",
       "      <td>Mixed Use Property</td>\n",
       "      <td>71.0</td>\n",
       "      <td>7.828413e+05</td>\n",
       "      <td>55.500000</td>\n",
       "      <td>22.11</td>\n",
       "      <td>1.57</td>\n",
       "      <td>GREATER DUWAMISH</td>\n",
       "      <td>27</td>\n",
       "      <td>9.58</td>\n",
       "      <td>1</td>\n",
       "      <td>1</td>\n",
       "      <td>14101.0</td>\n",
       "    </tr>\n",
       "    <tr>\n",
       "      <th>50226</th>\n",
       "      <td>Nonresidential COS</td>\n",
       "      <td>Mixed Use Property</td>\n",
       "      <td>71.0</td>\n",
       "      <td>1.293722e+06</td>\n",
       "      <td>70.900002</td>\n",
       "      <td>41.27</td>\n",
       "      <td>2.26</td>\n",
       "      <td>GREATER DUWAMISH</td>\n",
       "      <td>78</td>\n",
       "      <td>8.87</td>\n",
       "      <td>1</td>\n",
       "      <td>1</td>\n",
       "      <td>18258.0</td>\n",
       "    </tr>\n",
       "  </tbody>\n",
       "</table>\n",
       "<p>1501 rows × 13 columns</p>\n",
       "</div>"
      ],
      "text/plain": [
       "                     BuildingType PrimaryPropertyType  ENERGYSTARScore  \\\n",
       "OSEBuildingID                                                            \n",
       "1                  NonResidential               Hotel             60.0   \n",
       "2                  NonResidential               Hotel             61.0   \n",
       "3                  NonResidential               Hotel             43.0   \n",
       "5                  NonResidential               Hotel             56.0   \n",
       "8                  NonResidential               Hotel             75.0   \n",
       "...                           ...                 ...              ...   \n",
       "50221          Nonresidential COS               Other             71.0   \n",
       "50223          Nonresidential COS               Other             71.0   \n",
       "50224          Nonresidential COS               Other             71.0   \n",
       "50225          Nonresidential COS  Mixed Use Property             71.0   \n",
       "50226          Nonresidential COS  Mixed Use Property             71.0   \n",
       "\n",
       "               SiteEnergyUseWN(kBtu)  SiteEUIWN(kBtu/sf)  TotalGHGEmissions  \\\n",
       "OSEBuildingID                                                                 \n",
       "1                       7.456910e+06           84.300003             249.98   \n",
       "2                       8.664479e+06           97.900002             295.86   \n",
       "3                       7.393711e+07           97.699997            2089.28   \n",
       "5                       6.946800e+06          113.300003             286.43   \n",
       "8                       1.465650e+07          118.699997             505.01   \n",
       "...                              ...                 ...                ...   \n",
       "50221                   1.025432e+06           56.200001              20.33   \n",
       "50223                   1.053706e+06           65.900002              32.17   \n",
       "50224                   6.053764e+06          460.100006             223.54   \n",
       "50225                   7.828413e+05           55.500000              22.11   \n",
       "50226                   1.293722e+06           70.900002              41.27   \n",
       "\n",
       "               GHGEmissionsIntensity            Neighborhood  Building_Age  \\\n",
       "OSEBuildingID                                                                \n",
       "1                               2.83                DOWNTOWN            89   \n",
       "2                               2.86                DOWNTOWN            20   \n",
       "3                               2.19                DOWNTOWN            47   \n",
       "5                               4.67                DOWNTOWN            90   \n",
       "8                               2.88                DOWNTOWN            36   \n",
       "...                              ...                     ...           ...   \n",
       "50221                           1.11  DELRIDGE NEIGHBORHOODS            34   \n",
       "50223                           2.01                DOWNTOWN            12   \n",
       "50224                          16.99   MAGNOLIA / QUEEN ANNE            42   \n",
       "50225                           1.57        GREATER DUWAMISH            27   \n",
       "50226                           2.26        GREATER DUWAMISH            78   \n",
       "\n",
       "               Distance  NumberofFloors  NumberofBuildings  PropertyGFATotal  \n",
       "OSEBuildingID                                                                 \n",
       "1                  0.24              12                  1           88434.0  \n",
       "2                  0.23              11                  1          103566.0  \n",
       "3                  0.11              41                  1          956110.0  \n",
       "5                  0.00              10                  1           61320.0  \n",
       "8                  0.29              18                  1          175580.0  \n",
       "...                 ...             ...                ...               ...  \n",
       "50221              8.64               1                  1           18261.0  \n",
       "50223              2.24               1                  1           16000.0  \n",
       "50224              2.95               1                  1           13157.0  \n",
       "50225              9.58               1                  1           14101.0  \n",
       "50226              8.87               1                  1           18258.0  \n",
       "\n",
       "[1501 rows x 13 columns]"
      ]
     },
     "execution_count": 372,
     "metadata": {},
     "output_type": "execute_result"
    }
   ],
   "source": [
    "data_prepro"
   ]
  },
  {
   "cell_type": "code",
   "execution_count": 373,
   "id": "1bbbde0e",
   "metadata": {
    "scrolled": true
   },
   "outputs": [],
   "source": [
    "data_log= data_prepro[var_log].apply(lambda x: np.log1p(x))"
   ]
  },
  {
   "cell_type": "code",
   "execution_count": 374,
   "id": "a988655e",
   "metadata": {
    "scrolled": false
   },
   "outputs": [
    {
     "data": {
      "text/plain": [
       "Distance                 0\n",
       "ENERGYSTARScore          0\n",
       "SiteEnergyUseWN(kBtu)    0\n",
       "TotalGHGEmissions        0\n",
       "SiteEUIWN(kBtu/sf)       0\n",
       "GHGEmissionsIntensity    0\n",
       "Building_Age             0\n",
       "NumberofFloors           0\n",
       "PropertyGFATotal         0\n",
       "NumberofBuildings        0\n",
       "dtype: int64"
      ]
     },
     "execution_count": 374,
     "metadata": {},
     "output_type": "execute_result"
    }
   ],
   "source": [
    "data_log.isnull().sum()"
   ]
  },
  {
   "cell_type": "markdown",
   "id": "94c268ab",
   "metadata": {},
   "source": [
    "## I-2/ Normalisation\n",
    "- On standarise les données;\n",
    "- On va sélectionner nos variables numériques et on enlève les variables de prédiction;"
   ]
  },
  {
   "cell_type": "code",
   "execution_count": 375,
   "id": "fc326509",
   "metadata": {
    "scrolled": false
   },
   "outputs": [
    {
     "data": {
      "text/plain": [
       "Index(['ENERGYSTARScore', 'SiteEnergyUseWN(kBtu)', 'SiteEUIWN(kBtu/sf)',\n",
       "       'TotalGHGEmissions', 'GHGEmissionsIntensity', 'Building_Age',\n",
       "       'Distance', 'NumberofFloors', 'NumberofBuildings', 'PropertyGFATotal'],\n",
       "      dtype='object')"
      ]
     },
     "execution_count": 375,
     "metadata": {},
     "output_type": "execute_result"
    }
   ],
   "source": [
    "col_num = data_prepro.select_dtypes(['int64','float64']).columns\n",
    "col_num"
   ]
  },
  {
   "cell_type": "markdown",
   "id": "2f787c8a",
   "metadata": {},
   "source": [
    "La normalisation permet aux données d'avoir le même ordre de grandeur. On transforme la distribution des données de façon à avoir la moyenne à 0 et l'écart type à 1."
   ]
  },
  {
   "cell_type": "code",
   "execution_count": 376,
   "id": "2b53c233",
   "metadata": {},
   "outputs": [],
   "source": [
    "data_prepro[col_num] = StandardScaler().fit_transform(data_prepro[col_num])"
   ]
  },
  {
   "cell_type": "code",
   "execution_count": 377,
   "id": "4bcaa53a",
   "metadata": {
    "scrolled": false
   },
   "outputs": [
    {
     "data": {
      "text/plain": [
       "ENERGYSTARScore          0\n",
       "SiteEnergyUseWN(kBtu)    0\n",
       "SiteEUIWN(kBtu/sf)       0\n",
       "TotalGHGEmissions        0\n",
       "GHGEmissionsIntensity    0\n",
       "Building_Age             0\n",
       "Distance                 0\n",
       "NumberofFloors           0\n",
       "NumberofBuildings        0\n",
       "PropertyGFATotal         0\n",
       "dtype: int64"
      ]
     },
     "execution_count": 377,
     "metadata": {},
     "output_type": "execute_result"
    }
   ],
   "source": [
    "data_prepro[col_num].isnull().sum()"
   ]
  },
  {
   "cell_type": "code",
   "execution_count": 378,
   "id": "43156972",
   "metadata": {},
   "outputs": [],
   "source": [
    "def verif_normalisation(df):\n",
    "      for col in df :\n",
    "        data_col=df[col]\n",
    "        moyenne=np.mean(data_col)\n",
    "        ecartType = np.std(data_col)\n",
    "\n",
    "        print(\"Mesures statistiques pour la variable {}\" .format(col))\n",
    "        print(\"La moyenne est de : {} \".format(round(abs(moyenne), 2)))\n",
    "        print(\"L'écart type est de : {} \".format(round(abs(ecartType), 2)))\n",
    "        print(\" \")\n",
    "        print(\" \")"
   ]
  },
  {
   "cell_type": "code",
   "execution_count": 379,
   "id": "708a7b8b",
   "metadata": {
    "scrolled": true
   },
   "outputs": [
    {
     "name": "stdout",
     "output_type": "stream",
     "text": [
      "Mesures statistiques pour la variable ENERGYSTARScore\n",
      "La moyenne est de : 0.0 \n",
      "L'écart type est de : 1.0 \n",
      " \n",
      " \n",
      "Mesures statistiques pour la variable SiteEnergyUseWN(kBtu)\n",
      "La moyenne est de : 0.0 \n",
      "L'écart type est de : 1.0 \n",
      " \n",
      " \n",
      "Mesures statistiques pour la variable SiteEUIWN(kBtu/sf)\n",
      "La moyenne est de : 0.0 \n",
      "L'écart type est de : 1.0 \n",
      " \n",
      " \n",
      "Mesures statistiques pour la variable TotalGHGEmissions\n",
      "La moyenne est de : 0.0 \n",
      "L'écart type est de : 1.0 \n",
      " \n",
      " \n",
      "Mesures statistiques pour la variable GHGEmissionsIntensity\n",
      "La moyenne est de : 0.0 \n",
      "L'écart type est de : 1.0 \n",
      " \n",
      " \n",
      "Mesures statistiques pour la variable Building_Age\n",
      "La moyenne est de : 0.0 \n",
      "L'écart type est de : 1.0 \n",
      " \n",
      " \n",
      "Mesures statistiques pour la variable Distance\n",
      "La moyenne est de : 0.0 \n",
      "L'écart type est de : 1.0 \n",
      " \n",
      " \n",
      "Mesures statistiques pour la variable NumberofFloors\n",
      "La moyenne est de : 0.0 \n",
      "L'écart type est de : 1.0 \n",
      " \n",
      " \n",
      "Mesures statistiques pour la variable NumberofBuildings\n",
      "La moyenne est de : 0.0 \n",
      "L'écart type est de : 1.0 \n",
      " \n",
      " \n",
      "Mesures statistiques pour la variable PropertyGFATotal\n",
      "La moyenne est de : 0.0 \n",
      "L'écart type est de : 1.0 \n",
      " \n",
      " \n"
     ]
    }
   ],
   "source": [
    "verif_normalisation(data_prepro[col_num])"
   ]
  },
  {
   "cell_type": "markdown",
   "id": "d4808ee2",
   "metadata": {},
   "source": [
    "--> Nos données numériques ont bien été normalisées car elles ont toutes une moyenne de 0 et un écart type de 1."
   ]
  },
  {
   "cell_type": "markdown",
   "id": "ec8e85b6",
   "metadata": {},
   "source": [
    "## I-3/ Encodage\n",
    "\n",
    "Pour certains modèles de machine learning tels que les régressions, seule l'analyse de données numériques est acceptée. Pour utiliser ces modèles avec mes données catégorielles, il faut donc transformer les variables catégorielles en nombres avant d'appliquer des modèles de machine learning."
   ]
  },
  {
   "cell_type": "markdown",
   "id": "a8395ced",
   "metadata": {},
   "source": [
    "One-Hot encoding : consiste à diviser une variable catégorielle en N variables où chaque nouvelle variable correspond à une modalité prise par la variable catégorielle. Chaque variable créée est codée en 0 ou 1 selon la présence ou l'absence de cette modalité pour la ligne."
   ]
  },
  {
   "cell_type": "code",
   "execution_count": 380,
   "id": "874d25a0",
   "metadata": {},
   "outputs": [],
   "source": [
    "col_cat = data_prepro.select_dtypes(['object']).columns"
   ]
  },
  {
   "cell_type": "code",
   "execution_count": 381,
   "id": "d21a66c6",
   "metadata": {
    "scrolled": true
   },
   "outputs": [
    {
     "data": {
      "text/html": [
       "<div>\n",
       "<style scoped>\n",
       "    .dataframe tbody tr th:only-of-type {\n",
       "        vertical-align: middle;\n",
       "    }\n",
       "\n",
       "    .dataframe tbody tr th {\n",
       "        vertical-align: top;\n",
       "    }\n",
       "\n",
       "    .dataframe thead th {\n",
       "        text-align: right;\n",
       "    }\n",
       "</style>\n",
       "<table border=\"1\" class=\"dataframe\">\n",
       "  <thead>\n",
       "    <tr style=\"text-align: right;\">\n",
       "      <th></th>\n",
       "      <th>BuildingType</th>\n",
       "      <th>PrimaryPropertyType</th>\n",
       "      <th>Neighborhood</th>\n",
       "    </tr>\n",
       "    <tr>\n",
       "      <th>OSEBuildingID</th>\n",
       "      <th></th>\n",
       "      <th></th>\n",
       "      <th></th>\n",
       "    </tr>\n",
       "  </thead>\n",
       "  <tbody>\n",
       "    <tr>\n",
       "      <th>1</th>\n",
       "      <td>NonResidential</td>\n",
       "      <td>Hotel</td>\n",
       "      <td>DOWNTOWN</td>\n",
       "    </tr>\n",
       "    <tr>\n",
       "      <th>2</th>\n",
       "      <td>NonResidential</td>\n",
       "      <td>Hotel</td>\n",
       "      <td>DOWNTOWN</td>\n",
       "    </tr>\n",
       "    <tr>\n",
       "      <th>3</th>\n",
       "      <td>NonResidential</td>\n",
       "      <td>Hotel</td>\n",
       "      <td>DOWNTOWN</td>\n",
       "    </tr>\n",
       "    <tr>\n",
       "      <th>5</th>\n",
       "      <td>NonResidential</td>\n",
       "      <td>Hotel</td>\n",
       "      <td>DOWNTOWN</td>\n",
       "    </tr>\n",
       "    <tr>\n",
       "      <th>8</th>\n",
       "      <td>NonResidential</td>\n",
       "      <td>Hotel</td>\n",
       "      <td>DOWNTOWN</td>\n",
       "    </tr>\n",
       "  </tbody>\n",
       "</table>\n",
       "</div>"
      ],
      "text/plain": [
       "                 BuildingType PrimaryPropertyType Neighborhood\n",
       "OSEBuildingID                                                 \n",
       "1              NonResidential               Hotel     DOWNTOWN\n",
       "2              NonResidential               Hotel     DOWNTOWN\n",
       "3              NonResidential               Hotel     DOWNTOWN\n",
       "5              NonResidential               Hotel     DOWNTOWN\n",
       "8              NonResidential               Hotel     DOWNTOWN"
      ]
     },
     "execution_count": 381,
     "metadata": {},
     "output_type": "execute_result"
    }
   ],
   "source": [
    "data_prepro[col_cat].head()"
   ]
  },
  {
   "cell_type": "code",
   "execution_count": 382,
   "id": "ad04edbd",
   "metadata": {},
   "outputs": [
    {
     "data": {
      "text/plain": [
       "(20,)"
      ]
     },
     "execution_count": 382,
     "metadata": {},
     "output_type": "execute_result"
    }
   ],
   "source": [
    "data_prepro[\"PrimaryPropertyType\"].unique().shape"
   ]
  },
  {
   "cell_type": "code",
   "execution_count": 383,
   "id": "8cfd6fd2",
   "metadata": {},
   "outputs": [
    {
     "data": {
      "text/plain": [
       "(19,)"
      ]
     },
     "execution_count": 383,
     "metadata": {},
     "output_type": "execute_result"
    }
   ],
   "source": [
    "data_prepro[\"Neighborhood\"].unique().shape"
   ]
  },
  {
   "cell_type": "code",
   "execution_count": 384,
   "id": "13df1111",
   "metadata": {},
   "outputs": [
    {
     "data": {
      "text/plain": [
       "(5,)"
      ]
     },
     "execution_count": 384,
     "metadata": {},
     "output_type": "execute_result"
    }
   ],
   "source": [
    "data_prepro[\"BuildingType\"].unique().shape"
   ]
  },
  {
   "cell_type": "code",
   "execution_count": 385,
   "id": "8d411b88",
   "metadata": {},
   "outputs": [
    {
     "data": {
      "text/plain": [
       "(1501, 13)"
      ]
     },
     "execution_count": 385,
     "metadata": {},
     "output_type": "execute_result"
    }
   ],
   "source": [
    "data_prepro.shape"
   ]
  },
  {
   "cell_type": "code",
   "execution_count": 386,
   "id": "738b4db6",
   "metadata": {
    "scrolled": true
   },
   "outputs": [
    {
     "data": {
      "text/html": [
       "<div>\n",
       "<style scoped>\n",
       "    .dataframe tbody tr th:only-of-type {\n",
       "        vertical-align: middle;\n",
       "    }\n",
       "\n",
       "    .dataframe tbody tr th {\n",
       "        vertical-align: top;\n",
       "    }\n",
       "\n",
       "    .dataframe thead th {\n",
       "        text-align: right;\n",
       "    }\n",
       "</style>\n",
       "<table border=\"1\" class=\"dataframe\">\n",
       "  <thead>\n",
       "    <tr style=\"text-align: right;\">\n",
       "      <th></th>\n",
       "      <th>ENERGYSTARScore</th>\n",
       "      <th>SiteEnergyUseWN(kBtu)</th>\n",
       "      <th>SiteEUIWN(kBtu/sf)</th>\n",
       "      <th>TotalGHGEmissions</th>\n",
       "      <th>GHGEmissionsIntensity</th>\n",
       "      <th>Building_Age</th>\n",
       "      <th>Distance</th>\n",
       "      <th>NumberofFloors</th>\n",
       "      <th>NumberofBuildings</th>\n",
       "      <th>PropertyGFATotal</th>\n",
       "    </tr>\n",
       "    <tr>\n",
       "      <th>OSEBuildingID</th>\n",
       "      <th></th>\n",
       "      <th></th>\n",
       "      <th></th>\n",
       "      <th></th>\n",
       "      <th></th>\n",
       "      <th></th>\n",
       "      <th></th>\n",
       "      <th></th>\n",
       "      <th></th>\n",
       "      <th></th>\n",
       "    </tr>\n",
       "  </thead>\n",
       "  <tbody>\n",
       "    <tr>\n",
       "      <th>1</th>\n",
       "      <td>-0.259891</td>\n",
       "      <td>-0.046699</td>\n",
       "      <td>0.078156</td>\n",
       "      <td>0.083391</td>\n",
       "      <td>0.468464</td>\n",
       "      <td>1.065586</td>\n",
       "      <td>-1.217047</td>\n",
       "      <td>1.148926</td>\n",
       "      <td>-0.089713</td>\n",
       "      <td>-0.130754</td>\n",
       "    </tr>\n",
       "    <tr>\n",
       "      <th>2</th>\n",
       "      <td>-0.217439</td>\n",
       "      <td>0.005657</td>\n",
       "      <td>0.255133</td>\n",
       "      <td>0.145566</td>\n",
       "      <td>0.480779</td>\n",
       "      <td>-1.056387</td>\n",
       "      <td>-1.219976</td>\n",
       "      <td>1.001265</td>\n",
       "      <td>-0.089713</td>\n",
       "      <td>-0.053570</td>\n",
       "    </tr>\n",
       "    <tr>\n",
       "      <th>3</th>\n",
       "      <td>-0.981585</td>\n",
       "      <td>2.835632</td>\n",
       "      <td>0.252531</td>\n",
       "      <td>2.575937</td>\n",
       "      <td>0.205728</td>\n",
       "      <td>-0.226050</td>\n",
       "      <td>-1.255125</td>\n",
       "      <td>5.431108</td>\n",
       "      <td>-0.089713</td>\n",
       "      <td>4.294963</td>\n",
       "    </tr>\n",
       "    <tr>\n",
       "      <th>5</th>\n",
       "      <td>-0.429702</td>\n",
       "      <td>-0.068815</td>\n",
       "      <td>0.455534</td>\n",
       "      <td>0.132787</td>\n",
       "      <td>1.223830</td>\n",
       "      <td>1.096339</td>\n",
       "      <td>-1.287345</td>\n",
       "      <td>0.853603</td>\n",
       "      <td>-0.089713</td>\n",
       "      <td>-0.269053</td>\n",
       "    </tr>\n",
       "    <tr>\n",
       "      <th>8</th>\n",
       "      <td>0.376898</td>\n",
       "      <td>0.265448</td>\n",
       "      <td>0.525804</td>\n",
       "      <td>0.428997</td>\n",
       "      <td>0.488990</td>\n",
       "      <td>-0.564335</td>\n",
       "      <td>-1.202402</td>\n",
       "      <td>2.034895</td>\n",
       "      <td>-0.089713</td>\n",
       "      <td>0.313748</td>\n",
       "    </tr>\n",
       "    <tr>\n",
       "      <th>...</th>\n",
       "      <td>...</td>\n",
       "      <td>...</td>\n",
       "      <td>...</td>\n",
       "      <td>...</td>\n",
       "      <td>...</td>\n",
       "      <td>...</td>\n",
       "      <td>...</td>\n",
       "      <td>...</td>\n",
       "      <td>...</td>\n",
       "      <td>...</td>\n",
       "    </tr>\n",
       "    <tr>\n",
       "      <th>50221</th>\n",
       "      <td>0.207087</td>\n",
       "      <td>-0.325544</td>\n",
       "      <td>-0.287510</td>\n",
       "      <td>-0.227821</td>\n",
       "      <td>-0.237640</td>\n",
       "      <td>-0.625842</td>\n",
       "      <td>1.243368</td>\n",
       "      <td>-0.475350</td>\n",
       "      <td>-0.089713</td>\n",
       "      <td>-0.488682</td>\n",
       "    </tr>\n",
       "    <tr>\n",
       "      <th>50223</th>\n",
       "      <td>0.207087</td>\n",
       "      <td>-0.324318</td>\n",
       "      <td>-0.161284</td>\n",
       "      <td>-0.211776</td>\n",
       "      <td>0.131833</td>\n",
       "      <td>-1.302413</td>\n",
       "      <td>-0.631234</td>\n",
       "      <td>-0.475350</td>\n",
       "      <td>-0.089713</td>\n",
       "      <td>-0.500214</td>\n",
       "    </tr>\n",
       "    <tr>\n",
       "      <th>50224</th>\n",
       "      <td>0.207087</td>\n",
       "      <td>-0.107534</td>\n",
       "      <td>4.968453</td>\n",
       "      <td>0.047561</td>\n",
       "      <td>6.281500</td>\n",
       "      <td>-0.379816</td>\n",
       "      <td>-0.423270</td>\n",
       "      <td>-0.475350</td>\n",
       "      <td>-0.089713</td>\n",
       "      <td>-0.514716</td>\n",
       "    </tr>\n",
       "    <tr>\n",
       "      <th>50225</th>\n",
       "      <td>0.207087</td>\n",
       "      <td>-0.336062</td>\n",
       "      <td>-0.296619</td>\n",
       "      <td>-0.225409</td>\n",
       "      <td>-0.048798</td>\n",
       "      <td>-0.841114</td>\n",
       "      <td>1.518700</td>\n",
       "      <td>-0.475350</td>\n",
       "      <td>-0.089713</td>\n",
       "      <td>-0.509901</td>\n",
       "    </tr>\n",
       "    <tr>\n",
       "      <th>50226</th>\n",
       "      <td>0.207087</td>\n",
       "      <td>-0.313912</td>\n",
       "      <td>-0.096218</td>\n",
       "      <td>-0.199444</td>\n",
       "      <td>0.234464</td>\n",
       "      <td>0.727301</td>\n",
       "      <td>1.310736</td>\n",
       "      <td>-0.475350</td>\n",
       "      <td>-0.089713</td>\n",
       "      <td>-0.488697</td>\n",
       "    </tr>\n",
       "  </tbody>\n",
       "</table>\n",
       "<p>1501 rows × 10 columns</p>\n",
       "</div>"
      ],
      "text/plain": [
       "               ENERGYSTARScore  SiteEnergyUseWN(kBtu)  SiteEUIWN(kBtu/sf)  \\\n",
       "OSEBuildingID                                                               \n",
       "1                    -0.259891              -0.046699            0.078156   \n",
       "2                    -0.217439               0.005657            0.255133   \n",
       "3                    -0.981585               2.835632            0.252531   \n",
       "5                    -0.429702              -0.068815            0.455534   \n",
       "8                     0.376898               0.265448            0.525804   \n",
       "...                        ...                    ...                 ...   \n",
       "50221                 0.207087              -0.325544           -0.287510   \n",
       "50223                 0.207087              -0.324318           -0.161284   \n",
       "50224                 0.207087              -0.107534            4.968453   \n",
       "50225                 0.207087              -0.336062           -0.296619   \n",
       "50226                 0.207087              -0.313912           -0.096218   \n",
       "\n",
       "               TotalGHGEmissions  GHGEmissionsIntensity  Building_Age  \\\n",
       "OSEBuildingID                                                           \n",
       "1                       0.083391               0.468464      1.065586   \n",
       "2                       0.145566               0.480779     -1.056387   \n",
       "3                       2.575937               0.205728     -0.226050   \n",
       "5                       0.132787               1.223830      1.096339   \n",
       "8                       0.428997               0.488990     -0.564335   \n",
       "...                          ...                    ...           ...   \n",
       "50221                  -0.227821              -0.237640     -0.625842   \n",
       "50223                  -0.211776               0.131833     -1.302413   \n",
       "50224                   0.047561               6.281500     -0.379816   \n",
       "50225                  -0.225409              -0.048798     -0.841114   \n",
       "50226                  -0.199444               0.234464      0.727301   \n",
       "\n",
       "               Distance  NumberofFloors  NumberofBuildings  PropertyGFATotal  \n",
       "OSEBuildingID                                                                 \n",
       "1             -1.217047        1.148926          -0.089713         -0.130754  \n",
       "2             -1.219976        1.001265          -0.089713         -0.053570  \n",
       "3             -1.255125        5.431108          -0.089713          4.294963  \n",
       "5             -1.287345        0.853603          -0.089713         -0.269053  \n",
       "8             -1.202402        2.034895          -0.089713          0.313748  \n",
       "...                 ...             ...                ...               ...  \n",
       "50221          1.243368       -0.475350          -0.089713         -0.488682  \n",
       "50223         -0.631234       -0.475350          -0.089713         -0.500214  \n",
       "50224         -0.423270       -0.475350          -0.089713         -0.514716  \n",
       "50225          1.518700       -0.475350          -0.089713         -0.509901  \n",
       "50226          1.310736       -0.475350          -0.089713         -0.488697  \n",
       "\n",
       "[1501 rows x 10 columns]"
      ]
     },
     "execution_count": 386,
     "metadata": {},
     "output_type": "execute_result"
    }
   ],
   "source": [
    "data_prepro[col_num]"
   ]
  },
  {
   "cell_type": "code",
   "execution_count": 387,
   "id": "fb33a6d6",
   "metadata": {},
   "outputs": [],
   "source": [
    "#Encodage avec Dummy\n",
    "#data_ohe = pd.get_dummies(data_prepro[col_cat])\n",
    "#data_ohe.shape"
   ]
  },
  {
   "cell_type": "markdown",
   "id": "0baa7826",
   "metadata": {},
   "source": [
    "Encodage avec OneHotEncoder"
   ]
  },
  {
   "cell_type": "code",
   "execution_count": 388,
   "id": "4862bff1",
   "metadata": {
    "scrolled": false
   },
   "outputs": [
    {
     "data": {
      "text/html": [
       "<div>\n",
       "<style scoped>\n",
       "    .dataframe tbody tr th:only-of-type {\n",
       "        vertical-align: middle;\n",
       "    }\n",
       "\n",
       "    .dataframe tbody tr th {\n",
       "        vertical-align: top;\n",
       "    }\n",
       "\n",
       "    .dataframe thead th {\n",
       "        text-align: right;\n",
       "    }\n",
       "</style>\n",
       "<table border=\"1\" class=\"dataframe\">\n",
       "  <thead>\n",
       "    <tr style=\"text-align: right;\">\n",
       "      <th></th>\n",
       "      <th>OSEBuildingID</th>\n",
       "      <th>ENERGYSTARScore</th>\n",
       "      <th>SiteEnergyUseWN(kBtu)</th>\n",
       "      <th>SiteEUIWN(kBtu/sf)</th>\n",
       "      <th>TotalGHGEmissions</th>\n",
       "      <th>GHGEmissionsIntensity</th>\n",
       "      <th>Building_Age</th>\n",
       "      <th>Distance</th>\n",
       "      <th>NumberofFloors</th>\n",
       "      <th>NumberofBuildings</th>\n",
       "      <th>...</th>\n",
       "      <th>Neighborhood_GREATER DUWAMISH</th>\n",
       "      <th>Neighborhood_LAKE UNION</th>\n",
       "      <th>Neighborhood_MAGNOLIA / QUEEN ANNE</th>\n",
       "      <th>Neighborhood_NORTH</th>\n",
       "      <th>Neighborhood_NORTHEAST</th>\n",
       "      <th>Neighborhood_NORTHWEST</th>\n",
       "      <th>Neighborhood_North</th>\n",
       "      <th>Neighborhood_Northwest</th>\n",
       "      <th>Neighborhood_SOUTHEAST</th>\n",
       "      <th>Neighborhood_SOUTHWEST</th>\n",
       "    </tr>\n",
       "  </thead>\n",
       "  <tbody>\n",
       "    <tr>\n",
       "      <th>0</th>\n",
       "      <td>1</td>\n",
       "      <td>-0.259891</td>\n",
       "      <td>-0.046699</td>\n",
       "      <td>0.078156</td>\n",
       "      <td>0.083391</td>\n",
       "      <td>0.468464</td>\n",
       "      <td>1.065586</td>\n",
       "      <td>-1.217047</td>\n",
       "      <td>1.148926</td>\n",
       "      <td>-0.089713</td>\n",
       "      <td>...</td>\n",
       "      <td>0.0</td>\n",
       "      <td>0.0</td>\n",
       "      <td>0.0</td>\n",
       "      <td>0.0</td>\n",
       "      <td>0.0</td>\n",
       "      <td>0.0</td>\n",
       "      <td>0.0</td>\n",
       "      <td>0.0</td>\n",
       "      <td>0.0</td>\n",
       "      <td>0.0</td>\n",
       "    </tr>\n",
       "    <tr>\n",
       "      <th>1</th>\n",
       "      <td>2</td>\n",
       "      <td>-0.217439</td>\n",
       "      <td>0.005657</td>\n",
       "      <td>0.255133</td>\n",
       "      <td>0.145566</td>\n",
       "      <td>0.480779</td>\n",
       "      <td>-1.056387</td>\n",
       "      <td>-1.219976</td>\n",
       "      <td>1.001265</td>\n",
       "      <td>-0.089713</td>\n",
       "      <td>...</td>\n",
       "      <td>0.0</td>\n",
       "      <td>0.0</td>\n",
       "      <td>0.0</td>\n",
       "      <td>0.0</td>\n",
       "      <td>0.0</td>\n",
       "      <td>0.0</td>\n",
       "      <td>0.0</td>\n",
       "      <td>0.0</td>\n",
       "      <td>0.0</td>\n",
       "      <td>0.0</td>\n",
       "    </tr>\n",
       "    <tr>\n",
       "      <th>2</th>\n",
       "      <td>3</td>\n",
       "      <td>-0.981585</td>\n",
       "      <td>2.835632</td>\n",
       "      <td>0.252531</td>\n",
       "      <td>2.575937</td>\n",
       "      <td>0.205728</td>\n",
       "      <td>-0.226050</td>\n",
       "      <td>-1.255125</td>\n",
       "      <td>5.431108</td>\n",
       "      <td>-0.089713</td>\n",
       "      <td>...</td>\n",
       "      <td>0.0</td>\n",
       "      <td>0.0</td>\n",
       "      <td>0.0</td>\n",
       "      <td>0.0</td>\n",
       "      <td>0.0</td>\n",
       "      <td>0.0</td>\n",
       "      <td>0.0</td>\n",
       "      <td>0.0</td>\n",
       "      <td>0.0</td>\n",
       "      <td>0.0</td>\n",
       "    </tr>\n",
       "    <tr>\n",
       "      <th>3</th>\n",
       "      <td>5</td>\n",
       "      <td>-0.429702</td>\n",
       "      <td>-0.068815</td>\n",
       "      <td>0.455534</td>\n",
       "      <td>0.132787</td>\n",
       "      <td>1.223830</td>\n",
       "      <td>1.096339</td>\n",
       "      <td>-1.287345</td>\n",
       "      <td>0.853603</td>\n",
       "      <td>-0.089713</td>\n",
       "      <td>...</td>\n",
       "      <td>0.0</td>\n",
       "      <td>0.0</td>\n",
       "      <td>0.0</td>\n",
       "      <td>0.0</td>\n",
       "      <td>0.0</td>\n",
       "      <td>0.0</td>\n",
       "      <td>0.0</td>\n",
       "      <td>0.0</td>\n",
       "      <td>0.0</td>\n",
       "      <td>0.0</td>\n",
       "    </tr>\n",
       "    <tr>\n",
       "      <th>4</th>\n",
       "      <td>8</td>\n",
       "      <td>0.376898</td>\n",
       "      <td>0.265448</td>\n",
       "      <td>0.525804</td>\n",
       "      <td>0.428997</td>\n",
       "      <td>0.488990</td>\n",
       "      <td>-0.564335</td>\n",
       "      <td>-1.202402</td>\n",
       "      <td>2.034895</td>\n",
       "      <td>-0.089713</td>\n",
       "      <td>...</td>\n",
       "      <td>0.0</td>\n",
       "      <td>0.0</td>\n",
       "      <td>0.0</td>\n",
       "      <td>0.0</td>\n",
       "      <td>0.0</td>\n",
       "      <td>0.0</td>\n",
       "      <td>0.0</td>\n",
       "      <td>0.0</td>\n",
       "      <td>0.0</td>\n",
       "      <td>0.0</td>\n",
       "    </tr>\n",
       "    <tr>\n",
       "      <th>...</th>\n",
       "      <td>...</td>\n",
       "      <td>...</td>\n",
       "      <td>...</td>\n",
       "      <td>...</td>\n",
       "      <td>...</td>\n",
       "      <td>...</td>\n",
       "      <td>...</td>\n",
       "      <td>...</td>\n",
       "      <td>...</td>\n",
       "      <td>...</td>\n",
       "      <td>...</td>\n",
       "      <td>...</td>\n",
       "      <td>...</td>\n",
       "      <td>...</td>\n",
       "      <td>...</td>\n",
       "      <td>...</td>\n",
       "      <td>...</td>\n",
       "      <td>...</td>\n",
       "      <td>...</td>\n",
       "      <td>...</td>\n",
       "      <td>...</td>\n",
       "    </tr>\n",
       "    <tr>\n",
       "      <th>1496</th>\n",
       "      <td>50221</td>\n",
       "      <td>0.207087</td>\n",
       "      <td>-0.325544</td>\n",
       "      <td>-0.287510</td>\n",
       "      <td>-0.227821</td>\n",
       "      <td>-0.237640</td>\n",
       "      <td>-0.625842</td>\n",
       "      <td>1.243368</td>\n",
       "      <td>-0.475350</td>\n",
       "      <td>-0.089713</td>\n",
       "      <td>...</td>\n",
       "      <td>0.0</td>\n",
       "      <td>0.0</td>\n",
       "      <td>0.0</td>\n",
       "      <td>0.0</td>\n",
       "      <td>0.0</td>\n",
       "      <td>0.0</td>\n",
       "      <td>0.0</td>\n",
       "      <td>0.0</td>\n",
       "      <td>0.0</td>\n",
       "      <td>0.0</td>\n",
       "    </tr>\n",
       "    <tr>\n",
       "      <th>1497</th>\n",
       "      <td>50223</td>\n",
       "      <td>0.207087</td>\n",
       "      <td>-0.324318</td>\n",
       "      <td>-0.161284</td>\n",
       "      <td>-0.211776</td>\n",
       "      <td>0.131833</td>\n",
       "      <td>-1.302413</td>\n",
       "      <td>-0.631234</td>\n",
       "      <td>-0.475350</td>\n",
       "      <td>-0.089713</td>\n",
       "      <td>...</td>\n",
       "      <td>0.0</td>\n",
       "      <td>0.0</td>\n",
       "      <td>0.0</td>\n",
       "      <td>0.0</td>\n",
       "      <td>0.0</td>\n",
       "      <td>0.0</td>\n",
       "      <td>0.0</td>\n",
       "      <td>0.0</td>\n",
       "      <td>0.0</td>\n",
       "      <td>0.0</td>\n",
       "    </tr>\n",
       "    <tr>\n",
       "      <th>1498</th>\n",
       "      <td>50224</td>\n",
       "      <td>0.207087</td>\n",
       "      <td>-0.107534</td>\n",
       "      <td>4.968453</td>\n",
       "      <td>0.047561</td>\n",
       "      <td>6.281500</td>\n",
       "      <td>-0.379816</td>\n",
       "      <td>-0.423270</td>\n",
       "      <td>-0.475350</td>\n",
       "      <td>-0.089713</td>\n",
       "      <td>...</td>\n",
       "      <td>0.0</td>\n",
       "      <td>0.0</td>\n",
       "      <td>1.0</td>\n",
       "      <td>0.0</td>\n",
       "      <td>0.0</td>\n",
       "      <td>0.0</td>\n",
       "      <td>0.0</td>\n",
       "      <td>0.0</td>\n",
       "      <td>0.0</td>\n",
       "      <td>0.0</td>\n",
       "    </tr>\n",
       "    <tr>\n",
       "      <th>1499</th>\n",
       "      <td>50225</td>\n",
       "      <td>0.207087</td>\n",
       "      <td>-0.336062</td>\n",
       "      <td>-0.296619</td>\n",
       "      <td>-0.225409</td>\n",
       "      <td>-0.048798</td>\n",
       "      <td>-0.841114</td>\n",
       "      <td>1.518700</td>\n",
       "      <td>-0.475350</td>\n",
       "      <td>-0.089713</td>\n",
       "      <td>...</td>\n",
       "      <td>1.0</td>\n",
       "      <td>0.0</td>\n",
       "      <td>0.0</td>\n",
       "      <td>0.0</td>\n",
       "      <td>0.0</td>\n",
       "      <td>0.0</td>\n",
       "      <td>0.0</td>\n",
       "      <td>0.0</td>\n",
       "      <td>0.0</td>\n",
       "      <td>0.0</td>\n",
       "    </tr>\n",
       "    <tr>\n",
       "      <th>1500</th>\n",
       "      <td>50226</td>\n",
       "      <td>0.207087</td>\n",
       "      <td>-0.313912</td>\n",
       "      <td>-0.096218</td>\n",
       "      <td>-0.199444</td>\n",
       "      <td>0.234464</td>\n",
       "      <td>0.727301</td>\n",
       "      <td>1.310736</td>\n",
       "      <td>-0.475350</td>\n",
       "      <td>-0.089713</td>\n",
       "      <td>...</td>\n",
       "      <td>1.0</td>\n",
       "      <td>0.0</td>\n",
       "      <td>0.0</td>\n",
       "      <td>0.0</td>\n",
       "      <td>0.0</td>\n",
       "      <td>0.0</td>\n",
       "      <td>0.0</td>\n",
       "      <td>0.0</td>\n",
       "      <td>0.0</td>\n",
       "      <td>0.0</td>\n",
       "    </tr>\n",
       "  </tbody>\n",
       "</table>\n",
       "<p>1501 rows × 55 columns</p>\n",
       "</div>"
      ],
      "text/plain": [
       "      OSEBuildingID  ENERGYSTARScore  SiteEnergyUseWN(kBtu)  \\\n",
       "0                 1        -0.259891              -0.046699   \n",
       "1                 2        -0.217439               0.005657   \n",
       "2                 3        -0.981585               2.835632   \n",
       "3                 5        -0.429702              -0.068815   \n",
       "4                 8         0.376898               0.265448   \n",
       "...             ...              ...                    ...   \n",
       "1496          50221         0.207087              -0.325544   \n",
       "1497          50223         0.207087              -0.324318   \n",
       "1498          50224         0.207087              -0.107534   \n",
       "1499          50225         0.207087              -0.336062   \n",
       "1500          50226         0.207087              -0.313912   \n",
       "\n",
       "      SiteEUIWN(kBtu/sf)  TotalGHGEmissions  GHGEmissionsIntensity  \\\n",
       "0               0.078156           0.083391               0.468464   \n",
       "1               0.255133           0.145566               0.480779   \n",
       "2               0.252531           2.575937               0.205728   \n",
       "3               0.455534           0.132787               1.223830   \n",
       "4               0.525804           0.428997               0.488990   \n",
       "...                  ...                ...                    ...   \n",
       "1496           -0.287510          -0.227821              -0.237640   \n",
       "1497           -0.161284          -0.211776               0.131833   \n",
       "1498            4.968453           0.047561               6.281500   \n",
       "1499           -0.296619          -0.225409              -0.048798   \n",
       "1500           -0.096218          -0.199444               0.234464   \n",
       "\n",
       "      Building_Age  Distance  NumberofFloors  NumberofBuildings  ...  \\\n",
       "0         1.065586 -1.217047        1.148926          -0.089713  ...   \n",
       "1        -1.056387 -1.219976        1.001265          -0.089713  ...   \n",
       "2        -0.226050 -1.255125        5.431108          -0.089713  ...   \n",
       "3         1.096339 -1.287345        0.853603          -0.089713  ...   \n",
       "4        -0.564335 -1.202402        2.034895          -0.089713  ...   \n",
       "...            ...       ...             ...                ...  ...   \n",
       "1496     -0.625842  1.243368       -0.475350          -0.089713  ...   \n",
       "1497     -1.302413 -0.631234       -0.475350          -0.089713  ...   \n",
       "1498     -0.379816 -0.423270       -0.475350          -0.089713  ...   \n",
       "1499     -0.841114  1.518700       -0.475350          -0.089713  ...   \n",
       "1500      0.727301  1.310736       -0.475350          -0.089713  ...   \n",
       "\n",
       "      Neighborhood_GREATER DUWAMISH  Neighborhood_LAKE UNION  \\\n",
       "0                               0.0                      0.0   \n",
       "1                               0.0                      0.0   \n",
       "2                               0.0                      0.0   \n",
       "3                               0.0                      0.0   \n",
       "4                               0.0                      0.0   \n",
       "...                             ...                      ...   \n",
       "1496                            0.0                      0.0   \n",
       "1497                            0.0                      0.0   \n",
       "1498                            0.0                      0.0   \n",
       "1499                            1.0                      0.0   \n",
       "1500                            1.0                      0.0   \n",
       "\n",
       "      Neighborhood_MAGNOLIA / QUEEN ANNE  Neighborhood_NORTH  \\\n",
       "0                                    0.0                 0.0   \n",
       "1                                    0.0                 0.0   \n",
       "2                                    0.0                 0.0   \n",
       "3                                    0.0                 0.0   \n",
       "4                                    0.0                 0.0   \n",
       "...                                  ...                 ...   \n",
       "1496                                 0.0                 0.0   \n",
       "1497                                 0.0                 0.0   \n",
       "1498                                 1.0                 0.0   \n",
       "1499                                 0.0                 0.0   \n",
       "1500                                 0.0                 0.0   \n",
       "\n",
       "      Neighborhood_NORTHEAST  Neighborhood_NORTHWEST  Neighborhood_North  \\\n",
       "0                        0.0                     0.0                 0.0   \n",
       "1                        0.0                     0.0                 0.0   \n",
       "2                        0.0                     0.0                 0.0   \n",
       "3                        0.0                     0.0                 0.0   \n",
       "4                        0.0                     0.0                 0.0   \n",
       "...                      ...                     ...                 ...   \n",
       "1496                     0.0                     0.0                 0.0   \n",
       "1497                     0.0                     0.0                 0.0   \n",
       "1498                     0.0                     0.0                 0.0   \n",
       "1499                     0.0                     0.0                 0.0   \n",
       "1500                     0.0                     0.0                 0.0   \n",
       "\n",
       "      Neighborhood_Northwest  Neighborhood_SOUTHEAST  Neighborhood_SOUTHWEST  \n",
       "0                        0.0                     0.0                     0.0  \n",
       "1                        0.0                     0.0                     0.0  \n",
       "2                        0.0                     0.0                     0.0  \n",
       "3                        0.0                     0.0                     0.0  \n",
       "4                        0.0                     0.0                     0.0  \n",
       "...                      ...                     ...                     ...  \n",
       "1496                     0.0                     0.0                     0.0  \n",
       "1497                     0.0                     0.0                     0.0  \n",
       "1498                     0.0                     0.0                     0.0  \n",
       "1499                     0.0                     0.0                     0.0  \n",
       "1500                     0.0                     0.0                     0.0  \n",
       "\n",
       "[1501 rows x 55 columns]"
      ]
     },
     "execution_count": 388,
     "metadata": {},
     "output_type": "execute_result"
    }
   ],
   "source": [
    "#création d'une instance one-hot-encoder\n",
    "encoder = OneHotEncoder(handle_unknown='ignore')\n",
    "\n",
    "#effectuer un one-hot encoding sur les colonnes 'col_cat'\n",
    "data_ohe = pd.DataFrame(encoder.fit_transform(data_prepro[col_cat]).toarray())\n",
    "\n",
    "encoder.get_feature_names([\"BuildingType\",\"PrimaryPropertyType\",\"Neighborhood\"])\n",
    "data_ohe.columns = encoder.get_feature_names([\"BuildingType\",\"PrimaryPropertyType\",\"Neighborhood\"])\n",
    "#merge les colonnes one-hot encoded avec le DataFrame d'origine\n",
    "data_mod = pd.merge(data_prepro[col_num].reset_index(), data_ohe, left_index = True, right_index = True)\n",
    "#data_mod  = data_prepro[col_num].join(data_ohe)\n",
    "\n",
    "data_mod"
   ]
  },
  {
   "cell_type": "code",
   "execution_count": 389,
   "id": "77f3ec5f",
   "metadata": {
    "scrolled": false
   },
   "outputs": [
    {
     "data": {
      "text/plain": [
       "Index(['OSEBuildingID', 'ENERGYSTARScore', 'SiteEnergyUseWN(kBtu)',\n",
       "       'SiteEUIWN(kBtu/sf)', 'TotalGHGEmissions', 'GHGEmissionsIntensity',\n",
       "       'Building_Age', 'Distance', 'NumberofFloors', 'NumberofBuildings',\n",
       "       'PropertyGFATotal', 'BuildingType_Campus',\n",
       "       'BuildingType_NonResidential', 'BuildingType_Nonresidential COS',\n",
       "       'BuildingType_Nonresidential WA', 'BuildingType_SPS-District K-12',\n",
       "       'PrimaryPropertyType_Distribution Center',\n",
       "       'PrimaryPropertyType_Hospital', 'PrimaryPropertyType_Hotel',\n",
       "       'PrimaryPropertyType_K-12 School', 'PrimaryPropertyType_Laboratory',\n",
       "       'PrimaryPropertyType_Large Office',\n",
       "       'PrimaryPropertyType_Medical Office',\n",
       "       'PrimaryPropertyType_Mixed Use Property', 'PrimaryPropertyType_Other',\n",
       "       'PrimaryPropertyType_Refrigerated Warehouse',\n",
       "       'PrimaryPropertyType_Residence Hall', 'PrimaryPropertyType_Restaurant',\n",
       "       'PrimaryPropertyType_Retail Store',\n",
       "       'PrimaryPropertyType_Self-Storage Facility',\n",
       "       'PrimaryPropertyType_Senior Care Community',\n",
       "       'PrimaryPropertyType_Small- and Mid-Sized Office',\n",
       "       'PrimaryPropertyType_Supermarket / Grocery Store',\n",
       "       'PrimaryPropertyType_University', 'PrimaryPropertyType_Warehouse',\n",
       "       'PrimaryPropertyType_Worship Facility', 'Neighborhood_BALLARD',\n",
       "       'Neighborhood_Ballard', 'Neighborhood_CENTRAL', 'Neighborhood_Central',\n",
       "       'Neighborhood_DELRIDGE', 'Neighborhood_DELRIDGE NEIGHBORHOODS',\n",
       "       'Neighborhood_DOWNTOWN', 'Neighborhood_Delridge', 'Neighborhood_EAST',\n",
       "       'Neighborhood_GREATER DUWAMISH', 'Neighborhood_LAKE UNION',\n",
       "       'Neighborhood_MAGNOLIA / QUEEN ANNE', 'Neighborhood_NORTH',\n",
       "       'Neighborhood_NORTHEAST', 'Neighborhood_NORTHWEST',\n",
       "       'Neighborhood_North', 'Neighborhood_Northwest',\n",
       "       'Neighborhood_SOUTHEAST', 'Neighborhood_SOUTHWEST'],\n",
       "      dtype='object')"
      ]
     },
     "execution_count": 389,
     "metadata": {},
     "output_type": "execute_result"
    }
   ],
   "source": [
    "data_mod.columns"
   ]
  },
  {
   "cell_type": "code",
   "execution_count": 390,
   "id": "cd3865fe",
   "metadata": {
    "scrolled": true
   },
   "outputs": [
    {
     "data": {
      "text/plain": [
       "(1501, 55)"
      ]
     },
     "execution_count": 390,
     "metadata": {},
     "output_type": "execute_result"
    }
   ],
   "source": [
    "data_mod.shape"
   ]
  },
  {
   "cell_type": "code",
   "execution_count": 391,
   "id": "8b4430d9",
   "metadata": {},
   "outputs": [
    {
     "data": {
      "text/plain": [
       "(1501, 10)"
      ]
     },
     "execution_count": 391,
     "metadata": {},
     "output_type": "execute_result"
    }
   ],
   "source": [
    "data_prepro[col_num].shape"
   ]
  },
  {
   "cell_type": "code",
   "execution_count": 392,
   "id": "86c4283d",
   "metadata": {
    "scrolled": true
   },
   "outputs": [
    {
     "data": {
      "text/plain": [
       "(1501, 44)"
      ]
     },
     "execution_count": 392,
     "metadata": {},
     "output_type": "execute_result"
    }
   ],
   "source": [
    "data_ohe.shape"
   ]
  },
  {
   "cell_type": "code",
   "execution_count": 393,
   "id": "038044dc",
   "metadata": {
    "scrolled": true
   },
   "outputs": [
    {
     "data": {
      "text/plain": [
       "0.0"
      ]
     },
     "execution_count": 393,
     "metadata": {},
     "output_type": "execute_result"
    }
   ],
   "source": [
    "data_ohe.isna().mean().sum()"
   ]
  },
  {
   "cell_type": "code",
   "execution_count": 394,
   "id": "be26e97d",
   "metadata": {
    "scrolled": false
   },
   "outputs": [
    {
     "data": {
      "text/plain": [
       "0.0"
      ]
     },
     "execution_count": 394,
     "metadata": {},
     "output_type": "execute_result"
    }
   ],
   "source": [
    "data_mod.isna().mean().sum()"
   ]
  },
  {
   "cell_type": "markdown",
   "id": "f5c88a7d",
   "metadata": {},
   "source": [
    "# II/ Sélection du modèle d'algorithme"
   ]
  },
  {
   "cell_type": "markdown",
   "id": "0156bfa0",
   "metadata": {},
   "source": [
    "## Analyse entre 4 algorithmes de regression (Linaire et non linéaire)\n",
    "\n",
    "On va appliquer 4 algorithmes de regression (sans optimisation des hyperparamètres) aux variables d'émissions de CO2 et de consommations d'énergies (4 variables sélectionnées) et on va garder l'algorithme de regression qui donne les meilleurs scores pour l'appliquer aux prédictions."
   ]
  },
  {
   "cell_type": "markdown",
   "id": "b08969fc",
   "metadata": {},
   "source": [
    "### A/ Variable 'SiteEnergyUseWN(kBtu)'\n",
    "\n",
    "- Séparation du jeu d'entrainement et du jeu de test"
   ]
  },
  {
   "cell_type": "code",
   "execution_count": 395,
   "id": "1a0e9391",
   "metadata": {},
   "outputs": [],
   "source": [
    "X = data_mod.copy()\n",
    "y = X['SiteEnergyUseWN(kBtu)']\n",
    "\n",
    "X = X.drop(['SiteEnergyUseWN(kBtu)', 'SiteEUIWN(kBtu/sf)','TotalGHGEmissions', \n",
    "            'GHGEmissionsIntensity'],axis=1)\n",
    "\n",
    "X = X[X.columns]\n",
    "\n",
    "X_train, X_test, y_train, y_test = model_selection.train_test_split(X, y,\n",
    "                                      test_size=0.2 # 20% des données dans le jeu de test\n",
    "                                      , random_state=42)"
   ]
  },
  {
   "cell_type": "code",
   "execution_count": 396,
   "id": "7ec83821",
   "metadata": {
    "scrolled": true
   },
   "outputs": [
    {
     "data": {
      "text/plain": [
       "Index(['OSEBuildingID', 'ENERGYSTARScore', 'Building_Age', 'Distance',\n",
       "       'NumberofFloors', 'NumberofBuildings', 'PropertyGFATotal',\n",
       "       'BuildingType_Campus', 'BuildingType_NonResidential',\n",
       "       'BuildingType_Nonresidential COS', 'BuildingType_Nonresidential WA',\n",
       "       'BuildingType_SPS-District K-12',\n",
       "       'PrimaryPropertyType_Distribution Center',\n",
       "       'PrimaryPropertyType_Hospital', 'PrimaryPropertyType_Hotel',\n",
       "       'PrimaryPropertyType_K-12 School', 'PrimaryPropertyType_Laboratory',\n",
       "       'PrimaryPropertyType_Large Office',\n",
       "       'PrimaryPropertyType_Medical Office',\n",
       "       'PrimaryPropertyType_Mixed Use Property', 'PrimaryPropertyType_Other',\n",
       "       'PrimaryPropertyType_Refrigerated Warehouse',\n",
       "       'PrimaryPropertyType_Residence Hall', 'PrimaryPropertyType_Restaurant',\n",
       "       'PrimaryPropertyType_Retail Store',\n",
       "       'PrimaryPropertyType_Self-Storage Facility',\n",
       "       'PrimaryPropertyType_Senior Care Community',\n",
       "       'PrimaryPropertyType_Small- and Mid-Sized Office',\n",
       "       'PrimaryPropertyType_Supermarket / Grocery Store',\n",
       "       'PrimaryPropertyType_University', 'PrimaryPropertyType_Warehouse',\n",
       "       'PrimaryPropertyType_Worship Facility', 'Neighborhood_BALLARD',\n",
       "       'Neighborhood_Ballard', 'Neighborhood_CENTRAL', 'Neighborhood_Central',\n",
       "       'Neighborhood_DELRIDGE', 'Neighborhood_DELRIDGE NEIGHBORHOODS',\n",
       "       'Neighborhood_DOWNTOWN', 'Neighborhood_Delridge', 'Neighborhood_EAST',\n",
       "       'Neighborhood_GREATER DUWAMISH', 'Neighborhood_LAKE UNION',\n",
       "       'Neighborhood_MAGNOLIA / QUEEN ANNE', 'Neighborhood_NORTH',\n",
       "       'Neighborhood_NORTHEAST', 'Neighborhood_NORTHWEST',\n",
       "       'Neighborhood_North', 'Neighborhood_Northwest',\n",
       "       'Neighborhood_SOUTHEAST', 'Neighborhood_SOUTHWEST'],\n",
       "      dtype='object')"
      ]
     },
     "execution_count": 396,
     "metadata": {},
     "output_type": "execute_result"
    }
   ],
   "source": [
    "X_train.columns"
   ]
  },
  {
   "cell_type": "code",
   "execution_count": 397,
   "id": "baf1d593",
   "metadata": {},
   "outputs": [
    {
     "data": {
      "text/plain": [
       "538    -0.128876\n",
       "1217   -0.359951\n",
       "1113   -0.268547\n",
       "324    -0.318507\n",
       "361    -0.261485\n",
       "Name: SiteEnergyUseWN(kBtu), dtype: float64"
      ]
     },
     "execution_count": 397,
     "metadata": {},
     "output_type": "execute_result"
    }
   ],
   "source": [
    "y_train.head()"
   ]
  },
  {
   "cell_type": "code",
   "execution_count": 398,
   "id": "00397e10",
   "metadata": {},
   "outputs": [],
   "source": [
    "lr = LinearRegression()\n",
    "lsvr = LinearSVR(random_state=42, tol=1e-05)\n",
    "clf = RandomForestRegressor(max_depth=2, random_state=42)\n",
    "#xgb = xgb.XGBRegressor(objective=\"reg:linear\", random_state=42)\n",
    "xgb = XGBRegressor(max_depth=2,random_state=42)"
   ]
  },
  {
   "cell_type": "markdown",
   "id": "923c449a",
   "metadata": {},
   "source": [
    "### A-1/ Algorithme LinearRegression"
   ]
  },
  {
   "cell_type": "code",
   "execution_count": 399,
   "id": "70701fbf",
   "metadata": {
    "scrolled": true
   },
   "outputs": [
    {
     "name": "stdout",
     "output_type": "stream",
     "text": [
      "RMSE: 1.29\n",
      "Coefficient of determination (R²): 0.18\n"
     ]
    }
   ],
   "source": [
    "lr.fit(X_train, y_train)\n",
    "y_lr_pred = lr.predict(X_test)\n",
    "print(\"RMSE: %.2f\" % np.sqrt(mean_squared_error(y_test, y_lr_pred)))\n",
    "print(\"Coefficient of determination (R²): %.2f\"% r2_score(y_test, y_lr_pred))"
   ]
  },
  {
   "cell_type": "code",
   "execution_count": 400,
   "id": "4f46279b",
   "metadata": {
    "scrolled": true
   },
   "outputs": [
    {
     "data": {
      "text/plain": [
       "Text(0, 0.5, 'Valeurs prédictes')"
      ]
     },
     "execution_count": 400,
     "metadata": {},
     "output_type": "execute_result"
    },
    {
     "data": {
      "image/png": "[encoded data removed]",
      "text/plain": [
       "<Figure size 432x288 with 1 Axes>"
      ]
     },
     "metadata": {},
     "output_type": "display_data"
    }
   ],
   "source": [
    "plt.title(\"LinearRegression - SiteEnergyUseWN(kBtu)\")\n",
    "plt.scatter(y_test, y_lr_pred, color='coral')\n",
    "plt.xlabel(\"Vraies valeurs\")\n",
    "plt.ylabel(\"Valeurs prédictes\")"
   ]
  },
  {
   "cell_type": "markdown",
   "id": "7d7d5cb8",
   "metadata": {},
   "source": [
    "### A-2/ Algorithme LinearSVR"
   ]
  },
  {
   "cell_type": "code",
   "execution_count": 401,
   "id": "0eb17be2",
   "metadata": {
    "scrolled": true
   },
   "outputs": [
    {
     "name": "stdout",
     "output_type": "stream",
     "text": [
      "RMSE: 6.76\n",
      "Coefficient of determination (R²): -21.42\n"
     ]
    },
    {
     "name": "stderr",
     "output_type": "stream",
     "text": [
      "Liblinear failed to converge, increase the number of iterations.\n"
     ]
    }
   ],
   "source": [
    "lsvr.fit(X_train, y_train)\n",
    "y_lsvr_pred = lsvr.predict(X_test)\n",
    "print(\"RMSE: %.2f\" % np.sqrt(mean_squared_error(y_test, y_lsvr_pred)))\n",
    "print(\"Coefficient of determination (R²): %.2f\"% r2_score(y_test, y_lsvr_pred))"
   ]
  },
  {
   "cell_type": "code",
   "execution_count": 402,
   "id": "9836bda1",
   "metadata": {},
   "outputs": [
    {
     "data": {
      "text/plain": [
       "Text(0, 0.5, 'Valeurs prédictes')"
      ]
     },
     "execution_count": 402,
     "metadata": {},
     "output_type": "execute_result"
    },
    {
     "data": {
      "image/png": "[encoded data removed]",
      "text/plain": [
       "<Figure size 432x288 with 1 Axes>"
      ]
     },
     "metadata": {},
     "output_type": "display_data"
    }
   ],
   "source": [
    "plt.title(\"LinearSVR - SiteEnergyUseWN(kBtu)\")\n",
    "plt.scatter(y_test, y_lsvr_pred, color='coral')\n",
    "plt.xlabel(\"Vraies valeurs\")\n",
    "plt.ylabel(\"Valeurs prédictes\")"
   ]
  },
  {
   "cell_type": "markdown",
   "id": "66dad60a",
   "metadata": {},
   "source": [
    "### A-3/ Algorithme RandomForestRegressor "
   ]
  },
  {
   "cell_type": "code",
   "execution_count": 403,
   "id": "6fac11c9",
   "metadata": {
    "scrolled": true
   },
   "outputs": [
    {
     "name": "stdout",
     "output_type": "stream",
     "text": [
      "RMSE: 1.31\n",
      "Coefficient of determination (R²): 0.15\n"
     ]
    }
   ],
   "source": [
    "clf.fit(X_train, y_train)\n",
    "y_rdf_pred = clf.predict(X_test)\n",
    "print(\"RMSE: %.2f\" % np.sqrt(mean_squared_error(y_test, y_rdf_pred)))\n",
    "print(\"Coefficient of determination (R²): %.2f\"% r2_score(y_test, y_rdf_pred))"
   ]
  },
  {
   "cell_type": "code",
   "execution_count": 404,
   "id": "215e0faf",
   "metadata": {
    "scrolled": true
   },
   "outputs": [
    {
     "data": {
      "text/plain": [
       "Text(0, 0.5, 'Valeurs prédictes')"
      ]
     },
     "execution_count": 404,
     "metadata": {},
     "output_type": "execute_result"
    },
    {
     "data": {
      "image/png": "[encoded data removed]",
      "text/plain": [
       "<Figure size 432x288 with 1 Axes>"
      ]
     },
     "metadata": {},
     "output_type": "display_data"
    }
   ],
   "source": [
    "plt.title(\"RandomForestRegressor  - SiteEnergyUseWN(kBtu)\")\n",
    "plt.scatter(y_test, y_rdf_pred, color='coral')\n",
    "plt.xlabel(\"Vraies valeurs\")\n",
    "plt.ylabel(\"Valeurs prédictes\")"
   ]
  },
  {
   "cell_type": "markdown",
   "id": "19083fee",
   "metadata": {},
   "source": [
    "### A-4/ Algorithme XGBoost"
   ]
  },
  {
   "cell_type": "code",
   "execution_count": 405,
   "id": "6b0304de",
   "metadata": {
    "scrolled": false
   },
   "outputs": [
    {
     "name": "stdout",
     "output_type": "stream",
     "text": [
      "RMSE: 1.25\n",
      "Coefficient of determination (R²): 0.23\n"
     ]
    }
   ],
   "source": [
    "xgb.fit(X_train, y_train)\n",
    "y_xgb_pred = xgb.predict(X_test)\n",
    "print(\"RMSE: %.2f\" % np.sqrt(mean_squared_error(y_test, y_xgb_pred)))\n",
    "print(\"Coefficient of determination (R²): %.2f\"% r2_score(y_test, y_xgb_pred))"
   ]
  },
  {
   "cell_type": "code",
   "execution_count": 406,
   "id": "5891b086",
   "metadata": {
    "scrolled": true
   },
   "outputs": [
    {
     "data": {
      "text/plain": [
       "Text(0, 0.5, 'Valeurs prédictes')"
      ]
     },
     "execution_count": 406,
     "metadata": {},
     "output_type": "execute_result"
    },
    {
     "data": {
      "image/png": "[encoded data removed]",
      "text/plain": [
       "<Figure size 432x288 with 1 Axes>"
      ]
     },
     "metadata": {},
     "output_type": "display_data"
    }
   ],
   "source": [
    "plt.title(\"XGBRegressor  - SiteEnergyUseWN(kBtu)\")\n",
    "plt.scatter(y_test, y_xgb_pred, color='coral')\n",
    "plt.xlabel(\"Vraies valeurs\")\n",
    "plt.ylabel(\"Valeurs prédictes\")"
   ]
  },
  {
   "cell_type": "markdown",
   "id": "fa0c5631",
   "metadata": {},
   "source": [
    "### B/ Variable 'SiteEUIWN(kBtu/sf)'\n",
    "\n",
    "- Séparation du jeu d'entrainement et du jeu de test"
   ]
  },
  {
   "cell_type": "code",
   "execution_count": 407,
   "id": "03c7ec32",
   "metadata": {},
   "outputs": [],
   "source": [
    "X = data_mod.copy()\n",
    "y = X['SiteEUIWN(kBtu/sf)']\n",
    "\n",
    "X = X.drop(['SiteEnergyUseWN(kBtu)', 'SiteEUIWN(kBtu/sf)','TotalGHGEmissions', \n",
    "                        'GHGEmissionsIntensity'],axis=1)\n",
    "\n",
    "X = X[X.columns]\n",
    "\n",
    "X_train, X_test, y_train, y_test = model_selection.train_test_split(X, y,\n",
    "                                      test_size=0.2 # 20% des données dans le jeu de test\n",
    "                                      , random_state=42)"
   ]
  },
  {
   "cell_type": "markdown",
   "id": "b5bbea1b",
   "metadata": {},
   "source": [
    "### B-1/ Algorithme LinearRegression"
   ]
  },
  {
   "cell_type": "code",
   "execution_count": 408,
   "id": "bf439017",
   "metadata": {
    "scrolled": true
   },
   "outputs": [
    {
     "name": "stdout",
     "output_type": "stream",
     "text": [
      "RMSE: 0.91\n",
      "Coefficient of determination (R²): 0.31\n"
     ]
    }
   ],
   "source": [
    "lr.fit(X_train, y_train)\n",
    "y_lr_pred = lr.predict(X_test)\n",
    "print(\"RMSE: %.2f\" % np.sqrt(mean_squared_error(y_test, y_lr_pred)))\n",
    "print(\"Coefficient of determination (R²): %.2f\"% r2_score(y_test, y_lr_pred))"
   ]
  },
  {
   "cell_type": "code",
   "execution_count": 409,
   "id": "62595af2",
   "metadata": {},
   "outputs": [
    {
     "data": {
      "text/plain": [
       "Text(0, 0.5, 'Valeurs prédictes')"
      ]
     },
     "execution_count": 409,
     "metadata": {},
     "output_type": "execute_result"
    },
    {
     "data": {
      "image/png": "[encoded data removed]",
      "text/plain": [
       "<Figure size 432x288 with 1 Axes>"
      ]
     },
     "metadata": {},
     "output_type": "display_data"
    }
   ],
   "source": [
    "plt.title(\"LinearRegression - SiteEUIWN(kBtu/sf)\")\n",
    "plt.scatter(y_test, y_lr_pred, color='coral')\n",
    "plt.xlabel(\"Vraies valeurs\")\n",
    "plt.ylabel(\"Valeurs prédictes\")"
   ]
  },
  {
   "cell_type": "markdown",
   "id": "273fd9ec",
   "metadata": {},
   "source": [
    "###  B-2/ Algorithme LinearSVR"
   ]
  },
  {
   "cell_type": "code",
   "execution_count": 410,
   "id": "e6dedf33",
   "metadata": {},
   "outputs": [
    {
     "name": "stdout",
     "output_type": "stream",
     "text": [
      "RMSE: 2.47\n",
      "Coefficient of determination (R²): -4.11\n"
     ]
    },
    {
     "name": "stderr",
     "output_type": "stream",
     "text": [
      "Liblinear failed to converge, increase the number of iterations.\n"
     ]
    }
   ],
   "source": [
    "lsvr.fit(X_train, y_train)\n",
    "y_lsvr_pred = lsvr.predict(X_test)\n",
    "print(\"RMSE: %.2f\" % np.sqrt(mean_squared_error(y_test, y_lsvr_pred)))\n",
    "print(\"Coefficient of determination (R²): %.2f\"% r2_score(y_test, y_lsvr_pred))"
   ]
  },
  {
   "cell_type": "code",
   "execution_count": 411,
   "id": "fe61a035",
   "metadata": {
    "scrolled": true
   },
   "outputs": [
    {
     "data": {
      "text/plain": [
       "Text(0, 0.5, 'Valeurs prédictes')"
      ]
     },
     "execution_count": 411,
     "metadata": {},
     "output_type": "execute_result"
    },
    {
     "data": {
      "image/png": "[encoded data removed]",
      "text/plain": [
       "<Figure size 432x288 with 1 Axes>"
      ]
     },
     "metadata": {},
     "output_type": "display_data"
    }
   ],
   "source": [
    "plt.title(\"LinearSVR - SiteEUIWN(kBtu/sf)\")\n",
    "plt.scatter(y_test, y_lsvr_pred, color='coral')\n",
    "plt.xlabel(\"Vraies valeurs\")\n",
    "plt.ylabel(\"Valeurs prédictes\")"
   ]
  },
  {
   "cell_type": "markdown",
   "id": "0b9d9907",
   "metadata": {},
   "source": [
    "###  B-3/ Algorithme RandomForestRegressor "
   ]
  },
  {
   "cell_type": "code",
   "execution_count": 412,
   "id": "d4a3620e",
   "metadata": {},
   "outputs": [
    {
     "name": "stdout",
     "output_type": "stream",
     "text": [
      "RMSE: 1.01\n",
      "Coefficient of determination (R²): 0.15\n"
     ]
    }
   ],
   "source": [
    "clf.fit(X_train, y_train)\n",
    "y_rdf_pred = clf.predict(X_test)\n",
    "print(\"RMSE: %.2f\" % np.sqrt(mean_squared_error(y_test, y_rdf_pred)))\n",
    "print(\"Coefficient of determination (R²): %.2f\"% r2_score(y_test, y_rdf_pred))"
   ]
  },
  {
   "cell_type": "code",
   "execution_count": 413,
   "id": "86744311",
   "metadata": {},
   "outputs": [
    {
     "data": {
      "text/plain": [
       "Text(0, 0.5, 'Valeurs prédictes')"
      ]
     },
     "execution_count": 413,
     "metadata": {},
     "output_type": "execute_result"
    },
    {
     "data": {
      "image/png": "[encoded data removed]",
      "text/plain": [
       "<Figure size 432x288 with 1 Axes>"
      ]
     },
     "metadata": {},
     "output_type": "display_data"
    }
   ],
   "source": [
    "plt.title(\"RandomForestRegressor  - SiteEUIWN(kBtu/sf)\")\n",
    "plt.scatter(y_test, y_rdf_pred, color='coral')\n",
    "plt.xlabel(\"Vraies valeurs\")\n",
    "plt.ylabel(\"Valeurs prédictes\")"
   ]
  },
  {
   "cell_type": "markdown",
   "id": "174d5590",
   "metadata": {},
   "source": [
    "###  B-4/ Algorithme XGBoost"
   ]
  },
  {
   "cell_type": "code",
   "execution_count": 414,
   "id": "20383660",
   "metadata": {},
   "outputs": [
    {
     "name": "stdout",
     "output_type": "stream",
     "text": [
      "RMSE: 0.79\n",
      "Coefficient of determination (R²): 0.48\n"
     ]
    }
   ],
   "source": [
    "xgb.fit(X_train, y_train)\n",
    "y_xgb_pred = xgb.predict(X_test)\n",
    "print(\"RMSE: %.2f\" % np.sqrt(mean_squared_error(y_test, y_xgb_pred)))\n",
    "print(\"Coefficient of determination (R²): %.2f\"% r2_score(y_test, y_xgb_pred))"
   ]
  },
  {
   "cell_type": "code",
   "execution_count": 415,
   "id": "41593992",
   "metadata": {
    "scrolled": true
   },
   "outputs": [
    {
     "data": {
      "text/plain": [
       "Text(0, 0.5, 'Valeurs prédictes')"
      ]
     },
     "execution_count": 415,
     "metadata": {},
     "output_type": "execute_result"
    },
    {
     "data": {
      "image/png": "[encoded data removed]",
      "text/plain": [
       "<Figure size 432x288 with 1 Axes>"
      ]
     },
     "metadata": {},
     "output_type": "display_data"
    }
   ],
   "source": [
    "plt.title(\"XGBRegressor  - SiteEUIWN(kBtu/sf)\")\n",
    "plt.scatter(y_test, y_xgb_pred, color='coral')\n",
    "plt.xlabel(\"Vraies valeurs\")\n",
    "plt.ylabel(\"Valeurs prédictes\")"
   ]
  },
  {
   "cell_type": "markdown",
   "id": "aff927f2",
   "metadata": {},
   "source": [
    "### C/ Variable ''TotalGHGEmissions''\n",
    "\n",
    "- Séparation du jeu d'entrainement et du jeu de test"
   ]
  },
  {
   "cell_type": "code",
   "execution_count": 416,
   "id": "b2f2e811",
   "metadata": {},
   "outputs": [],
   "source": [
    "X = data_mod.copy()\n",
    "y = X['TotalGHGEmissions']\n",
    "\n",
    "X = X.drop(['SiteEnergyUseWN(kBtu)', 'SiteEUIWN(kBtu/sf)','TotalGHGEmissions', \n",
    "                        'GHGEmissionsIntensity'],axis=1)\n",
    "\n",
    "X = X[X.columns]\n",
    "\n",
    "X_train, X_test, y_train, y_test = model_selection.train_test_split(X, y,\n",
    "                                      test_size=0.2 # 20% des données dans le jeu de test\n",
    "                                      , random_state=42)"
   ]
  },
  {
   "cell_type": "markdown",
   "id": "1e8a898c",
   "metadata": {},
   "source": [
    "###  C-1/ Algorithme LinearRegression"
   ]
  },
  {
   "cell_type": "code",
   "execution_count": 417,
   "id": "c6d8e7c8",
   "metadata": {
    "scrolled": true
   },
   "outputs": [
    {
     "name": "stdout",
     "output_type": "stream",
     "text": [
      "RMSE: 1.32\n",
      "Coefficient of determination (R²): 0.05\n"
     ]
    }
   ],
   "source": [
    "lr.fit(X_train, y_train)\n",
    "y_lr_pred = lr.predict(X_test)\n",
    "print(\"RMSE: %.2f\" % np.sqrt(mean_squared_error(y_test, y_lr_pred)))\n",
    "print(\"Coefficient of determination (R²): %.2f\"% r2_score(y_test, y_lr_pred))"
   ]
  },
  {
   "cell_type": "code",
   "execution_count": 418,
   "id": "81ad50cf",
   "metadata": {},
   "outputs": [
    {
     "data": {
      "text/plain": [
       "Text(0, 0.5, 'Valeurs prédictes')"
      ]
     },
     "execution_count": 418,
     "metadata": {},
     "output_type": "execute_result"
    },
    {
     "data": {
      "image/png": "[encoded data removed]",
      "text/plain": [
       "<Figure size 432x288 with 1 Axes>"
      ]
     },
     "metadata": {},
     "output_type": "display_data"
    }
   ],
   "source": [
    "plt.title(\"LinearRegression - TotalGHGEmissions\")\n",
    "plt.scatter(y_test, y_lr_pred, color='coral')\n",
    "plt.xlabel(\"Vraies valeurs\")\n",
    "plt.ylabel(\"Valeurs prédictes\")"
   ]
  },
  {
   "cell_type": "markdown",
   "id": "de272f23",
   "metadata": {},
   "source": [
    "### C-2/ Algorithme LinearSVR"
   ]
  },
  {
   "cell_type": "code",
   "execution_count": 419,
   "id": "39a9cb62",
   "metadata": {},
   "outputs": [
    {
     "name": "stdout",
     "output_type": "stream",
     "text": [
      "RMSE: 18.13\n",
      "Coefficient of determination (R²): -178.70\n"
     ]
    },
    {
     "name": "stderr",
     "output_type": "stream",
     "text": [
      "Liblinear failed to converge, increase the number of iterations.\n"
     ]
    }
   ],
   "source": [
    "lsvr.fit(X_train, y_train)\n",
    "y_lsvr_pred = lsvr.predict(X_test)\n",
    "print(\"RMSE: %.2f\" % np.sqrt(mean_squared_error(y_test, y_lsvr_pred)))\n",
    "print(\"Coefficient of determination (R²): %.2f\"% r2_score(y_test, y_lsvr_pred))"
   ]
  },
  {
   "cell_type": "code",
   "execution_count": 420,
   "id": "b47b1d76",
   "metadata": {},
   "outputs": [
    {
     "data": {
      "text/plain": [
       "Text(0, 0.5, 'Valeurs prédictes')"
      ]
     },
     "execution_count": 420,
     "metadata": {},
     "output_type": "execute_result"
    },
    {
     "data": {
      "image/png": "[encoded data removed]",
      "text/plain": [
       "<Figure size 432x288 with 1 Axes>"
      ]
     },
     "metadata": {},
     "output_type": "display_data"
    }
   ],
   "source": [
    "plt.title(\"LinearSVR - TotalGHGEmissions\")\n",
    "plt.scatter(y_test, y_lsvr_pred, color='coral')\n",
    "plt.xlabel(\"Vraies valeurs\")\n",
    "plt.ylabel(\"Valeurs prédictes\")"
   ]
  },
  {
   "cell_type": "markdown",
   "id": "ced4b2ea",
   "metadata": {},
   "source": [
    "### C-3/ Algorithme RandomForestRegressor "
   ]
  },
  {
   "cell_type": "code",
   "execution_count": 421,
   "id": "c55c54ee",
   "metadata": {
    "scrolled": true
   },
   "outputs": [
    {
     "name": "stdout",
     "output_type": "stream",
     "text": [
      "RMSE: 1.33\n",
      "Coefficient of determination (R²): 0.03\n"
     ]
    }
   ],
   "source": [
    "clf.fit(X_train, y_train)\n",
    "y_rdf_pred = clf.predict(X_test)\n",
    "print(\"RMSE: %.2f\" % np.sqrt(mean_squared_error(y_test, y_rdf_pred)))\n",
    "print(\"Coefficient of determination (R²): %.2f\"% r2_score(y_test, y_rdf_pred))"
   ]
  },
  {
   "cell_type": "code",
   "execution_count": 422,
   "id": "074a54c3",
   "metadata": {},
   "outputs": [
    {
     "data": {
      "text/plain": [
       "Text(0, 0.5, 'Valeurs prédictes')"
      ]
     },
     "execution_count": 422,
     "metadata": {},
     "output_type": "execute_result"
    },
    {
     "data": {
      "image/png": "[encoded data removed]",
      "text/plain": [
       "<Figure size 432x288 with 1 Axes>"
      ]
     },
     "metadata": {},
     "output_type": "display_data"
    }
   ],
   "source": [
    "plt.title(\"RandomForestRegressor  - TotalGHGEmissions\")\n",
    "plt.scatter(y_test, y_rdf_pred, color='coral')\n",
    "plt.xlabel(\"Vraies valeurs\")\n",
    "plt.ylabel(\"Valeurs prédictes\")"
   ]
  },
  {
   "cell_type": "markdown",
   "id": "1c1fa699",
   "metadata": {},
   "source": [
    "### C-4/ Algorithme XGBoost"
   ]
  },
  {
   "cell_type": "code",
   "execution_count": 423,
   "id": "2b797adf",
   "metadata": {
    "scrolled": true
   },
   "outputs": [
    {
     "name": "stdout",
     "output_type": "stream",
     "text": [
      "RMSE: 1.27\n",
      "Coefficient of determination (R²): 0.11\n"
     ]
    }
   ],
   "source": [
    "xgb.fit(X_train, y_train)\n",
    "y_xgb_pred = xgb.predict(X_test)\n",
    "print(\"RMSE: %.2f\" % np.sqrt(mean_squared_error(y_test, y_xgb_pred)))\n",
    "print(\"Coefficient of determination (R²): %.2f\"% r2_score(y_test, y_xgb_pred))"
   ]
  },
  {
   "cell_type": "code",
   "execution_count": 424,
   "id": "912e8de3",
   "metadata": {
    "scrolled": false
   },
   "outputs": [
    {
     "data": {
      "text/plain": [
       "Text(0, 0.5, 'Valeurs prédictes')"
      ]
     },
     "execution_count": 424,
     "metadata": {},
     "output_type": "execute_result"
    },
    {
     "data": {
      "image/png": "[encoded data removed]",
      "text/plain": [
       "<Figure size 432x288 with 1 Axes>"
      ]
     },
     "metadata": {},
     "output_type": "display_data"
    }
   ],
   "source": [
    "plt.title(\"XGBRegressor  - TotalGHGEmissions\")\n",
    "plt.scatter(y_test, y_xgb_pred, color='coral')\n",
    "plt.xlabel(\"Vraies valeurs\")\n",
    "plt.ylabel(\"Valeurs prédictes\")"
   ]
  },
  {
   "cell_type": "markdown",
   "id": "50e0c511",
   "metadata": {},
   "source": [
    "### D/ Variable ''GHGEmissionsIntensity''\n",
    "\n",
    "\n",
    "- Séparation du jeu d'entrainement et du jeu de test"
   ]
  },
  {
   "cell_type": "code",
   "execution_count": 425,
   "id": "3b24f814",
   "metadata": {},
   "outputs": [],
   "source": [
    "X = data_mod.copy()\n",
    "y = X['GHGEmissionsIntensity']\n",
    "\n",
    "X = X.drop(['SiteEnergyUseWN(kBtu)', 'SiteEUIWN(kBtu/sf)','TotalGHGEmissions', \n",
    "                        'GHGEmissionsIntensity'],axis=1)\n",
    "\n",
    "X = X[X.columns]\n",
    "\n",
    "X_train, X_test, y_train, y_test = model_selection.train_test_split(X, y,\n",
    "                                      test_size=0.2 # 20% des données dans le jeu de test\n",
    "                                      , random_state=42)"
   ]
  },
  {
   "cell_type": "markdown",
   "id": "526679ae",
   "metadata": {},
   "source": [
    "### D-1/ Algorithme LinearRegression"
   ]
  },
  {
   "cell_type": "code",
   "execution_count": 426,
   "id": "88182dc5",
   "metadata": {
    "scrolled": false
   },
   "outputs": [
    {
     "name": "stdout",
     "output_type": "stream",
     "text": [
      "RMSE: 1.15\n",
      "Coefficient of determination (R²): 0.19\n"
     ]
    }
   ],
   "source": [
    "lr.fit(X_train, y_train)\n",
    "y_lr_pred = lr.predict(X_test)\n",
    "print(\"RMSE: %.2f\" % np.sqrt(mean_squared_error(y_test, y_lr_pred)))\n",
    "print(\"Coefficient of determination (R²): %.2f\"% r2_score(y_test, y_lr_pred))"
   ]
  },
  {
   "cell_type": "code",
   "execution_count": 427,
   "id": "d4b433bd",
   "metadata": {},
   "outputs": [
    {
     "data": {
      "text/plain": [
       "Text(0, 0.5, 'Valeurs prédictes')"
      ]
     },
     "execution_count": 427,
     "metadata": {},
     "output_type": "execute_result"
    },
    {
     "data": {
      "image/png": "[encoded data removed]",
      "text/plain": [
       "<Figure size 432x288 with 1 Axes>"
      ]
     },
     "metadata": {},
     "output_type": "display_data"
    }
   ],
   "source": [
    "plt.title(\"LinearRegression - GHGEmissionsIntensity\")\n",
    "plt.scatter(y_test, y_lr_pred, color='coral')\n",
    "plt.xlabel(\"Vraies valeurs\")\n",
    "plt.ylabel(\"Valeurs prédictes\")"
   ]
  },
  {
   "cell_type": "markdown",
   "id": "0bd78cf4",
   "metadata": {},
   "source": [
    "### D-2/ Algorithme LinearSVR"
   ]
  },
  {
   "cell_type": "code",
   "execution_count": 428,
   "id": "f59fccc0",
   "metadata": {
    "scrolled": false
   },
   "outputs": [
    {
     "name": "stdout",
     "output_type": "stream",
     "text": [
      "RMSE: 23.53\n",
      "Coefficient of determination (R²): -338.48\n"
     ]
    },
    {
     "name": "stderr",
     "output_type": "stream",
     "text": [
      "Liblinear failed to converge, increase the number of iterations.\n"
     ]
    }
   ],
   "source": [
    "lsvr.fit(X_train, y_train)\n",
    "y_lsvr_pred = lsvr.predict(X_test)\n",
    "print(\"RMSE: %.2f\" % np.sqrt(mean_squared_error(y_test, y_lsvr_pred)))\n",
    "print(\"Coefficient of determination (R²): %.2f\"% r2_score(y_test, y_lsvr_pred))"
   ]
  },
  {
   "cell_type": "code",
   "execution_count": 429,
   "id": "f9ec492c",
   "metadata": {
    "scrolled": true
   },
   "outputs": [
    {
     "data": {
      "text/plain": [
       "Text(0, 0.5, 'Valeurs prédictes')"
      ]
     },
     "execution_count": 429,
     "metadata": {},
     "output_type": "execute_result"
    },
    {
     "data": {
      "image/png": "[encoded data removed]",
      "text/plain": [
       "<Figure size 432x288 with 1 Axes>"
      ]
     },
     "metadata": {},
     "output_type": "display_data"
    }
   ],
   "source": [
    "plt.title(\"LinearSVR - GHGEmissionsIntensity\")\n",
    "plt.scatter(y_test, y_lsvr_pred, color='coral')\n",
    "plt.xlabel(\"Vraies valeurs\")\n",
    "plt.ylabel(\"Valeurs prédictes\")"
   ]
  },
  {
   "cell_type": "markdown",
   "id": "07d52cd2",
   "metadata": {},
   "source": [
    "### D-3/ Algorithme RandomForestRegressor "
   ]
  },
  {
   "cell_type": "code",
   "execution_count": 430,
   "id": "4bb0f11e",
   "metadata": {},
   "outputs": [
    {
     "name": "stdout",
     "output_type": "stream",
     "text": [
      "RMSE: 1.24\n",
      "Coefficient of determination (R²): 0.05\n"
     ]
    }
   ],
   "source": [
    "clf.fit(X_train, y_train)\n",
    "y_rdf_pred = clf.predict(X_test)\n",
    "print(\"RMSE: %.2f\" % np.sqrt(mean_squared_error(y_test, y_rdf_pred)))\n",
    "print(\"Coefficient of determination (R²): %.2f\"% r2_score(y_test, y_rdf_pred))"
   ]
  },
  {
   "cell_type": "code",
   "execution_count": 431,
   "id": "5162792a",
   "metadata": {
    "scrolled": true
   },
   "outputs": [
    {
     "data": {
      "text/plain": [
       "Text(0, 0.5, 'Valeurs prédictes')"
      ]
     },
     "execution_count": 431,
     "metadata": {},
     "output_type": "execute_result"
    },
    {
     "data": {
      "image/png": "[encoded data removed]",
      "text/plain": [
       "<Figure size 432x288 with 1 Axes>"
      ]
     },
     "metadata": {},
     "output_type": "display_data"
    }
   ],
   "source": [
    "plt.title(\"RandomForestRegressor  - GHGEmissionsIntensity\")\n",
    "plt.scatter(y_test, y_rdf_pred, color='coral')\n",
    "plt.xlabel(\"Vraies valeurs\")\n",
    "plt.ylabel(\"Valeurs prédictes\")"
   ]
  },
  {
   "cell_type": "markdown",
   "id": "a56ee110",
   "metadata": {},
   "source": [
    "### D-4/ Algorithme XGBoost"
   ]
  },
  {
   "cell_type": "code",
   "execution_count": 432,
   "id": "8acae8a1",
   "metadata": {
    "scrolled": true
   },
   "outputs": [
    {
     "name": "stdout",
     "output_type": "stream",
     "text": [
      "RMSE: 1.11\n",
      "Coefficient of determination (R²): 0.25\n"
     ]
    }
   ],
   "source": [
    "xgb.fit(X_train, y_train)\n",
    "y_xgb_pred = xgb.predict(X_test)\n",
    "print(\"RMSE: %.2f\" % np.sqrt(mean_squared_error(y_test, y_xgb_pred)))\n",
    "print(\"Coefficient of determination (R²): %.2f\"% r2_score(y_test, y_xgb_pred))"
   ]
  },
  {
   "cell_type": "code",
   "execution_count": 433,
   "id": "b467e1fc",
   "metadata": {
    "scrolled": true
   },
   "outputs": [
    {
     "data": {
      "text/plain": [
       "Text(0, 0.5, 'Valeurs prédictes')"
      ]
     },
     "execution_count": 433,
     "metadata": {},
     "output_type": "execute_result"
    },
    {
     "data": {
      "image/png": "[encoded data removed]",
      "text/plain": [
       "<Figure size 432x288 with 1 Axes>"
      ]
     },
     "metadata": {},
     "output_type": "display_data"
    }
   ],
   "source": [
    "plt.title(\"XGBRegressor  - GHGEmissionsIntensity\")\n",
    "plt.scatter(y_test, y_xgb_pred, color='coral')\n",
    "plt.xlabel(\"Vraies valeurs\")\n",
    "plt.ylabel(\"Valeurs prédictes\")"
   ]
  },
  {
   "cell_type": "code",
   "execution_count": 441,
   "id": "691b8702",
   "metadata": {
    "scrolled": true
   },
   "outputs": [
    {
     "data": {
      "text/html": [
       "<div>\n",
       "<style scoped>\n",
       "    .dataframe tbody tr th:only-of-type {\n",
       "        vertical-align: middle;\n",
       "    }\n",
       "\n",
       "    .dataframe tbody tr th {\n",
       "        vertical-align: top;\n",
       "    }\n",
       "\n",
       "    .dataframe thead th {\n",
       "        text-align: right;\n",
       "    }\n",
       "</style>\n",
       "<table border=\"1\" class=\"dataframe\">\n",
       "  <thead>\n",
       "    <tr style=\"text-align: right;\">\n",
       "      <th></th>\n",
       "      <th>LinearRegression</th>\n",
       "      <th>LinearSVR</th>\n",
       "      <th>RandomForestRegressor</th>\n",
       "      <th>XGBoost</th>\n",
       "    </tr>\n",
       "  </thead>\n",
       "  <tbody>\n",
       "    <tr>\n",
       "      <th>RMSE</th>\n",
       "      <td></td>\n",
       "      <td></td>\n",
       "      <td></td>\n",
       "      <td></td>\n",
       "    </tr>\n",
       "    <tr>\n",
       "      <th>SiteEnergyUseWN(kBtu)</th>\n",
       "      <td>1.29</td>\n",
       "      <td>6.76</td>\n",
       "      <td>1.31</td>\n",
       "      <td>1.25</td>\n",
       "    </tr>\n",
       "    <tr>\n",
       "      <th>SiteEUIWN(kBtu/sf)</th>\n",
       "      <td>0.91</td>\n",
       "      <td>2.47</td>\n",
       "      <td>1.01</td>\n",
       "      <td>0.79</td>\n",
       "    </tr>\n",
       "    <tr>\n",
       "      <th>TotalGHGEmissions</th>\n",
       "      <td>1.32</td>\n",
       "      <td>18.13</td>\n",
       "      <td>1.33</td>\n",
       "      <td>1.27</td>\n",
       "    </tr>\n",
       "    <tr>\n",
       "      <th>GHGEmissionsIntensity</th>\n",
       "      <td>1.15</td>\n",
       "      <td>23.53</td>\n",
       "      <td>1.24</td>\n",
       "      <td>1.11</td>\n",
       "    </tr>\n",
       "  </tbody>\n",
       "</table>\n",
       "</div>"
      ],
      "text/plain": [
       "                      LinearRegression LinearSVR RandomForestRegressor XGBoost\n",
       "RMSE                                                                          \n",
       "SiteEnergyUseWN(kBtu)             1.29      6.76                  1.31    1.25\n",
       "SiteEUIWN(kBtu/sf)                0.91      2.47                  1.01    0.79\n",
       "TotalGHGEmissions                 1.32     18.13                  1.33    1.27\n",
       "GHGEmissionsIntensity             1.15     23.53                  1.24    1.11"
      ]
     },
     "execution_count": 441,
     "metadata": {},
     "output_type": "execute_result"
    }
   ],
   "source": [
    "#RMSE\n",
    "df0 = pd.DataFrame(np.array([[\"\",\"\",\"\",\"\"],[1.29, 6.76, 1.31, 1.25], [0.91, 2.47, 1.01, 0.79], [1.32, 18.13, 1.33, 1.27],[1.15, 23.53, 1.24, 1.11]]),\n",
    "                   index=[\"RMSE\",\"SiteEnergyUseWN(kBtu)\", \"SiteEUIWN(kBtu/sf)\", \"TotalGHGEmissions\", \"GHGEmissionsIntensity\"], \n",
    "                   columns=[\"LinearRegression\", \"LinearSVR\", \"RandomForestRegressor\", \"XGBoost\"])\n",
    "df0"
   ]
  },
  {
   "cell_type": "code",
   "execution_count": 442,
   "id": "d7c4762e",
   "metadata": {
    "scrolled": false
   },
   "outputs": [
    {
     "data": {
      "text/html": [
       "<div>\n",
       "<style scoped>\n",
       "    .dataframe tbody tr th:only-of-type {\n",
       "        vertical-align: middle;\n",
       "    }\n",
       "\n",
       "    .dataframe tbody tr th {\n",
       "        vertical-align: top;\n",
       "    }\n",
       "\n",
       "    .dataframe thead th {\n",
       "        text-align: right;\n",
       "    }\n",
       "</style>\n",
       "<table border=\"1\" class=\"dataframe\">\n",
       "  <thead>\n",
       "    <tr style=\"text-align: right;\">\n",
       "      <th></th>\n",
       "      <th>LinearRegression</th>\n",
       "      <th>LinearSVR</th>\n",
       "      <th>RandomForestRegressor</th>\n",
       "      <th>XGBoost</th>\n",
       "    </tr>\n",
       "  </thead>\n",
       "  <tbody>\n",
       "    <tr>\n",
       "      <th>r2</th>\n",
       "      <td></td>\n",
       "      <td></td>\n",
       "      <td></td>\n",
       "      <td></td>\n",
       "    </tr>\n",
       "    <tr>\n",
       "      <th>SiteEnergyUseWN(kBtu)</th>\n",
       "      <td>0.18</td>\n",
       "      <td>-21.42</td>\n",
       "      <td>0.15</td>\n",
       "      <td>0.23</td>\n",
       "    </tr>\n",
       "    <tr>\n",
       "      <th>SiteEUIWN(kBtu/sf)</th>\n",
       "      <td>0.31</td>\n",
       "      <td>-4.11</td>\n",
       "      <td>0.15</td>\n",
       "      <td>0.48</td>\n",
       "    </tr>\n",
       "    <tr>\n",
       "      <th>TotalGHGEmissions</th>\n",
       "      <td>0.05</td>\n",
       "      <td>-178.7</td>\n",
       "      <td>0.03</td>\n",
       "      <td>0.11</td>\n",
       "    </tr>\n",
       "    <tr>\n",
       "      <th>GHGEmissionsIntensity</th>\n",
       "      <td>0.19</td>\n",
       "      <td>-338.48</td>\n",
       "      <td>0.05</td>\n",
       "      <td>0.25</td>\n",
       "    </tr>\n",
       "  </tbody>\n",
       "</table>\n",
       "</div>"
      ],
      "text/plain": [
       "                      LinearRegression LinearSVR RandomForestRegressor XGBoost\n",
       "r2                                                                            \n",
       "SiteEnergyUseWN(kBtu)             0.18    -21.42                  0.15    0.23\n",
       "SiteEUIWN(kBtu/sf)                0.31     -4.11                  0.15    0.48\n",
       "TotalGHGEmissions                 0.05    -178.7                  0.03    0.11\n",
       "GHGEmissionsIntensity             0.19   -338.48                  0.05    0.25"
      ]
     },
     "execution_count": 442,
     "metadata": {},
     "output_type": "execute_result"
    }
   ],
   "source": [
    "#r2\n",
    "df1 = pd.DataFrame(np.array([[\"\",\"\",\"\",\"\"],[0.18, -21.42, 0.15, 0.23], [0.31, -4.11, 0.15, 0.48], [0.05, -178.70, 0.03, 0.11],[0.19, -338.48, 0.05, 0.25]]),\n",
    "                   index=[\"r2\",\"SiteEnergyUseWN(kBtu)\", \"SiteEUIWN(kBtu/sf)\", \"TotalGHGEmissions\", \"GHGEmissionsIntensity\"], \n",
    "                   columns=[\"LinearRegression\", \"LinearSVR\", \"RandomForestRegressor\", \"XGBoost\"])\n",
    "df1"
   ]
  },
  {
   "cell_type": "code",
   "execution_count": 454,
   "id": "250ef6b2",
   "metadata": {
    "scrolled": false
   },
   "outputs": [
    {
     "name": "stdout",
     "output_type": "stream",
     "text": [
      "Score avant gridSearchCV\n"
     ]
    },
    {
     "data": {
      "text/html": [
       "<div>\n",
       "<style scoped>\n",
       "    .dataframe tbody tr th:only-of-type {\n",
       "        vertical-align: middle;\n",
       "    }\n",
       "\n",
       "    .dataframe tbody tr th {\n",
       "        vertical-align: top;\n",
       "    }\n",
       "\n",
       "    .dataframe thead th {\n",
       "        text-align: right;\n",
       "    }\n",
       "</style>\n",
       "<table border=\"1\" class=\"dataframe\">\n",
       "  <thead>\n",
       "    <tr style=\"text-align: right;\">\n",
       "      <th></th>\n",
       "      <th>RMSE</th>\n",
       "      <th>r2</th>\n",
       "    </tr>\n",
       "  </thead>\n",
       "  <tbody>\n",
       "    <tr>\n",
       "      <th>XGBoost</th>\n",
       "      <td></td>\n",
       "      <td></td>\n",
       "    </tr>\n",
       "    <tr>\n",
       "      <th>SiteEnergyUseWN(kBtu)</th>\n",
       "      <td>1.25</td>\n",
       "      <td>0.23</td>\n",
       "    </tr>\n",
       "  </tbody>\n",
       "</table>\n",
       "</div>"
      ],
      "text/plain": [
       "                       RMSE    r2\n",
       "XGBoost                          \n",
       "SiteEnergyUseWN(kBtu)  1.25  0.23"
      ]
     },
     "execution_count": 454,
     "metadata": {},
     "output_type": "execute_result"
    }
   ],
   "source": [
    "#RMSE & r2\n",
    "df2 = pd.DataFrame(np.array([[\"\",\"\"],[1.25, 0.23]]),\n",
    "                   index=[\"XGBoost\",\"SiteEnergyUseWN(kBtu)\"], \n",
    "                   columns=[\"RMSE\", \"r2\"])\n",
    "print(\"Score avant gridSearchCV\")\n",
    "df2"
   ]
  },
  {
   "cell_type": "code",
   "execution_count": 460,
   "id": "c44dea37",
   "metadata": {
    "scrolled": false
   },
   "outputs": [
    {
     "name": "stdout",
     "output_type": "stream",
     "text": [
      "Score avant gridSearchCV\n"
     ]
    },
    {
     "data": {
      "text/html": [
       "<div>\n",
       "<style scoped>\n",
       "    .dataframe tbody tr th:only-of-type {\n",
       "        vertical-align: middle;\n",
       "    }\n",
       "\n",
       "    .dataframe tbody tr th {\n",
       "        vertical-align: top;\n",
       "    }\n",
       "\n",
       "    .dataframe thead th {\n",
       "        text-align: right;\n",
       "    }\n",
       "</style>\n",
       "<table border=\"1\" class=\"dataframe\">\n",
       "  <thead>\n",
       "    <tr style=\"text-align: right;\">\n",
       "      <th></th>\n",
       "      <th>RMSE</th>\n",
       "      <th>r2</th>\n",
       "    </tr>\n",
       "  </thead>\n",
       "  <tbody>\n",
       "    <tr>\n",
       "      <th>XGBoost</th>\n",
       "      <td></td>\n",
       "      <td></td>\n",
       "    </tr>\n",
       "    <tr>\n",
       "      <th>TotalGHGEmissions</th>\n",
       "      <td>1.27</td>\n",
       "      <td>0.11</td>\n",
       "    </tr>\n",
       "  </tbody>\n",
       "</table>\n",
       "</div>"
      ],
      "text/plain": [
       "                   RMSE    r2\n",
       "XGBoost                      \n",
       "TotalGHGEmissions  1.27  0.11"
      ]
     },
     "execution_count": 460,
     "metadata": {},
     "output_type": "execute_result"
    }
   ],
   "source": [
    "#RMSE & r2\n",
    "df8 = pd.DataFrame(np.array([[\"\",\"\"], [1.27, 0.11]]),\n",
    "                   index=[\"XGBoost\", \"TotalGHGEmissions\"], \n",
    "                   columns=[\"RMSE\", \"r2\"])\n",
    "print(\"Score avant gridSearchCV\")\n",
    "df8"
   ]
  },
  {
   "cell_type": "code",
   "execution_count": 448,
   "id": "2cb4c399",
   "metadata": {
    "scrolled": false
   },
   "outputs": [
    {
     "data": {
      "text/html": [
       "<div>\n",
       "<style scoped>\n",
       "    .dataframe tbody tr th:only-of-type {\n",
       "        vertical-align: middle;\n",
       "    }\n",
       "\n",
       "    .dataframe tbody tr th {\n",
       "        vertical-align: top;\n",
       "    }\n",
       "\n",
       "    .dataframe thead th {\n",
       "        text-align: right;\n",
       "    }\n",
       "</style>\n",
       "<table border=\"1\" class=\"dataframe\">\n",
       "  <thead>\n",
       "    <tr style=\"text-align: right;\">\n",
       "      <th></th>\n",
       "      <th>RMSE</th>\n",
       "      <th>r2</th>\n",
       "    </tr>\n",
       "  </thead>\n",
       "  <tbody>\n",
       "    <tr>\n",
       "      <th>XGBoost</th>\n",
       "      <td></td>\n",
       "      <td></td>\n",
       "    </tr>\n",
       "    <tr>\n",
       "      <th>SiteEnergyUseWN(kBtu)</th>\n",
       "      <td>1.25</td>\n",
       "      <td>0.23</td>\n",
       "    </tr>\n",
       "    <tr>\n",
       "      <th>TotalGHGEmissions</th>\n",
       "      <td>1.27</td>\n",
       "      <td>0.03</td>\n",
       "    </tr>\n",
       "  </tbody>\n",
       "</table>\n",
       "</div>"
      ],
      "text/plain": [
       "                       RMSE    r2\n",
       "XGBoost                          \n",
       "SiteEnergyUseWN(kBtu)  1.25  0.23\n",
       "TotalGHGEmissions      1.27  0.03"
      ]
     },
     "execution_count": 448,
     "metadata": {},
     "output_type": "execute_result"
    }
   ],
   "source": [
    "#RMSE & r2\n",
    "df3 = pd.DataFrame(np.array([[\"\",\"\"],[1.25, 0.23], [1.27, 0.03]]),\n",
    "                   index=[\"XGBoost\",\"SiteEnergyUseWN(kBtu)\", \"TotalGHGEmissions\"], \n",
    "                   columns=[\"RMSE\", \"r2\"])\n",
    "df3"
   ]
  },
  {
   "cell_type": "code",
   "execution_count": null,
   "id": "fbcfa53a",
   "metadata": {},
   "outputs": [],
   "source": []
  },
  {
   "cell_type": "markdown",
   "id": "641163dc",
   "metadata": {},
   "source": [
    "## Choix du modèle d'algorithme et des variables de prédictions"
   ]
  },
  {
   "cell_type": "markdown",
   "id": "ab6f7dc3",
   "metadata": {},
   "source": [
    "### On constate que le modèle XGBoost donne le meilleur compromis de performance. En effet, il est meilleur en terme de score r2 et également meilleur en terme de score RMSE. On se basera pour la suite sur les 2 variables \"SiteEnergyUseWN(kBtu)\" et \"TotalGHGEmissions\" (Analyse Exploratoire) et on suprimera de notre dataset les variables \"SiteEUIWN(kBtu/sf)\" et \"GHGEmissionsIntensity\"."
   ]
  },
  {
   "cell_type": "code",
   "execution_count": 357,
   "id": "77b44064",
   "metadata": {},
   "outputs": [],
   "source": [
    "del data_mod[\"SiteEUIWN(kBtu/sf)\"]\n",
    "del data_mod[\"GHGEmissionsIntensity\"]"
   ]
  },
  {
   "cell_type": "code",
   "execution_count": 358,
   "id": "02792592",
   "metadata": {},
   "outputs": [],
   "source": [
    "#on va exporter notre dataset pour l'utiliser pour une autre prédiction dans un autre NotebBook\n",
    "data_mod.to_csv(\"data_finalise.csv\")"
   ]
  },
  {
   "cell_type": "markdown",
   "id": "36de2456",
   "metadata": {},
   "source": [
    "# III/ Prédiction de \"SiteEnergyUseWN(kBtu)\""
   ]
  },
  {
   "cell_type": "code",
   "execution_count": 359,
   "id": "ea2c373f",
   "metadata": {
    "scrolled": false
   },
   "outputs": [
    {
     "name": "stdout",
     "output_type": "stream",
     "text": [
      "La taille du jeu d'entrainement est de 1200 bâtiments.\n",
      "La taille du jeu de test est de 301 bâtiments.\n"
     ]
    }
   ],
   "source": [
    "X_seuwn = data_mod.copy()\n",
    "y_seuwn = X_seuwn['SiteEnergyUseWN(kBtu)']\n",
    "X_seuwn = X_seuwn.drop(['SiteEnergyUseWN(kBtu)','TotalGHGEmissions'],axis=1)\n",
    "\n",
    "X_seuwn = X_seuwn[X_seuwn.columns]\n",
    "\n",
    "X_train_seuwn, X_test_seuwn, y_train_seuwn, y_test_seuwn = model_selection.train_test_split(X_seuwn, y_seuwn,\n",
    "                                      test_size=0.2 # 20% des données dans le jeu de test\n",
    "                                      , random_state=42)\n",
    "\n",
    "print(\"La taille du jeu d'entrainement est de {} bâtiments.\".format(X_train_seuwn.shape[0]))\n",
    "print(\"La taille du jeu de test est de {} bâtiments.\".format(X_test_seuwn.shape[0]))"
   ]
  },
  {
   "cell_type": "code",
   "execution_count": 360,
   "id": "ec61d0a8",
   "metadata": {
    "scrolled": true
   },
   "outputs": [
    {
     "data": {
      "text/html": [
       "<div>\n",
       "<style scoped>\n",
       "    .dataframe tbody tr th:only-of-type {\n",
       "        vertical-align: middle;\n",
       "    }\n",
       "\n",
       "    .dataframe tbody tr th {\n",
       "        vertical-align: top;\n",
       "    }\n",
       "\n",
       "    .dataframe thead th {\n",
       "        text-align: right;\n",
       "    }\n",
       "</style>\n",
       "<table border=\"1\" class=\"dataframe\">\n",
       "  <thead>\n",
       "    <tr style=\"text-align: right;\">\n",
       "      <th></th>\n",
       "      <th>OSEBuildingID</th>\n",
       "      <th>ENERGYSTARScore</th>\n",
       "      <th>Building_Age</th>\n",
       "      <th>Distance</th>\n",
       "      <th>NumberofFloors</th>\n",
       "      <th>NumberofBuildings</th>\n",
       "      <th>PropertyGFATotal</th>\n",
       "      <th>BuildingType_Campus</th>\n",
       "      <th>BuildingType_NonResidential</th>\n",
       "      <th>BuildingType_Nonresidential COS</th>\n",
       "      <th>...</th>\n",
       "      <th>Neighborhood_GREATER DUWAMISH</th>\n",
       "      <th>Neighborhood_LAKE UNION</th>\n",
       "      <th>Neighborhood_MAGNOLIA / QUEEN ANNE</th>\n",
       "      <th>Neighborhood_NORTH</th>\n",
       "      <th>Neighborhood_NORTHEAST</th>\n",
       "      <th>Neighborhood_NORTHWEST</th>\n",
       "      <th>Neighborhood_North</th>\n",
       "      <th>Neighborhood_Northwest</th>\n",
       "      <th>Neighborhood_SOUTHEAST</th>\n",
       "      <th>Neighborhood_SOUTHWEST</th>\n",
       "    </tr>\n",
       "  </thead>\n",
       "  <tbody>\n",
       "    <tr>\n",
       "      <th>1117</th>\n",
       "      <td>24537</td>\n",
       "      <td>0.207087</td>\n",
       "      <td>-0.533582</td>\n",
       "      <td>1.603643</td>\n",
       "      <td>-0.475350</td>\n",
       "      <td>-0.089713</td>\n",
       "      <td>-0.411871</td>\n",
       "      <td>0.0</td>\n",
       "      <td>1.0</td>\n",
       "      <td>0.0</td>\n",
       "      <td>...</td>\n",
       "      <td>1.0</td>\n",
       "      <td>0.0</td>\n",
       "      <td>0.0</td>\n",
       "      <td>0.0</td>\n",
       "      <td>0.0</td>\n",
       "      <td>0.0</td>\n",
       "      <td>0.0</td>\n",
       "      <td>0.0</td>\n",
       "      <td>0.0</td>\n",
       "      <td>0.0</td>\n",
       "    </tr>\n",
       "    <tr>\n",
       "      <th>643</th>\n",
       "      <td>20182</td>\n",
       "      <td>0.928781</td>\n",
       "      <td>-0.318309</td>\n",
       "      <td>0.871376</td>\n",
       "      <td>-0.475350</td>\n",
       "      <td>-0.089713</td>\n",
       "      <td>-0.447341</td>\n",
       "      <td>0.0</td>\n",
       "      <td>1.0</td>\n",
       "      <td>0.0</td>\n",
       "      <td>...</td>\n",
       "      <td>0.0</td>\n",
       "      <td>0.0</td>\n",
       "      <td>0.0</td>\n",
       "      <td>0.0</td>\n",
       "      <td>1.0</td>\n",
       "      <td>0.0</td>\n",
       "      <td>0.0</td>\n",
       "      <td>0.0</td>\n",
       "      <td>0.0</td>\n",
       "      <td>0.0</td>\n",
       "    </tr>\n",
       "    <tr>\n",
       "      <th>422</th>\n",
       "      <td>654</td>\n",
       "      <td>-0.005176</td>\n",
       "      <td>-0.349062</td>\n",
       "      <td>0.285563</td>\n",
       "      <td>-0.475350</td>\n",
       "      <td>-0.089713</td>\n",
       "      <td>-0.293271</td>\n",
       "      <td>0.0</td>\n",
       "      <td>1.0</td>\n",
       "      <td>0.0</td>\n",
       "      <td>...</td>\n",
       "      <td>1.0</td>\n",
       "      <td>0.0</td>\n",
       "      <td>0.0</td>\n",
       "      <td>0.0</td>\n",
       "      <td>0.0</td>\n",
       "      <td>0.0</td>\n",
       "      <td>0.0</td>\n",
       "      <td>0.0</td>\n",
       "      <td>0.0</td>\n",
       "      <td>0.0</td>\n",
       "    </tr>\n",
       "    <tr>\n",
       "      <th>413</th>\n",
       "      <td>639</td>\n",
       "      <td>-2.127805</td>\n",
       "      <td>0.973326</td>\n",
       "      <td>-0.256314</td>\n",
       "      <td>-0.180027</td>\n",
       "      <td>-0.089713</td>\n",
       "      <td>-0.272766</td>\n",
       "      <td>0.0</td>\n",
       "      <td>1.0</td>\n",
       "      <td>0.0</td>\n",
       "      <td>...</td>\n",
       "      <td>1.0</td>\n",
       "      <td>0.0</td>\n",
       "      <td>0.0</td>\n",
       "      <td>0.0</td>\n",
       "      <td>0.0</td>\n",
       "      <td>0.0</td>\n",
       "      <td>0.0</td>\n",
       "      <td>0.0</td>\n",
       "      <td>0.0</td>\n",
       "      <td>0.0</td>\n",
       "    </tr>\n",
       "    <tr>\n",
       "      <th>451</th>\n",
       "      <td>708</td>\n",
       "      <td>-0.132534</td>\n",
       "      <td>-0.748854</td>\n",
       "      <td>-0.792333</td>\n",
       "      <td>0.410619</td>\n",
       "      <td>-0.089713</td>\n",
       "      <td>0.833536</td>\n",
       "      <td>0.0</td>\n",
       "      <td>1.0</td>\n",
       "      <td>0.0</td>\n",
       "      <td>...</td>\n",
       "      <td>0.0</td>\n",
       "      <td>0.0</td>\n",
       "      <td>0.0</td>\n",
       "      <td>0.0</td>\n",
       "      <td>0.0</td>\n",
       "      <td>0.0</td>\n",
       "      <td>0.0</td>\n",
       "      <td>0.0</td>\n",
       "      <td>0.0</td>\n",
       "      <td>0.0</td>\n",
       "    </tr>\n",
       "    <tr>\n",
       "      <th>...</th>\n",
       "      <td>...</td>\n",
       "      <td>...</td>\n",
       "      <td>...</td>\n",
       "      <td>...</td>\n",
       "      <td>...</td>\n",
       "      <td>...</td>\n",
       "      <td>...</td>\n",
       "      <td>...</td>\n",
       "      <td>...</td>\n",
       "      <td>...</td>\n",
       "      <td>...</td>\n",
       "      <td>...</td>\n",
       "      <td>...</td>\n",
       "      <td>...</td>\n",
       "      <td>...</td>\n",
       "      <td>...</td>\n",
       "      <td>...</td>\n",
       "      <td>...</td>\n",
       "      <td>...</td>\n",
       "      <td>...</td>\n",
       "      <td>...</td>\n",
       "    </tr>\n",
       "    <tr>\n",
       "      <th>610</th>\n",
       "      <td>19873</td>\n",
       "      <td>-1.448564</td>\n",
       "      <td>0.942573</td>\n",
       "      <td>-1.014942</td>\n",
       "      <td>-0.327688</td>\n",
       "      <td>-0.089713</td>\n",
       "      <td>-0.447831</td>\n",
       "      <td>0.0</td>\n",
       "      <td>1.0</td>\n",
       "      <td>0.0</td>\n",
       "      <td>...</td>\n",
       "      <td>0.0</td>\n",
       "      <td>0.0</td>\n",
       "      <td>0.0</td>\n",
       "      <td>0.0</td>\n",
       "      <td>0.0</td>\n",
       "      <td>0.0</td>\n",
       "      <td>0.0</td>\n",
       "      <td>0.0</td>\n",
       "      <td>0.0</td>\n",
       "      <td>0.0</td>\n",
       "    </tr>\n",
       "    <tr>\n",
       "      <th>1343</th>\n",
       "      <td>27205</td>\n",
       "      <td>1.141044</td>\n",
       "      <td>0.235249</td>\n",
       "      <td>1.753025</td>\n",
       "      <td>-0.475350</td>\n",
       "      <td>-0.089713</td>\n",
       "      <td>-0.366944</td>\n",
       "      <td>0.0</td>\n",
       "      <td>0.0</td>\n",
       "      <td>0.0</td>\n",
       "      <td>...</td>\n",
       "      <td>0.0</td>\n",
       "      <td>0.0</td>\n",
       "      <td>0.0</td>\n",
       "      <td>0.0</td>\n",
       "      <td>0.0</td>\n",
       "      <td>1.0</td>\n",
       "      <td>0.0</td>\n",
       "      <td>0.0</td>\n",
       "      <td>0.0</td>\n",
       "      <td>0.0</td>\n",
       "    </tr>\n",
       "    <tr>\n",
       "      <th>654</th>\n",
       "      <td>20377</td>\n",
       "      <td>1.353307</td>\n",
       "      <td>-0.595088</td>\n",
       "      <td>0.361719</td>\n",
       "      <td>-0.180027</td>\n",
       "      <td>-0.089713</td>\n",
       "      <td>-0.182066</td>\n",
       "      <td>0.0</td>\n",
       "      <td>1.0</td>\n",
       "      <td>0.0</td>\n",
       "      <td>...</td>\n",
       "      <td>0.0</td>\n",
       "      <td>0.0</td>\n",
       "      <td>0.0</td>\n",
       "      <td>0.0</td>\n",
       "      <td>0.0</td>\n",
       "      <td>0.0</td>\n",
       "      <td>0.0</td>\n",
       "      <td>0.0</td>\n",
       "      <td>1.0</td>\n",
       "      <td>0.0</td>\n",
       "    </tr>\n",
       "    <tr>\n",
       "      <th>619</th>\n",
       "      <td>19910</td>\n",
       "      <td>-0.641965</td>\n",
       "      <td>0.296755</td>\n",
       "      <td>-1.164324</td>\n",
       "      <td>-0.032366</td>\n",
       "      <td>-0.089713</td>\n",
       "      <td>-0.445790</td>\n",
       "      <td>0.0</td>\n",
       "      <td>1.0</td>\n",
       "      <td>0.0</td>\n",
       "      <td>...</td>\n",
       "      <td>0.0</td>\n",
       "      <td>0.0</td>\n",
       "      <td>0.0</td>\n",
       "      <td>0.0</td>\n",
       "      <td>0.0</td>\n",
       "      <td>0.0</td>\n",
       "      <td>0.0</td>\n",
       "      <td>0.0</td>\n",
       "      <td>0.0</td>\n",
       "      <td>0.0</td>\n",
       "    </tr>\n",
       "    <tr>\n",
       "      <th>382</th>\n",
       "      <td>603</td>\n",
       "      <td>0.207087</td>\n",
       "      <td>1.280859</td>\n",
       "      <td>-0.698602</td>\n",
       "      <td>-0.180027</td>\n",
       "      <td>-0.089713</td>\n",
       "      <td>0.284190</td>\n",
       "      <td>0.0</td>\n",
       "      <td>1.0</td>\n",
       "      <td>0.0</td>\n",
       "      <td>...</td>\n",
       "      <td>0.0</td>\n",
       "      <td>1.0</td>\n",
       "      <td>0.0</td>\n",
       "      <td>0.0</td>\n",
       "      <td>0.0</td>\n",
       "      <td>0.0</td>\n",
       "      <td>0.0</td>\n",
       "      <td>0.0</td>\n",
       "      <td>0.0</td>\n",
       "      <td>0.0</td>\n",
       "    </tr>\n",
       "  </tbody>\n",
       "</table>\n",
       "<p>301 rows × 51 columns</p>\n",
       "</div>"
      ],
      "text/plain": [
       "      OSEBuildingID  ENERGYSTARScore  Building_Age  Distance  NumberofFloors  \\\n",
       "1117          24537         0.207087     -0.533582  1.603643       -0.475350   \n",
       "643           20182         0.928781     -0.318309  0.871376       -0.475350   \n",
       "422             654        -0.005176     -0.349062  0.285563       -0.475350   \n",
       "413             639        -2.127805      0.973326 -0.256314       -0.180027   \n",
       "451             708        -0.132534     -0.748854 -0.792333        0.410619   \n",
       "...             ...              ...           ...       ...             ...   \n",
       "610           19873        -1.448564      0.942573 -1.014942       -0.327688   \n",
       "1343          27205         1.141044      0.235249  1.753025       -0.475350   \n",
       "654           20377         1.353307     -0.595088  0.361719       -0.180027   \n",
       "619           19910        -0.641965      0.296755 -1.164324       -0.032366   \n",
       "382             603         0.207087      1.280859 -0.698602       -0.180027   \n",
       "\n",
       "      NumberofBuildings  PropertyGFATotal  BuildingType_Campus  \\\n",
       "1117          -0.089713         -0.411871                  0.0   \n",
       "643           -0.089713         -0.447341                  0.0   \n",
       "422           -0.089713         -0.293271                  0.0   \n",
       "413           -0.089713         -0.272766                  0.0   \n",
       "451           -0.089713          0.833536                  0.0   \n",
       "...                 ...               ...                  ...   \n",
       "610           -0.089713         -0.447831                  0.0   \n",
       "1343          -0.089713         -0.366944                  0.0   \n",
       "654           -0.089713         -0.182066                  0.0   \n",
       "619           -0.089713         -0.445790                  0.0   \n",
       "382           -0.089713          0.284190                  0.0   \n",
       "\n",
       "      BuildingType_NonResidential  BuildingType_Nonresidential COS  ...  \\\n",
       "1117                          1.0                              0.0  ...   \n",
       "643                           1.0                              0.0  ...   \n",
       "422                           1.0                              0.0  ...   \n",
       "413                           1.0                              0.0  ...   \n",
       "451                           1.0                              0.0  ...   \n",
       "...                           ...                              ...  ...   \n",
       "610                           1.0                              0.0  ...   \n",
       "1343                          0.0                              0.0  ...   \n",
       "654                           1.0                              0.0  ...   \n",
       "619                           1.0                              0.0  ...   \n",
       "382                           1.0                              0.0  ...   \n",
       "\n",
       "      Neighborhood_GREATER DUWAMISH  Neighborhood_LAKE UNION  \\\n",
       "1117                            1.0                      0.0   \n",
       "643                             0.0                      0.0   \n",
       "422                             1.0                      0.0   \n",
       "413                             1.0                      0.0   \n",
       "451                             0.0                      0.0   \n",
       "...                             ...                      ...   \n",
       "610                             0.0                      0.0   \n",
       "1343                            0.0                      0.0   \n",
       "654                             0.0                      0.0   \n",
       "619                             0.0                      0.0   \n",
       "382                             0.0                      1.0   \n",
       "\n",
       "      Neighborhood_MAGNOLIA / QUEEN ANNE  Neighborhood_NORTH  \\\n",
       "1117                                 0.0                 0.0   \n",
       "643                                  0.0                 0.0   \n",
       "422                                  0.0                 0.0   \n",
       "413                                  0.0                 0.0   \n",
       "451                                  0.0                 0.0   \n",
       "...                                  ...                 ...   \n",
       "610                                  0.0                 0.0   \n",
       "1343                                 0.0                 0.0   \n",
       "654                                  0.0                 0.0   \n",
       "619                                  0.0                 0.0   \n",
       "382                                  0.0                 0.0   \n",
       "\n",
       "      Neighborhood_NORTHEAST  Neighborhood_NORTHWEST  Neighborhood_North  \\\n",
       "1117                     0.0                     0.0                 0.0   \n",
       "643                      1.0                     0.0                 0.0   \n",
       "422                      0.0                     0.0                 0.0   \n",
       "413                      0.0                     0.0                 0.0   \n",
       "451                      0.0                     0.0                 0.0   \n",
       "...                      ...                     ...                 ...   \n",
       "610                      0.0                     0.0                 0.0   \n",
       "1343                     0.0                     1.0                 0.0   \n",
       "654                      0.0                     0.0                 0.0   \n",
       "619                      0.0                     0.0                 0.0   \n",
       "382                      0.0                     0.0                 0.0   \n",
       "\n",
       "      Neighborhood_Northwest  Neighborhood_SOUTHEAST  Neighborhood_SOUTHWEST  \n",
       "1117                     0.0                     0.0                     0.0  \n",
       "643                      0.0                     0.0                     0.0  \n",
       "422                      0.0                     0.0                     0.0  \n",
       "413                      0.0                     0.0                     0.0  \n",
       "451                      0.0                     0.0                     0.0  \n",
       "...                      ...                     ...                     ...  \n",
       "610                      0.0                     0.0                     0.0  \n",
       "1343                     0.0                     0.0                     0.0  \n",
       "654                      0.0                     1.0                     0.0  \n",
       "619                      0.0                     0.0                     0.0  \n",
       "382                      0.0                     0.0                     0.0  \n",
       "\n",
       "[301 rows x 51 columns]"
      ]
     },
     "execution_count": 360,
     "metadata": {},
     "output_type": "execute_result"
    }
   ],
   "source": [
    "X_test_seuwn"
   ]
  },
  {
   "cell_type": "markdown",
   "id": "abb38cf7",
   "metadata": {},
   "source": [
    "### Hyperparamètres avec GridSearchCV des différents modèles\n",
    "GridSearch est une approche de réglage des paramètres qui permettra d'évaluer méthodiquement un modèle pour chaque paramètres d'algorithme spécifiés dans une grille."
   ]
  },
  {
   "cell_type": "markdown",
   "id": "573fe580",
   "metadata": {},
   "source": [
    "## III-1/ Algorithme XGBoost"
   ]
  },
  {
   "cell_type": "markdown",
   "id": "6f496cfc",
   "metadata": {},
   "source": [
    "C’est une méthode ensembliste qui fait partie de la famille des algorithmes de boosting qui se base sur les arbres de décision et qui utilise plus particulièrement le boosting de gradient.\n",
    "\n",
    "Cet algorithme construit un modèle faible qui donne de très mauvais résultats, il tire des conclusions sur les erreurs qui existent entre la prédiction et la réalité. A partir de ces conclusions et des conditions prises lors de la création du premier arbre, il va construire un modèle plus solide en tentant de réduire l'erreur de prédiction du modèle précédent (prédiction des erreurs en donnant un poids élevé aux mauvaises prédictions de l'arbre précédent pour ne plus la refaire). Il s'agit ici d'un système itératif car la formation de l'arbre au temps T à besoin que l'arbre T-1 soit formé pour pouvoir prédire et améliorer les erreurs sur le modèle.\n",
    "\n",
    "Hyperparamètre :\n",
    "- n_estimators : nombre d'arbres de décision (nbre d'arbres séquentiels pour corriger les arbres précédents);\n",
    "- max_depth : nombre maximum de niveaux dans chaque arbre de décision;\n",
    "- learning_rate : Accroître le taux d'apprentissage (également appelé \"eta\") et réduit donc la pondération des variables pour éviter l'overfitting;\n",
    "- gamma : Réduction minimale des pertes requise pour créer une partition supplémentaire sur un nœud feuille de l'arbre. Plus le gamma est grand, plus l'algorithme sera conservateur;\n",
    "- min_child_weight: Nbre d'échantillon requis pour former un noeud (Profondeur maximale d'un arbre). L'augmentation de cette valeur rendra le modèle plus complexe et plus susceptible de sur-ajuster. 0 indique aucune limite de profondeur;"
   ]
  },
  {
   "cell_type": "code",
   "execution_count": 361,
   "id": "780340be",
   "metadata": {
    "scrolled": true
   },
   "outputs": [
    {
     "name": "stdout",
     "output_type": "stream",
     "text": [
      "Meilleur(s) hyperparamètre(s) sur le jeu d'entraînement:\n",
      "{'gamma': 0.5, 'learning_rate': 0.1, 'max_depth': 5, 'min_child_weight': 1, 'n_estimators': 200}\n",
      " \n",
      "Meilleur(s) score sur le jeu d'entraînement:\n",
      "0.6812470741572514\n",
      " \n",
      "RMSE: 1.282\n",
      " \n",
      "Résultats de la validation croisée :\n",
      "r2 = -0.227 (+/-0.250) for {'gamma': 0.5, 'learning_rate': 0.02, 'max_depth': 20, 'min_child_weight': 1, 'n_estimators': 5}\n",
      "r2 = 0.583 (+/-0.333) for {'gamma': 0.5, 'learning_rate': 0.02, 'max_depth': 20, 'min_child_weight': 1, 'n_estimators': 100}\n",
      "r2 = 0.628 (+/-0.429) for {'gamma': 0.5, 'learning_rate': 0.02, 'max_depth': 20, 'min_child_weight': 1, 'n_estimators': 200}\n",
      "r2 = -0.229 (+/-0.248) for {'gamma': 0.5, 'learning_rate': 0.02, 'max_depth': 20, 'min_child_weight': 3, 'n_estimators': 5}\n",
      "r2 = 0.578 (+/-0.304) for {'gamma': 0.5, 'learning_rate': 0.02, 'max_depth': 20, 'min_child_weight': 3, 'n_estimators': 100}\n",
      "r2 = 0.634 (+/-0.329) for {'gamma': 0.5, 'learning_rate': 0.02, 'max_depth': 20, 'min_child_weight': 3, 'n_estimators': 200}\n",
      "r2 = -0.240 (+/-0.266) for {'gamma': 0.5, 'learning_rate': 0.02, 'max_depth': 20, 'min_child_weight': 5, 'n_estimators': 5}\n",
      "r2 = 0.568 (+/-0.246) for {'gamma': 0.5, 'learning_rate': 0.02, 'max_depth': 20, 'min_child_weight': 5, 'n_estimators': 100}\n",
      "r2 = 0.609 (+/-0.294) for {'gamma': 0.5, 'learning_rate': 0.02, 'max_depth': 20, 'min_child_weight': 5, 'n_estimators': 200}\n",
      "r2 = -0.227 (+/-0.250) for {'gamma': 0.5, 'learning_rate': 0.02, 'max_depth': 50, 'min_child_weight': 1, 'n_estimators': 5}\n",
      "r2 = 0.583 (+/-0.333) for {'gamma': 0.5, 'learning_rate': 0.02, 'max_depth': 50, 'min_child_weight': 1, 'n_estimators': 100}\n",
      "r2 = 0.628 (+/-0.429) for {'gamma': 0.5, 'learning_rate': 0.02, 'max_depth': 50, 'min_child_weight': 1, 'n_estimators': 200}\n",
      "r2 = -0.229 (+/-0.248) for {'gamma': 0.5, 'learning_rate': 0.02, 'max_depth': 50, 'min_child_weight': 3, 'n_estimators': 5}\n",
      "r2 = 0.578 (+/-0.304) for {'gamma': 0.5, 'learning_rate': 0.02, 'max_depth': 50, 'min_child_weight': 3, 'n_estimators': 100}\n",
      "r2 = 0.634 (+/-0.329) for {'gamma': 0.5, 'learning_rate': 0.02, 'max_depth': 50, 'min_child_weight': 3, 'n_estimators': 200}\n",
      "r2 = -0.240 (+/-0.266) for {'gamma': 0.5, 'learning_rate': 0.02, 'max_depth': 50, 'min_child_weight': 5, 'n_estimators': 5}\n",
      "r2 = 0.568 (+/-0.246) for {'gamma': 0.5, 'learning_rate': 0.02, 'max_depth': 50, 'min_child_weight': 5, 'n_estimators': 100}\n",
      "r2 = 0.608 (+/-0.294) for {'gamma': 0.5, 'learning_rate': 0.02, 'max_depth': 50, 'min_child_weight': 5, 'n_estimators': 200}\n",
      "r2 = -0.229 (+/-0.246) for {'gamma': 0.5, 'learning_rate': 0.02, 'max_depth': 5, 'min_child_weight': 1, 'n_estimators': 5}\n",
      "r2 = 0.619 (+/-0.297) for {'gamma': 0.5, 'learning_rate': 0.02, 'max_depth': 5, 'min_child_weight': 1, 'n_estimators': 100}\n",
      "r2 = 0.667 (+/-0.383) for {'gamma': 0.5, 'learning_rate': 0.02, 'max_depth': 5, 'min_child_weight': 1, 'n_estimators': 200}\n",
      "r2 = -0.229 (+/-0.247) for {'gamma': 0.5, 'learning_rate': 0.02, 'max_depth': 5, 'min_child_weight': 3, 'n_estimators': 5}\n",
      "r2 = 0.601 (+/-0.293) for {'gamma': 0.5, 'learning_rate': 0.02, 'max_depth': 5, 'min_child_weight': 3, 'n_estimators': 100}\n",
      "r2 = 0.655 (+/-0.332) for {'gamma': 0.5, 'learning_rate': 0.02, 'max_depth': 5, 'min_child_weight': 3, 'n_estimators': 200}\n",
      "r2 = -0.240 (+/-0.266) for {'gamma': 0.5, 'learning_rate': 0.02, 'max_depth': 5, 'min_child_weight': 5, 'n_estimators': 5}\n",
      "r2 = 0.574 (+/-0.222) for {'gamma': 0.5, 'learning_rate': 0.02, 'max_depth': 5, 'min_child_weight': 5, 'n_estimators': 100}\n",
      "r2 = 0.618 (+/-0.276) for {'gamma': 0.5, 'learning_rate': 0.02, 'max_depth': 5, 'min_child_weight': 5, 'n_estimators': 200}\n",
      "r2 = -0.020 (+/-0.184) for {'gamma': 0.5, 'learning_rate': 0.05, 'max_depth': 20, 'min_child_weight': 1, 'n_estimators': 5}\n",
      "r2 = 0.637 (+/-0.431) for {'gamma': 0.5, 'learning_rate': 0.05, 'max_depth': 20, 'min_child_weight': 1, 'n_estimators': 100}\n",
      "r2 = 0.637 (+/-0.431) for {'gamma': 0.5, 'learning_rate': 0.05, 'max_depth': 20, 'min_child_weight': 1, 'n_estimators': 200}\n",
      "r2 = -0.021 (+/-0.183) for {'gamma': 0.5, 'learning_rate': 0.05, 'max_depth': 20, 'min_child_weight': 3, 'n_estimators': 5}\n",
      "r2 = 0.640 (+/-0.337) for {'gamma': 0.5, 'learning_rate': 0.05, 'max_depth': 20, 'min_child_weight': 3, 'n_estimators': 100}\n",
      "r2 = 0.642 (+/-0.338) for {'gamma': 0.5, 'learning_rate': 0.05, 'max_depth': 20, 'min_child_weight': 3, 'n_estimators': 200}\n",
      "r2 = -0.049 (+/-0.202) for {'gamma': 0.5, 'learning_rate': 0.05, 'max_depth': 20, 'min_child_weight': 5, 'n_estimators': 5}\n",
      "r2 = 0.611 (+/-0.296) for {'gamma': 0.5, 'learning_rate': 0.05, 'max_depth': 20, 'min_child_weight': 5, 'n_estimators': 100}\n",
      "r2 = 0.613 (+/-0.313) for {'gamma': 0.5, 'learning_rate': 0.05, 'max_depth': 20, 'min_child_weight': 5, 'n_estimators': 200}\n",
      "r2 = -0.020 (+/-0.184) for {'gamma': 0.5, 'learning_rate': 0.05, 'max_depth': 50, 'min_child_weight': 1, 'n_estimators': 5}\n",
      "r2 = 0.637 (+/-0.429) for {'gamma': 0.5, 'learning_rate': 0.05, 'max_depth': 50, 'min_child_weight': 1, 'n_estimators': 100}\n",
      "r2 = 0.637 (+/-0.429) for {'gamma': 0.5, 'learning_rate': 0.05, 'max_depth': 50, 'min_child_weight': 1, 'n_estimators': 200}\n",
      "r2 = -0.021 (+/-0.183) for {'gamma': 0.5, 'learning_rate': 0.05, 'max_depth': 50, 'min_child_weight': 3, 'n_estimators': 5}\n",
      "r2 = 0.640 (+/-0.337) for {'gamma': 0.5, 'learning_rate': 0.05, 'max_depth': 50, 'min_child_weight': 3, 'n_estimators': 100}\n",
      "r2 = 0.642 (+/-0.338) for {'gamma': 0.5, 'learning_rate': 0.05, 'max_depth': 50, 'min_child_weight': 3, 'n_estimators': 200}\n",
      "r2 = -0.049 (+/-0.202) for {'gamma': 0.5, 'learning_rate': 0.05, 'max_depth': 50, 'min_child_weight': 5, 'n_estimators': 5}\n",
      "r2 = 0.610 (+/-0.299) for {'gamma': 0.5, 'learning_rate': 0.05, 'max_depth': 50, 'min_child_weight': 5, 'n_estimators': 100}\n",
      "r2 = 0.611 (+/-0.319) for {'gamma': 0.5, 'learning_rate': 0.05, 'max_depth': 50, 'min_child_weight': 5, 'n_estimators': 200}\n",
      "r2 = -0.026 (+/-0.184) for {'gamma': 0.5, 'learning_rate': 0.05, 'max_depth': 5, 'min_child_weight': 1, 'n_estimators': 5}\n",
      "r2 = 0.674 (+/-0.389) for {'gamma': 0.5, 'learning_rate': 0.05, 'max_depth': 5, 'min_child_weight': 1, 'n_estimators': 100}\n",
      "r2 = 0.674 (+/-0.389) for {'gamma': 0.5, 'learning_rate': 0.05, 'max_depth': 5, 'min_child_weight': 1, 'n_estimators': 200}\n",
      "r2 = -0.025 (+/-0.182) for {'gamma': 0.5, 'learning_rate': 0.05, 'max_depth': 5, 'min_child_weight': 3, 'n_estimators': 5}\n",
      "r2 = 0.666 (+/-0.334) for {'gamma': 0.5, 'learning_rate': 0.05, 'max_depth': 5, 'min_child_weight': 3, 'n_estimators': 100}\n",
      "r2 = 0.667 (+/-0.337) for {'gamma': 0.5, 'learning_rate': 0.05, 'max_depth': 5, 'min_child_weight': 3, 'n_estimators': 200}\n",
      "r2 = -0.049 (+/-0.198) for {'gamma': 0.5, 'learning_rate': 0.05, 'max_depth': 5, 'min_child_weight': 5, 'n_estimators': 5}\n",
      "r2 = 0.616 (+/-0.290) for {'gamma': 0.5, 'learning_rate': 0.05, 'max_depth': 5, 'min_child_weight': 5, 'n_estimators': 100}\n",
      "r2 = 0.622 (+/-0.318) for {'gamma': 0.5, 'learning_rate': 0.05, 'max_depth': 5, 'min_child_weight': 5, 'n_estimators': 200}\n",
      "r2 = 0.211 (+/-0.199) for {'gamma': 0.5, 'learning_rate': 0.1, 'max_depth': 20, 'min_child_weight': 1, 'n_estimators': 5}\n",
      "r2 = 0.642 (+/-0.432) for {'gamma': 0.5, 'learning_rate': 0.1, 'max_depth': 20, 'min_child_weight': 1, 'n_estimators': 100}\n",
      "r2 = 0.642 (+/-0.432) for {'gamma': 0.5, 'learning_rate': 0.1, 'max_depth': 20, 'min_child_weight': 1, 'n_estimators': 200}\n",
      "r2 = 0.216 (+/-0.196) for {'gamma': 0.5, 'learning_rate': 0.1, 'max_depth': 20, 'min_child_weight': 3, 'n_estimators': 5}\n",
      "r2 = 0.646 (+/-0.329) for {'gamma': 0.5, 'learning_rate': 0.1, 'max_depth': 20, 'min_child_weight': 3, 'n_estimators': 100}\n",
      "r2 = 0.646 (+/-0.329) for {'gamma': 0.5, 'learning_rate': 0.1, 'max_depth': 20, 'min_child_weight': 3, 'n_estimators': 200}\n",
      "r2 = 0.185 (+/-0.175) for {'gamma': 0.5, 'learning_rate': 0.1, 'max_depth': 20, 'min_child_weight': 5, 'n_estimators': 5}\n",
      "r2 = 0.610 (+/-0.328) for {'gamma': 0.5, 'learning_rate': 0.1, 'max_depth': 20, 'min_child_weight': 5, 'n_estimators': 100}\n",
      "r2 = 0.608 (+/-0.329) for {'gamma': 0.5, 'learning_rate': 0.1, 'max_depth': 20, 'min_child_weight': 5, 'n_estimators': 200}\n",
      "r2 = 0.211 (+/-0.199) for {'gamma': 0.5, 'learning_rate': 0.1, 'max_depth': 50, 'min_child_weight': 1, 'n_estimators': 5}\n",
      "r2 = 0.642 (+/-0.432) for {'gamma': 0.5, 'learning_rate': 0.1, 'max_depth': 50, 'min_child_weight': 1, 'n_estimators': 100}\n",
      "r2 = 0.642 (+/-0.432) for {'gamma': 0.5, 'learning_rate': 0.1, 'max_depth': 50, 'min_child_weight': 1, 'n_estimators': 200}\n",
      "r2 = 0.216 (+/-0.196) for {'gamma': 0.5, 'learning_rate': 0.1, 'max_depth': 50, 'min_child_weight': 3, 'n_estimators': 5}\n",
      "r2 = 0.647 (+/-0.327) for {'gamma': 0.5, 'learning_rate': 0.1, 'max_depth': 50, 'min_child_weight': 3, 'n_estimators': 100}\n",
      "r2 = 0.647 (+/-0.327) for {'gamma': 0.5, 'learning_rate': 0.1, 'max_depth': 50, 'min_child_weight': 3, 'n_estimators': 200}\n",
      "r2 = 0.185 (+/-0.175) for {'gamma': 0.5, 'learning_rate': 0.1, 'max_depth': 50, 'min_child_weight': 5, 'n_estimators': 5}\n",
      "r2 = 0.610 (+/-0.328) for {'gamma': 0.5, 'learning_rate': 0.1, 'max_depth': 50, 'min_child_weight': 5, 'n_estimators': 100}\n",
      "r2 = 0.608 (+/-0.329) for {'gamma': 0.5, 'learning_rate': 0.1, 'max_depth': 50, 'min_child_weight': 5, 'n_estimators': 200}\n",
      "r2 = 0.214 (+/-0.219) for {'gamma': 0.5, 'learning_rate': 0.1, 'max_depth': 5, 'min_child_weight': 1, 'n_estimators': 5}\n",
      "r2 = 0.681 (+/-0.388) for {'gamma': 0.5, 'learning_rate': 0.1, 'max_depth': 5, 'min_child_weight': 1, 'n_estimators': 100}\n",
      "r2 = 0.681 (+/-0.388) for {'gamma': 0.5, 'learning_rate': 0.1, 'max_depth': 5, 'min_child_weight': 1, 'n_estimators': 200}\n",
      "r2 = 0.213 (+/-0.199) for {'gamma': 0.5, 'learning_rate': 0.1, 'max_depth': 5, 'min_child_weight': 3, 'n_estimators': 5}\n",
      "r2 = 0.667 (+/-0.339) for {'gamma': 0.5, 'learning_rate': 0.1, 'max_depth': 5, 'min_child_weight': 3, 'n_estimators': 100}\n",
      "r2 = 0.667 (+/-0.339) for {'gamma': 0.5, 'learning_rate': 0.1, 'max_depth': 5, 'min_child_weight': 3, 'n_estimators': 200}\n",
      "r2 = 0.184 (+/-0.168) for {'gamma': 0.5, 'learning_rate': 0.1, 'max_depth': 5, 'min_child_weight': 5, 'n_estimators': 5}\n",
      "r2 = 0.618 (+/-0.329) for {'gamma': 0.5, 'learning_rate': 0.1, 'max_depth': 5, 'min_child_weight': 5, 'n_estimators': 100}\n",
      "r2 = 0.618 (+/-0.329) for {'gamma': 0.5, 'learning_rate': 0.1, 'max_depth': 5, 'min_child_weight': 5, 'n_estimators': 200}\n",
      "r2 = -0.226 (+/-0.249) for {'gamma': 1, 'learning_rate': 0.02, 'max_depth': 20, 'min_child_weight': 1, 'n_estimators': 5}\n",
      "r2 = 0.609 (+/-0.314) for {'gamma': 1, 'learning_rate': 0.02, 'max_depth': 20, 'min_child_weight': 1, 'n_estimators': 100}\n",
      "r2 = 0.651 (+/-0.382) for {'gamma': 1, 'learning_rate': 0.02, 'max_depth': 20, 'min_child_weight': 1, 'n_estimators': 200}\n",
      "r2 = -0.229 (+/-0.246) for {'gamma': 1, 'learning_rate': 0.02, 'max_depth': 20, 'min_child_weight': 3, 'n_estimators': 5}\n",
      "r2 = 0.592 (+/-0.289) for {'gamma': 1, 'learning_rate': 0.02, 'max_depth': 20, 'min_child_weight': 3, 'n_estimators': 100}\n",
      "r2 = 0.643 (+/-0.324) for {'gamma': 1, 'learning_rate': 0.02, 'max_depth': 20, 'min_child_weight': 3, 'n_estimators': 200}\n",
      "r2 = -0.240 (+/-0.266) for {'gamma': 1, 'learning_rate': 0.02, 'max_depth': 20, 'min_child_weight': 5, 'n_estimators': 5}\n",
      "r2 = 0.564 (+/-0.241) for {'gamma': 1, 'learning_rate': 0.02, 'max_depth': 20, 'min_child_weight': 5, 'n_estimators': 100}\n",
      "r2 = 0.608 (+/-0.297) for {'gamma': 1, 'learning_rate': 0.02, 'max_depth': 20, 'min_child_weight': 5, 'n_estimators': 200}\n",
      "r2 = -0.226 (+/-0.249) for {'gamma': 1, 'learning_rate': 0.02, 'max_depth': 50, 'min_child_weight': 1, 'n_estimators': 5}\n",
      "r2 = 0.609 (+/-0.314) for {'gamma': 1, 'learning_rate': 0.02, 'max_depth': 50, 'min_child_weight': 1, 'n_estimators': 100}\n",
      "r2 = 0.651 (+/-0.382) for {'gamma': 1, 'learning_rate': 0.02, 'max_depth': 50, 'min_child_weight': 1, 'n_estimators': 200}\n",
      "r2 = -0.229 (+/-0.246) for {'gamma': 1, 'learning_rate': 0.02, 'max_depth': 50, 'min_child_weight': 3, 'n_estimators': 5}\n",
      "r2 = 0.592 (+/-0.289) for {'gamma': 1, 'learning_rate': 0.02, 'max_depth': 50, 'min_child_weight': 3, 'n_estimators': 100}\n",
      "r2 = 0.643 (+/-0.324) for {'gamma': 1, 'learning_rate': 0.02, 'max_depth': 50, 'min_child_weight': 3, 'n_estimators': 200}\n",
      "r2 = -0.240 (+/-0.266) for {'gamma': 1, 'learning_rate': 0.02, 'max_depth': 50, 'min_child_weight': 5, 'n_estimators': 5}\n",
      "r2 = 0.564 (+/-0.241) for {'gamma': 1, 'learning_rate': 0.02, 'max_depth': 50, 'min_child_weight': 5, 'n_estimators': 100}\n",
      "r2 = 0.608 (+/-0.297) for {'gamma': 1, 'learning_rate': 0.02, 'max_depth': 50, 'min_child_weight': 5, 'n_estimators': 200}\n",
      "r2 = -0.228 (+/-0.246) for {'gamma': 1, 'learning_rate': 0.02, 'max_depth': 5, 'min_child_weight': 1, 'n_estimators': 5}\n",
      "r2 = 0.618 (+/-0.308) for {'gamma': 1, 'learning_rate': 0.02, 'max_depth': 5, 'min_child_weight': 1, 'n_estimators': 100}\n",
      "r2 = 0.662 (+/-0.376) for {'gamma': 1, 'learning_rate': 0.02, 'max_depth': 5, 'min_child_weight': 1, 'n_estimators': 200}\n",
      "r2 = -0.230 (+/-0.247) for {'gamma': 1, 'learning_rate': 0.02, 'max_depth': 5, 'min_child_weight': 3, 'n_estimators': 5}\n",
      "r2 = 0.599 (+/-0.294) for {'gamma': 1, 'learning_rate': 0.02, 'max_depth': 5, 'min_child_weight': 3, 'n_estimators': 100}\n",
      "r2 = 0.655 (+/-0.321) for {'gamma': 1, 'learning_rate': 0.02, 'max_depth': 5, 'min_child_weight': 3, 'n_estimators': 200}\n",
      "r2 = -0.241 (+/-0.266) for {'gamma': 1, 'learning_rate': 0.02, 'max_depth': 5, 'min_child_weight': 5, 'n_estimators': 5}\n",
      "r2 = 0.572 (+/-0.230) for {'gamma': 1, 'learning_rate': 0.02, 'max_depth': 5, 'min_child_weight': 5, 'n_estimators': 100}\n",
      "r2 = 0.617 (+/-0.279) for {'gamma': 1, 'learning_rate': 0.02, 'max_depth': 5, 'min_child_weight': 5, 'n_estimators': 200}\n",
      "r2 = -0.020 (+/-0.181) for {'gamma': 1, 'learning_rate': 0.05, 'max_depth': 20, 'min_child_weight': 1, 'n_estimators': 5}\n",
      "r2 = 0.656 (+/-0.385) for {'gamma': 1, 'learning_rate': 0.05, 'max_depth': 20, 'min_child_weight': 1, 'n_estimators': 100}\n",
      "r2 = 0.656 (+/-0.384) for {'gamma': 1, 'learning_rate': 0.05, 'max_depth': 20, 'min_child_weight': 1, 'n_estimators': 200}\n",
      "r2 = -0.022 (+/-0.180) for {'gamma': 1, 'learning_rate': 0.05, 'max_depth': 20, 'min_child_weight': 3, 'n_estimators': 5}\n",
      "r2 = 0.649 (+/-0.318) for {'gamma': 1, 'learning_rate': 0.05, 'max_depth': 20, 'min_child_weight': 3, 'n_estimators': 100}\n",
      "r2 = 0.649 (+/-0.318) for {'gamma': 1, 'learning_rate': 0.05, 'max_depth': 20, 'min_child_weight': 3, 'n_estimators': 200}\n",
      "r2 = -0.049 (+/-0.200) for {'gamma': 1, 'learning_rate': 0.05, 'max_depth': 20, 'min_child_weight': 5, 'n_estimators': 5}\n",
      "r2 = 0.611 (+/-0.309) for {'gamma': 1, 'learning_rate': 0.05, 'max_depth': 20, 'min_child_weight': 5, 'n_estimators': 100}\n",
      "r2 = 0.610 (+/-0.310) for {'gamma': 1, 'learning_rate': 0.05, 'max_depth': 20, 'min_child_weight': 5, 'n_estimators': 200}\n",
      "r2 = -0.020 (+/-0.181) for {'gamma': 1, 'learning_rate': 0.05, 'max_depth': 50, 'min_child_weight': 1, 'n_estimators': 5}\n",
      "r2 = 0.656 (+/-0.385) for {'gamma': 1, 'learning_rate': 0.05, 'max_depth': 50, 'min_child_weight': 1, 'n_estimators': 100}\n",
      "r2 = 0.656 (+/-0.384) for {'gamma': 1, 'learning_rate': 0.05, 'max_depth': 50, 'min_child_weight': 1, 'n_estimators': 200}\n",
      "r2 = -0.022 (+/-0.180) for {'gamma': 1, 'learning_rate': 0.05, 'max_depth': 50, 'min_child_weight': 3, 'n_estimators': 5}\n",
      "r2 = 0.649 (+/-0.318) for {'gamma': 1, 'learning_rate': 0.05, 'max_depth': 50, 'min_child_weight': 3, 'n_estimators': 100}\n",
      "r2 = 0.649 (+/-0.318) for {'gamma': 1, 'learning_rate': 0.05, 'max_depth': 50, 'min_child_weight': 3, 'n_estimators': 200}\n",
      "r2 = -0.049 (+/-0.200) for {'gamma': 1, 'learning_rate': 0.05, 'max_depth': 50, 'min_child_weight': 5, 'n_estimators': 5}\n",
      "r2 = 0.611 (+/-0.309) for {'gamma': 1, 'learning_rate': 0.05, 'max_depth': 50, 'min_child_weight': 5, 'n_estimators': 100}\n",
      "r2 = 0.610 (+/-0.310) for {'gamma': 1, 'learning_rate': 0.05, 'max_depth': 50, 'min_child_weight': 5, 'n_estimators': 200}\n",
      "r2 = -0.026 (+/-0.183) for {'gamma': 1, 'learning_rate': 0.05, 'max_depth': 5, 'min_child_weight': 1, 'n_estimators': 5}\n",
      "r2 = 0.666 (+/-0.382) for {'gamma': 1, 'learning_rate': 0.05, 'max_depth': 5, 'min_child_weight': 1, 'n_estimators': 100}\n",
      "r2 = 0.666 (+/-0.381) for {'gamma': 1, 'learning_rate': 0.05, 'max_depth': 5, 'min_child_weight': 1, 'n_estimators': 200}\n",
      "r2 = -0.025 (+/-0.182) for {'gamma': 1, 'learning_rate': 0.05, 'max_depth': 5, 'min_child_weight': 3, 'n_estimators': 5}\n",
      "r2 = 0.655 (+/-0.328) for {'gamma': 1, 'learning_rate': 0.05, 'max_depth': 5, 'min_child_weight': 3, 'n_estimators': 100}\n",
      "r2 = 0.655 (+/-0.329) for {'gamma': 1, 'learning_rate': 0.05, 'max_depth': 5, 'min_child_weight': 3, 'n_estimators': 200}\n",
      "r2 = -0.049 (+/-0.199) for {'gamma': 1, 'learning_rate': 0.05, 'max_depth': 5, 'min_child_weight': 5, 'n_estimators': 5}\n",
      "r2 = 0.619 (+/-0.305) for {'gamma': 1, 'learning_rate': 0.05, 'max_depth': 5, 'min_child_weight': 5, 'n_estimators': 100}\n",
      "r2 = 0.622 (+/-0.312) for {'gamma': 1, 'learning_rate': 0.05, 'max_depth': 5, 'min_child_weight': 5, 'n_estimators': 200}\n",
      "r2 = 0.221 (+/-0.207) for {'gamma': 1, 'learning_rate': 0.1, 'max_depth': 20, 'min_child_weight': 1, 'n_estimators': 5}\n",
      "r2 = 0.655 (+/-0.391) for {'gamma': 1, 'learning_rate': 0.1, 'max_depth': 20, 'min_child_weight': 1, 'n_estimators': 100}\n",
      "r2 = 0.655 (+/-0.391) for {'gamma': 1, 'learning_rate': 0.1, 'max_depth': 20, 'min_child_weight': 1, 'n_estimators': 200}\n",
      "r2 = 0.214 (+/-0.198) for {'gamma': 1, 'learning_rate': 0.1, 'max_depth': 20, 'min_child_weight': 3, 'n_estimators': 5}\n",
      "r2 = 0.646 (+/-0.338) for {'gamma': 1, 'learning_rate': 0.1, 'max_depth': 20, 'min_child_weight': 3, 'n_estimators': 100}\n",
      "r2 = 0.646 (+/-0.338) for {'gamma': 1, 'learning_rate': 0.1, 'max_depth': 20, 'min_child_weight': 3, 'n_estimators': 200}\n",
      "r2 = 0.183 (+/-0.176) for {'gamma': 1, 'learning_rate': 0.1, 'max_depth': 20, 'min_child_weight': 5, 'n_estimators': 5}\n",
      "r2 = 0.611 (+/-0.318) for {'gamma': 1, 'learning_rate': 0.1, 'max_depth': 20, 'min_child_weight': 5, 'n_estimators': 100}\n",
      "r2 = 0.611 (+/-0.318) for {'gamma': 1, 'learning_rate': 0.1, 'max_depth': 20, 'min_child_weight': 5, 'n_estimators': 200}\n",
      "r2 = 0.221 (+/-0.207) for {'gamma': 1, 'learning_rate': 0.1, 'max_depth': 50, 'min_child_weight': 1, 'n_estimators': 5}\n",
      "r2 = 0.655 (+/-0.391) for {'gamma': 1, 'learning_rate': 0.1, 'max_depth': 50, 'min_child_weight': 1, 'n_estimators': 100}\n",
      "r2 = 0.655 (+/-0.391) for {'gamma': 1, 'learning_rate': 0.1, 'max_depth': 50, 'min_child_weight': 1, 'n_estimators': 200}\n",
      "r2 = 0.214 (+/-0.198) for {'gamma': 1, 'learning_rate': 0.1, 'max_depth': 50, 'min_child_weight': 3, 'n_estimators': 5}\n",
      "r2 = 0.646 (+/-0.338) for {'gamma': 1, 'learning_rate': 0.1, 'max_depth': 50, 'min_child_weight': 3, 'n_estimators': 100}\n",
      "r2 = 0.646 (+/-0.338) for {'gamma': 1, 'learning_rate': 0.1, 'max_depth': 50, 'min_child_weight': 3, 'n_estimators': 200}\n",
      "r2 = 0.183 (+/-0.176) for {'gamma': 1, 'learning_rate': 0.1, 'max_depth': 50, 'min_child_weight': 5, 'n_estimators': 5}\n",
      "r2 = 0.611 (+/-0.318) for {'gamma': 1, 'learning_rate': 0.1, 'max_depth': 50, 'min_child_weight': 5, 'n_estimators': 100}\n",
      "r2 = 0.611 (+/-0.318) for {'gamma': 1, 'learning_rate': 0.1, 'max_depth': 50, 'min_child_weight': 5, 'n_estimators': 200}\n",
      "r2 = 0.213 (+/-0.220) for {'gamma': 1, 'learning_rate': 0.1, 'max_depth': 5, 'min_child_weight': 1, 'n_estimators': 5}\n",
      "r2 = 0.662 (+/-0.388) for {'gamma': 1, 'learning_rate': 0.1, 'max_depth': 5, 'min_child_weight': 1, 'n_estimators': 100}\n",
      "r2 = 0.662 (+/-0.388) for {'gamma': 1, 'learning_rate': 0.1, 'max_depth': 5, 'min_child_weight': 1, 'n_estimators': 200}\n",
      "r2 = 0.213 (+/-0.200) for {'gamma': 1, 'learning_rate': 0.1, 'max_depth': 5, 'min_child_weight': 3, 'n_estimators': 5}\n",
      "r2 = 0.652 (+/-0.331) for {'gamma': 1, 'learning_rate': 0.1, 'max_depth': 5, 'min_child_weight': 3, 'n_estimators': 100}\n",
      "r2 = 0.652 (+/-0.331) for {'gamma': 1, 'learning_rate': 0.1, 'max_depth': 5, 'min_child_weight': 3, 'n_estimators': 200}\n",
      "r2 = 0.183 (+/-0.170) for {'gamma': 1, 'learning_rate': 0.1, 'max_depth': 5, 'min_child_weight': 5, 'n_estimators': 5}\n",
      "r2 = 0.622 (+/-0.339) for {'gamma': 1, 'learning_rate': 0.1, 'max_depth': 5, 'min_child_weight': 5, 'n_estimators': 100}\n",
      "r2 = 0.622 (+/-0.339) for {'gamma': 1, 'learning_rate': 0.1, 'max_depth': 5, 'min_child_weight': 5, 'n_estimators': 200}\n",
      "r2 = -0.229 (+/-0.248) for {'gamma': 3, 'learning_rate': 0.02, 'max_depth': 20, 'min_child_weight': 1, 'n_estimators': 5}\n",
      "r2 = 0.621 (+/-0.313) for {'gamma': 3, 'learning_rate': 0.02, 'max_depth': 20, 'min_child_weight': 1, 'n_estimators': 100}\n",
      "r2 = 0.655 (+/-0.343) for {'gamma': 3, 'learning_rate': 0.02, 'max_depth': 20, 'min_child_weight': 1, 'n_estimators': 200}\n",
      "r2 = -0.230 (+/-0.246) for {'gamma': 3, 'learning_rate': 0.02, 'max_depth': 20, 'min_child_weight': 3, 'n_estimators': 5}\n",
      "r2 = 0.608 (+/-0.291) for {'gamma': 3, 'learning_rate': 0.02, 'max_depth': 20, 'min_child_weight': 3, 'n_estimators': 100}\n",
      "r2 = 0.648 (+/-0.321) for {'gamma': 3, 'learning_rate': 0.02, 'max_depth': 20, 'min_child_weight': 3, 'n_estimators': 200}\n",
      "r2 = -0.243 (+/-0.267) for {'gamma': 3, 'learning_rate': 0.02, 'max_depth': 20, 'min_child_weight': 5, 'n_estimators': 5}\n",
      "r2 = 0.561 (+/-0.231) for {'gamma': 3, 'learning_rate': 0.02, 'max_depth': 20, 'min_child_weight': 5, 'n_estimators': 100}\n",
      "r2 = 0.619 (+/-0.257) for {'gamma': 3, 'learning_rate': 0.02, 'max_depth': 20, 'min_child_weight': 5, 'n_estimators': 200}\n",
      "r2 = -0.229 (+/-0.248) for {'gamma': 3, 'learning_rate': 0.02, 'max_depth': 50, 'min_child_weight': 1, 'n_estimators': 5}\n",
      "r2 = 0.621 (+/-0.313) for {'gamma': 3, 'learning_rate': 0.02, 'max_depth': 50, 'min_child_weight': 1, 'n_estimators': 100}\n",
      "r2 = 0.655 (+/-0.343) for {'gamma': 3, 'learning_rate': 0.02, 'max_depth': 50, 'min_child_weight': 1, 'n_estimators': 200}\n",
      "r2 = -0.230 (+/-0.246) for {'gamma': 3, 'learning_rate': 0.02, 'max_depth': 50, 'min_child_weight': 3, 'n_estimators': 5}\n",
      "r2 = 0.608 (+/-0.291) for {'gamma': 3, 'learning_rate': 0.02, 'max_depth': 50, 'min_child_weight': 3, 'n_estimators': 100}\n",
      "r2 = 0.648 (+/-0.321) for {'gamma': 3, 'learning_rate': 0.02, 'max_depth': 50, 'min_child_weight': 3, 'n_estimators': 200}\n",
      "r2 = -0.243 (+/-0.267) for {'gamma': 3, 'learning_rate': 0.02, 'max_depth': 50, 'min_child_weight': 5, 'n_estimators': 5}\n",
      "r2 = 0.561 (+/-0.231) for {'gamma': 3, 'learning_rate': 0.02, 'max_depth': 50, 'min_child_weight': 5, 'n_estimators': 100}\n",
      "r2 = 0.619 (+/-0.257) for {'gamma': 3, 'learning_rate': 0.02, 'max_depth': 50, 'min_child_weight': 5, 'n_estimators': 200}\n",
      "r2 = -0.230 (+/-0.249) for {'gamma': 3, 'learning_rate': 0.02, 'max_depth': 5, 'min_child_weight': 1, 'n_estimators': 5}\n",
      "r2 = 0.618 (+/-0.328) for {'gamma': 3, 'learning_rate': 0.02, 'max_depth': 5, 'min_child_weight': 1, 'n_estimators': 100}\n",
      "r2 = 0.653 (+/-0.354) for {'gamma': 3, 'learning_rate': 0.02, 'max_depth': 5, 'min_child_weight': 1, 'n_estimators': 200}\n",
      "r2 = -0.231 (+/-0.248) for {'gamma': 3, 'learning_rate': 0.02, 'max_depth': 5, 'min_child_weight': 3, 'n_estimators': 5}\n",
      "r2 = 0.604 (+/-0.296) for {'gamma': 3, 'learning_rate': 0.02, 'max_depth': 5, 'min_child_weight': 3, 'n_estimators': 100}\n",
      "r2 = 0.645 (+/-0.327) for {'gamma': 3, 'learning_rate': 0.02, 'max_depth': 5, 'min_child_weight': 3, 'n_estimators': 200}\n",
      "r2 = -0.243 (+/-0.267) for {'gamma': 3, 'learning_rate': 0.02, 'max_depth': 5, 'min_child_weight': 5, 'n_estimators': 5}\n",
      "r2 = 0.563 (+/-0.228) for {'gamma': 3, 'learning_rate': 0.02, 'max_depth': 5, 'min_child_weight': 5, 'n_estimators': 100}\n",
      "r2 = 0.619 (+/-0.258) for {'gamma': 3, 'learning_rate': 0.02, 'max_depth': 5, 'min_child_weight': 5, 'n_estimators': 200}\n",
      "r2 = -0.027 (+/-0.186) for {'gamma': 3, 'learning_rate': 0.05, 'max_depth': 20, 'min_child_weight': 1, 'n_estimators': 5}\n",
      "r2 = 0.653 (+/-0.342) for {'gamma': 3, 'learning_rate': 0.05, 'max_depth': 20, 'min_child_weight': 1, 'n_estimators': 100}\n",
      "r2 = 0.653 (+/-0.342) for {'gamma': 3, 'learning_rate': 0.05, 'max_depth': 20, 'min_child_weight': 1, 'n_estimators': 200}\n",
      "r2 = -0.025 (+/-0.181) for {'gamma': 3, 'learning_rate': 0.05, 'max_depth': 20, 'min_child_weight': 3, 'n_estimators': 5}\n",
      "r2 = 0.651 (+/-0.314) for {'gamma': 3, 'learning_rate': 0.05, 'max_depth': 20, 'min_child_weight': 3, 'n_estimators': 100}\n",
      "r2 = 0.652 (+/-0.313) for {'gamma': 3, 'learning_rate': 0.05, 'max_depth': 20, 'min_child_weight': 3, 'n_estimators': 200}\n",
      "r2 = -0.050 (+/-0.198) for {'gamma': 3, 'learning_rate': 0.05, 'max_depth': 20, 'min_child_weight': 5, 'n_estimators': 5}\n",
      "r2 = 0.621 (+/-0.268) for {'gamma': 3, 'learning_rate': 0.05, 'max_depth': 20, 'min_child_weight': 5, 'n_estimators': 100}\n",
      "r2 = 0.621 (+/-0.268) for {'gamma': 3, 'learning_rate': 0.05, 'max_depth': 20, 'min_child_weight': 5, 'n_estimators': 200}\n",
      "r2 = -0.027 (+/-0.186) for {'gamma': 3, 'learning_rate': 0.05, 'max_depth': 50, 'min_child_weight': 1, 'n_estimators': 5}\n",
      "r2 = 0.653 (+/-0.342) for {'gamma': 3, 'learning_rate': 0.05, 'max_depth': 50, 'min_child_weight': 1, 'n_estimators': 100}\n",
      "r2 = 0.653 (+/-0.342) for {'gamma': 3, 'learning_rate': 0.05, 'max_depth': 50, 'min_child_weight': 1, 'n_estimators': 200}\n",
      "r2 = -0.025 (+/-0.181) for {'gamma': 3, 'learning_rate': 0.05, 'max_depth': 50, 'min_child_weight': 3, 'n_estimators': 5}\n",
      "r2 = 0.651 (+/-0.314) for {'gamma': 3, 'learning_rate': 0.05, 'max_depth': 50, 'min_child_weight': 3, 'n_estimators': 100}\n",
      "r2 = 0.652 (+/-0.313) for {'gamma': 3, 'learning_rate': 0.05, 'max_depth': 50, 'min_child_weight': 3, 'n_estimators': 200}\n",
      "r2 = -0.050 (+/-0.198) for {'gamma': 3, 'learning_rate': 0.05, 'max_depth': 50, 'min_child_weight': 5, 'n_estimators': 5}\n",
      "r2 = 0.621 (+/-0.268) for {'gamma': 3, 'learning_rate': 0.05, 'max_depth': 50, 'min_child_weight': 5, 'n_estimators': 100}\n",
      "r2 = 0.621 (+/-0.268) for {'gamma': 3, 'learning_rate': 0.05, 'max_depth': 50, 'min_child_weight': 5, 'n_estimators': 200}\n",
      "r2 = -0.028 (+/-0.190) for {'gamma': 3, 'learning_rate': 0.05, 'max_depth': 5, 'min_child_weight': 1, 'n_estimators': 5}\n",
      "r2 = 0.651 (+/-0.353) for {'gamma': 3, 'learning_rate': 0.05, 'max_depth': 5, 'min_child_weight': 1, 'n_estimators': 100}\n",
      "r2 = 0.651 (+/-0.353) for {'gamma': 3, 'learning_rate': 0.05, 'max_depth': 5, 'min_child_weight': 1, 'n_estimators': 200}\n",
      "r2 = -0.026 (+/-0.185) for {'gamma': 3, 'learning_rate': 0.05, 'max_depth': 5, 'min_child_weight': 3, 'n_estimators': 5}\n",
      "r2 = 0.645 (+/-0.331) for {'gamma': 3, 'learning_rate': 0.05, 'max_depth': 5, 'min_child_weight': 3, 'n_estimators': 100}\n",
      "r2 = 0.645 (+/-0.332) for {'gamma': 3, 'learning_rate': 0.05, 'max_depth': 5, 'min_child_weight': 3, 'n_estimators': 200}\n",
      "r2 = -0.048 (+/-0.195) for {'gamma': 3, 'learning_rate': 0.05, 'max_depth': 5, 'min_child_weight': 5, 'n_estimators': 5}\n",
      "r2 = 0.619 (+/-0.263) for {'gamma': 3, 'learning_rate': 0.05, 'max_depth': 5, 'min_child_weight': 5, 'n_estimators': 100}\n",
      "r2 = 0.619 (+/-0.262) for {'gamma': 3, 'learning_rate': 0.05, 'max_depth': 5, 'min_child_weight': 5, 'n_estimators': 200}\n",
      "r2 = 0.210 (+/-0.225) for {'gamma': 3, 'learning_rate': 0.1, 'max_depth': 20, 'min_child_weight': 1, 'n_estimators': 5}\n",
      "r2 = 0.657 (+/-0.338) for {'gamma': 3, 'learning_rate': 0.1, 'max_depth': 20, 'min_child_weight': 1, 'n_estimators': 100}\n",
      "r2 = 0.657 (+/-0.338) for {'gamma': 3, 'learning_rate': 0.1, 'max_depth': 20, 'min_child_weight': 1, 'n_estimators': 200}\n",
      "r2 = 0.210 (+/-0.205) for {'gamma': 3, 'learning_rate': 0.1, 'max_depth': 20, 'min_child_weight': 3, 'n_estimators': 5}\n",
      "r2 = 0.652 (+/-0.326) for {'gamma': 3, 'learning_rate': 0.1, 'max_depth': 20, 'min_child_weight': 3, 'n_estimators': 100}\n",
      "r2 = 0.652 (+/-0.326) for {'gamma': 3, 'learning_rate': 0.1, 'max_depth': 20, 'min_child_weight': 3, 'n_estimators': 200}\n",
      "r2 = 0.184 (+/-0.165) for {'gamma': 3, 'learning_rate': 0.1, 'max_depth': 20, 'min_child_weight': 5, 'n_estimators': 5}\n",
      "r2 = 0.616 (+/-0.262) for {'gamma': 3, 'learning_rate': 0.1, 'max_depth': 20, 'min_child_weight': 5, 'n_estimators': 100}\n",
      "r2 = 0.616 (+/-0.262) for {'gamma': 3, 'learning_rate': 0.1, 'max_depth': 20, 'min_child_weight': 5, 'n_estimators': 200}\n",
      "r2 = 0.210 (+/-0.225) for {'gamma': 3, 'learning_rate': 0.1, 'max_depth': 50, 'min_child_weight': 1, 'n_estimators': 5}\n",
      "r2 = 0.657 (+/-0.338) for {'gamma': 3, 'learning_rate': 0.1, 'max_depth': 50, 'min_child_weight': 1, 'n_estimators': 100}\n",
      "r2 = 0.657 (+/-0.338) for {'gamma': 3, 'learning_rate': 0.1, 'max_depth': 50, 'min_child_weight': 1, 'n_estimators': 200}\n",
      "r2 = 0.210 (+/-0.205) for {'gamma': 3, 'learning_rate': 0.1, 'max_depth': 50, 'min_child_weight': 3, 'n_estimators': 5}\n",
      "r2 = 0.652 (+/-0.326) for {'gamma': 3, 'learning_rate': 0.1, 'max_depth': 50, 'min_child_weight': 3, 'n_estimators': 100}\n",
      "r2 = 0.652 (+/-0.326) for {'gamma': 3, 'learning_rate': 0.1, 'max_depth': 50, 'min_child_weight': 3, 'n_estimators': 200}\n",
      "r2 = 0.184 (+/-0.165) for {'gamma': 3, 'learning_rate': 0.1, 'max_depth': 50, 'min_child_weight': 5, 'n_estimators': 5}\n",
      "r2 = 0.616 (+/-0.262) for {'gamma': 3, 'learning_rate': 0.1, 'max_depth': 50, 'min_child_weight': 5, 'n_estimators': 100}\n",
      "r2 = 0.616 (+/-0.262) for {'gamma': 3, 'learning_rate': 0.1, 'max_depth': 50, 'min_child_weight': 5, 'n_estimators': 200}\n",
      "r2 = 0.208 (+/-0.226) for {'gamma': 3, 'learning_rate': 0.1, 'max_depth': 5, 'min_child_weight': 1, 'n_estimators': 5}\n",
      "r2 = 0.660 (+/-0.358) for {'gamma': 3, 'learning_rate': 0.1, 'max_depth': 5, 'min_child_weight': 1, 'n_estimators': 100}\n",
      "r2 = 0.660 (+/-0.358) for {'gamma': 3, 'learning_rate': 0.1, 'max_depth': 5, 'min_child_weight': 1, 'n_estimators': 200}\n",
      "r2 = 0.207 (+/-0.209) for {'gamma': 3, 'learning_rate': 0.1, 'max_depth': 5, 'min_child_weight': 3, 'n_estimators': 5}\n",
      "r2 = 0.649 (+/-0.322) for {'gamma': 3, 'learning_rate': 0.1, 'max_depth': 5, 'min_child_weight': 3, 'n_estimators': 100}\n",
      "r2 = 0.649 (+/-0.322) for {'gamma': 3, 'learning_rate': 0.1, 'max_depth': 5, 'min_child_weight': 3, 'n_estimators': 200}\n",
      "r2 = 0.184 (+/-0.165) for {'gamma': 3, 'learning_rate': 0.1, 'max_depth': 5, 'min_child_weight': 5, 'n_estimators': 5}\n",
      "r2 = 0.620 (+/-0.263) for {'gamma': 3, 'learning_rate': 0.1, 'max_depth': 5, 'min_child_weight': 5, 'n_estimators': 100}\n",
      "r2 = 0.620 (+/-0.263) for {'gamma': 3, 'learning_rate': 0.1, 'max_depth': 5, 'min_child_weight': 5, 'n_estimators': 200}\n",
      "Durée d'exécution : 0:10:22.926649\n"
     ]
    }
   ],
   "source": [
    "from xgboost import XGBRegressor\n",
    "from sklearn.model_selection import GridSearchCV\n",
    "from datetime import datetime\n",
    "start_time = datetime.now()\n",
    "\n",
    "# On fixe les valeurs des hyperparamètres à tester\n",
    "param_grid = {'n_estimators':  [5, 100, 200],  \n",
    "              'max_depth': [20,50,5],\n",
    "              'learning_rate': [0.02, 0.05, 0.1],\n",
    "              'gamma': [0.5, 1, 3],\n",
    "            'min_child_weight': [1, 3, 5],\n",
    "             }\n",
    "                \n",
    "# Choisir un score à optimiser\n",
    "score = 'r2'\n",
    "\n",
    "# define the model/ estimator\n",
    "model = XGBRegressor(random_state=42, verbosity = 0) #verbosity = 0 : silent : les messages warning ne sont pas \n",
    "                                                #affichés.  (0 :\"silent\", 1:\"warning\", 2:\"info\", 3:\"debug\")\n",
    "# On utilise GridSearchCV\n",
    "xgbr= GridSearchCV(model, param_grid, scoring=score, cv=5)   \n",
    "\n",
    "# On optimise sur le jeu d'entraînement\n",
    "xgbr.fit(X_train_seuwn, y_train_seuwn)\n",
    "\n",
    "# On généralise\n",
    "y_xgbr_seuwn_pred = xgbr.predict(X_test_seuwn)\n",
    "\n",
    "# Afficher le(s) hyperparamètre(s) optimaux\n",
    "print(\"Meilleur(s) hyperparamètre(s) sur le jeu d'entraînement:\")\n",
    "print(xgbr.best_params_)\n",
    "print(' ')\n",
    "print(\"Meilleur(s) score sur le jeu d'entraînement:\")\n",
    "print(xgbr.best_score_)\n",
    "print(' ')\n",
    "\n",
    "#RMSE\n",
    "print(\"RMSE: %.3f\" % np.sqrt(mean_squared_error(y_test_seuwn, y_xgbr_seuwn_pred)))\n",
    "print(' ')\n",
    "# Afficher les performances correspondantes\n",
    "print(\"Résultats de la validation croisée :\")\n",
    "for mean, std, params in zip(\n",
    "        xgbr.cv_results_['mean_test_score'], # score moyen\n",
    "        xgbr.cv_results_['std_test_score'],  # écart-type du score\n",
    "        xgbr.cv_results_['params']           # valeur de l'hyperparamètre\n",
    "    ):\n",
    "\n",
    "    print(\"{} = {:.3f} (+/-{:.03f}) for {}\".format(\n",
    "        score,\n",
    "        mean,\n",
    "        std*2,\n",
    "        params\n",
    "    ) )\n",
    "end_time = datetime.now()\n",
    "print('Durée d\\'exécution : {}'.format(end_time - start_time))"
   ]
  },
  {
   "cell_type": "markdown",
   "id": "d1105303",
   "metadata": {},
   "source": [
    "On a un r2 à 0.68 et RMSE à 1.28"
   ]
  },
  {
   "cell_type": "code",
   "execution_count": 456,
   "id": "6278236e",
   "metadata": {
    "scrolled": true
   },
   "outputs": [
    {
     "name": "stdout",
     "output_type": "stream",
     "text": [
      "Score après gridSearchCV\n"
     ]
    },
    {
     "data": {
      "text/html": [
       "<div>\n",
       "<style scoped>\n",
       "    .dataframe tbody tr th:only-of-type {\n",
       "        vertical-align: middle;\n",
       "    }\n",
       "\n",
       "    .dataframe tbody tr th {\n",
       "        vertical-align: top;\n",
       "    }\n",
       "\n",
       "    .dataframe thead th {\n",
       "        text-align: right;\n",
       "    }\n",
       "</style>\n",
       "<table border=\"1\" class=\"dataframe\">\n",
       "  <thead>\n",
       "    <tr style=\"text-align: right;\">\n",
       "      <th></th>\n",
       "      <th>RMSE</th>\n",
       "      <th>r2</th>\n",
       "    </tr>\n",
       "  </thead>\n",
       "  <tbody>\n",
       "    <tr>\n",
       "      <th>XGBoost</th>\n",
       "      <td></td>\n",
       "      <td></td>\n",
       "    </tr>\n",
       "    <tr>\n",
       "      <th>SiteEnergyUseWN(kBtu)</th>\n",
       "      <td>1.28</td>\n",
       "      <td>0.68</td>\n",
       "    </tr>\n",
       "  </tbody>\n",
       "</table>\n",
       "</div>"
      ],
      "text/plain": [
       "                       RMSE    r2\n",
       "XGBoost                          \n",
       "SiteEnergyUseWN(kBtu)  1.28  0.68"
      ]
     },
     "execution_count": 456,
     "metadata": {},
     "output_type": "execute_result"
    }
   ],
   "source": [
    "#RMSE & r2\n",
    "df5 = pd.DataFrame(np.array([[\"\",\"\"], [1.28, 0.68]]),\n",
    "                   index=[\"XGBoost\", \"SiteEnergyUseWN(kBtu)\"], \n",
    "                   columns=[\"RMSE\", \"r2\"])\n",
    "print(\"Score après gridSearchCV\")\n",
    "df5"
   ]
  },
  {
   "cell_type": "code",
   "execution_count": 362,
   "id": "527ee707",
   "metadata": {
    "scrolled": true
   },
   "outputs": [
    {
     "data": {
      "text/html": [
       "<div>\n",
       "<style scoped>\n",
       "    .dataframe tbody tr th:only-of-type {\n",
       "        vertical-align: middle;\n",
       "    }\n",
       "\n",
       "    .dataframe tbody tr th {\n",
       "        vertical-align: top;\n",
       "    }\n",
       "\n",
       "    .dataframe thead th {\n",
       "        text-align: right;\n",
       "    }\n",
       "</style>\n",
       "<table border=\"1\" class=\"dataframe\">\n",
       "  <thead>\n",
       "    <tr style=\"text-align: right;\">\n",
       "      <th></th>\n",
       "      <th>Valeur réelle</th>\n",
       "      <th>Valeur prédite</th>\n",
       "    </tr>\n",
       "  </thead>\n",
       "  <tbody>\n",
       "    <tr>\n",
       "      <th>1117</th>\n",
       "      <td>-0.261627</td>\n",
       "      <td>-0.307445</td>\n",
       "    </tr>\n",
       "    <tr>\n",
       "      <th>643</th>\n",
       "      <td>-0.326783</td>\n",
       "      <td>-0.315238</td>\n",
       "    </tr>\n",
       "    <tr>\n",
       "      <th>422</th>\n",
       "      <td>-0.259841</td>\n",
       "      <td>-0.225777</td>\n",
       "    </tr>\n",
       "    <tr>\n",
       "      <th>413</th>\n",
       "      <td>-0.148560</td>\n",
       "      <td>-0.210038</td>\n",
       "    </tr>\n",
       "    <tr>\n",
       "      <th>451</th>\n",
       "      <td>0.181916</td>\n",
       "      <td>0.465916</td>\n",
       "    </tr>\n",
       "    <tr>\n",
       "      <th>...</th>\n",
       "      <td>...</td>\n",
       "      <td>...</td>\n",
       "    </tr>\n",
       "    <tr>\n",
       "      <th>610</th>\n",
       "      <td>-0.297700</td>\n",
       "      <td>-0.267000</td>\n",
       "    </tr>\n",
       "    <tr>\n",
       "      <th>1343</th>\n",
       "      <td>-0.288968</td>\n",
       "      <td>-0.284210</td>\n",
       "    </tr>\n",
       "    <tr>\n",
       "      <th>654</th>\n",
       "      <td>-0.222688</td>\n",
       "      <td>-0.181117</td>\n",
       "    </tr>\n",
       "    <tr>\n",
       "      <th>619</th>\n",
       "      <td>-0.298864</td>\n",
       "      <td>-0.277341</td>\n",
       "    </tr>\n",
       "    <tr>\n",
       "      <th>382</th>\n",
       "      <td>0.471964</td>\n",
       "      <td>0.220984</td>\n",
       "    </tr>\n",
       "  </tbody>\n",
       "</table>\n",
       "<p>301 rows × 2 columns</p>\n",
       "</div>"
      ],
      "text/plain": [
       "      Valeur réelle  Valeur prédite\n",
       "1117      -0.261627       -0.307445\n",
       "643       -0.326783       -0.315238\n",
       "422       -0.259841       -0.225777\n",
       "413       -0.148560       -0.210038\n",
       "451        0.181916        0.465916\n",
       "...             ...             ...\n",
       "610       -0.297700       -0.267000\n",
       "1343      -0.288968       -0.284210\n",
       "654       -0.222688       -0.181117\n",
       "619       -0.298864       -0.277341\n",
       "382        0.471964        0.220984\n",
       "\n",
       "[301 rows x 2 columns]"
      ]
     },
     "execution_count": 362,
     "metadata": {},
     "output_type": "execute_result"
    }
   ],
   "source": [
    "tab_xgbr_seuwn=pd.DataFrame({'Valeur réelle':y_test_seuwn, 'Valeur prédite':y_xgbr_seuwn_pred})\n",
    "tab_xgbr_seuwn"
   ]
  },
  {
   "cell_type": "code",
   "execution_count": 363,
   "id": "e8876d2a",
   "metadata": {
    "scrolled": true
   },
   "outputs": [
    {
     "data": {
      "text/plain": [
       "Text(0, 0.5, 'Valeurs prédictes')"
      ]
     },
     "execution_count": 363,
     "metadata": {},
     "output_type": "execute_result"
    },
    {
     "data": {
      "image/png": "[encoded data removed]",
      "text/plain": [
       "<Figure size 432x288 with 1 Axes>"
      ]
     },
     "metadata": {},
     "output_type": "display_data"
    }
   ],
   "source": [
    "plt.title(\"XGBRegressor  - SiteEnergyUseWN(kBtu)\")\n",
    "plt.scatter(y_test_seuwn, y_xgbr_seuwn_pred, color='coral')\n",
    "plt.xlabel(\"Vraies valeurs\")\n",
    "plt.ylabel(\"Valeurs prédictes\")"
   ]
  },
  {
   "cell_type": "markdown",
   "id": "abb3c436",
   "metadata": {},
   "source": [
    "### Feature Importance\n",
    "Regardons comment chaque variable à influencé le modèle XGBoost"
   ]
  },
  {
   "cell_type": "code",
   "execution_count": 459,
   "id": "8cb21187",
   "metadata": {
    "scrolled": false
   },
   "outputs": [
    {
     "data": {
      "text/plain": [
       "Text(0.5, 0, 'Xgboost Feature Importance')"
      ]
     },
     "execution_count": 459,
     "metadata": {},
     "output_type": "execute_result"
    },
    {
     "data": {
      "image/png": "[encoded data removed]",
      "text/plain": [
       "<Figure size 576x864 with 1 Axes>"
      ]
     },
     "metadata": {},
     "output_type": "display_data"
    }
   ],
   "source": [
    "liste_variables=X_test_seuwn.columns\n",
    "importances = xgbr.best_estimator_.feature_importances_\n",
    "indices = np.argsort(importances)\n",
    "\n",
    "# style du graphique \n",
    "plt.figure(figsize=(8,12))\n",
    "plt.style.use('fivethirtyeight')\n",
    "plt.title('Feature Importances')\n",
    "plt.barh(range(len(indices)), importances[indices], color='b', align='center')\n",
    "plt.yticks(range(len(indices)), [liste_variables[i] for i in indices])\n",
    "plt.xlabel(\"Xgboost Feature Importance\")\n"
   ]
  },
  {
   "cell_type": "markdown",
   "id": "5630e581",
   "metadata": {},
   "source": [
    "### On observe que si on veut avoir un modèle précis, on doit garder les 5 features suivants \"PrimaryPropertyType\", \"PropertyGFATotal\", \"Building_Type\", \"Distance\" et \"NumberofFloors\"."
   ]
  },
  {
   "cell_type": "code",
   "execution_count": null,
   "id": "4e1e8d25",
   "metadata": {},
   "outputs": [],
   "source": []
  }
 ],
 "metadata": {
  "kernelspec": {
   "display_name": "Python 3",
   "language": "python",
   "name": "python3"
  },
  "language_info": {
   "codemirror_mode": {
    "name": "ipython",
    "version": 3
   },
   "file_extension": ".py",
   "mimetype": "text/x-python",
   "name": "python",
   "nbconvert_exporter": "python",
   "pygments_lexer": "ipython3",
   "version": "3.8.8"
  }
 },
 "nbformat": 4,
 "nbformat_minor": 5
}
